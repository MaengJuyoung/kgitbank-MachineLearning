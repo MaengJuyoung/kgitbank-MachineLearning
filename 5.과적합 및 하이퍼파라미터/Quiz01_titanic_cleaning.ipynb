{
 "cells": [
  {
   "cell_type": "markdown",
   "id": "26dc54f7-b13a-4bea-8347-7d9bc81fdf3f",
   "metadata": {},
   "source": [
    "# 1. 각각 분류기(알고리즘)로 평가하시오. (titanic_cleaning.csv)\n",
    "* 평가하는 경우 스케일 없는 경우와 스케일 있는 경우 다 평가하시오\n",
    "* 스케일 : StandardScaler, MinManScaler\n",
    "* 분류기\n",
    "    - SVC(linear, rbf)\n",
    "    - KNeighborsClassifier\n",
    "    - Voting(SVC-rbf, KNeighborsClassifier)\n",
    "    - RandomForest\n",
    "    - GBM(Gradient Boosting Machine"
   ]
  },
  {
   "cell_type": "code",
   "execution_count": 2,
   "id": "a1803876-2114-4e93-8a31-c33e4e922197",
   "metadata": {},
   "outputs": [],
   "source": [
    "from sklearn.preprocessing import StandardScaler, MinMaxScaler\n",
    "from sklearn.model_selection import train_test_split\n",
    "from sklearn.svm import SVC\n",
    "from sklearn.neighbors import KNeighborsClassifier\n",
    "from sklearn.ensemble import VotingClassifier, RandomForestClassifier, GradientBoostingClassifier\n",
    "\n",
    "import pandas as pd\n",
    "import warnings\n",
    "warnings.filterwarnings('ignore')"
   ]
  },
  {
   "cell_type": "markdown",
   "id": "8649170c-3ea8-4916-9e22-c663b6d543d1",
   "metadata": {},
   "source": [
    "# 2. 데이터셋 로드 "
   ]
  },
  {
   "cell_type": "code",
   "execution_count": 3,
   "id": "f0f4f77c-41dd-46cb-b093-0202531abf8c",
   "metadata": {},
   "outputs": [
    {
     "data": {
      "text/html": [
       "<div>\n",
       "<style scoped>\n",
       "    .dataframe tbody tr th:only-of-type {\n",
       "        vertical-align: middle;\n",
       "    }\n",
       "\n",
       "    .dataframe tbody tr th {\n",
       "        vertical-align: top;\n",
       "    }\n",
       "\n",
       "    .dataframe thead th {\n",
       "        text-align: right;\n",
       "    }\n",
       "</style>\n",
       "<table border=\"1\" class=\"dataframe\">\n",
       "  <thead>\n",
       "    <tr style=\"text-align: right;\">\n",
       "      <th></th>\n",
       "      <th>PassengerId</th>\n",
       "      <th>Survived</th>\n",
       "      <th>Pclass</th>\n",
       "      <th>Sex</th>\n",
       "      <th>Age</th>\n",
       "      <th>SibSp</th>\n",
       "      <th>Parch</th>\n",
       "      <th>Fare</th>\n",
       "    </tr>\n",
       "  </thead>\n",
       "  <tbody>\n",
       "    <tr>\n",
       "      <th>0</th>\n",
       "      <td>1</td>\n",
       "      <td>0</td>\n",
       "      <td>3</td>\n",
       "      <td>0</td>\n",
       "      <td>22.0</td>\n",
       "      <td>1</td>\n",
       "      <td>0</td>\n",
       "      <td>7.2500</td>\n",
       "    </tr>\n",
       "    <tr>\n",
       "      <th>1</th>\n",
       "      <td>2</td>\n",
       "      <td>1</td>\n",
       "      <td>1</td>\n",
       "      <td>1</td>\n",
       "      <td>38.0</td>\n",
       "      <td>1</td>\n",
       "      <td>0</td>\n",
       "      <td>71.2833</td>\n",
       "    </tr>\n",
       "    <tr>\n",
       "      <th>2</th>\n",
       "      <td>3</td>\n",
       "      <td>1</td>\n",
       "      <td>3</td>\n",
       "      <td>1</td>\n",
       "      <td>26.0</td>\n",
       "      <td>0</td>\n",
       "      <td>0</td>\n",
       "      <td>7.9250</td>\n",
       "    </tr>\n",
       "    <tr>\n",
       "      <th>3</th>\n",
       "      <td>4</td>\n",
       "      <td>1</td>\n",
       "      <td>1</td>\n",
       "      <td>1</td>\n",
       "      <td>35.0</td>\n",
       "      <td>1</td>\n",
       "      <td>0</td>\n",
       "      <td>53.1000</td>\n",
       "    </tr>\n",
       "    <tr>\n",
       "      <th>4</th>\n",
       "      <td>5</td>\n",
       "      <td>0</td>\n",
       "      <td>3</td>\n",
       "      <td>0</td>\n",
       "      <td>35.0</td>\n",
       "      <td>0</td>\n",
       "      <td>0</td>\n",
       "      <td>8.0500</td>\n",
       "    </tr>\n",
       "  </tbody>\n",
       "</table>\n",
       "</div>"
      ],
      "text/plain": [
       "   PassengerId  Survived  Pclass  Sex   Age  SibSp  Parch     Fare\n",
       "0            1         0       3    0  22.0      1      0   7.2500\n",
       "1            2         1       1    1  38.0      1      0  71.2833\n",
       "2            3         1       3    1  26.0      0      0   7.9250\n",
       "3            4         1       1    1  35.0      1      0  53.1000\n",
       "4            5         0       3    0  35.0      0      0   8.0500"
      ]
     },
     "execution_count": 3,
     "metadata": {},
     "output_type": "execute_result"
    }
   ],
   "source": [
    "df = pd.read_csv('../data_set/5.스케일링/titanic_cleaning.csv')\n",
    "df.head()"
   ]
  },
  {
   "cell_type": "markdown",
   "id": "a3aaa48c-0f43-416d-ae1f-c90a2bdf67e0",
   "metadata": {},
   "source": [
    "# 3. feature, label 분리"
   ]
  },
  {
   "cell_type": "code",
   "execution_count": 4,
   "id": "57ec4b7a-eecf-4fde-bf31-154f22691def",
   "metadata": {},
   "outputs": [
    {
     "data": {
      "text/plain": [
       "Index(['PassengerId', 'Survived', 'Pclass', 'Sex', 'Age', 'SibSp', 'Parch',\n",
       "       'Fare'],\n",
       "      dtype='object')"
      ]
     },
     "execution_count": 4,
     "metadata": {},
     "output_type": "execute_result"
    }
   ],
   "source": [
    "df.columns"
   ]
  },
  {
   "cell_type": "code",
   "execution_count": 5,
   "id": "1002cedf-0d2b-4bc4-84c4-8ef4773c72ab",
   "metadata": {},
   "outputs": [],
   "source": [
    "# 이전과 마찬가지로 번호(PassengerId)는 제외한다. \n",
    "features = ['Pclass', 'Sex', 'Age', 'SibSp', 'Parch', 'Fare']\n",
    "label = 'Survived'\n",
    "X, y = df[features], df[label]"
   ]
  },
  {
   "cell_type": "markdown",
   "id": "6a6750c9-523c-4685-aeb8-ad01b50bf066",
   "metadata": {},
   "source": [
    "# 4. 스케일 객체 생성 및 분리\n",
    "## 4.1 StandardScaler"
   ]
  },
  {
   "cell_type": "code",
   "execution_count": 6,
   "id": "c2e46710-18f3-4f4a-b3be-60d31a23242a",
   "metadata": {},
   "outputs": [],
   "source": [
    "standard_s = StandardScaler()\n",
    "standard_s.fit(X)\n",
    "\n",
    "X_standard = standard_s.transform(X)"
   ]
  },
  {
   "cell_type": "markdown",
   "id": "6ee3108a-d9c4-4a09-9e1a-66f421130928",
   "metadata": {},
   "source": [
    "## 4.2 MinMaxScaler"
   ]
  },
  {
   "cell_type": "code",
   "execution_count": 7,
   "id": "89086a2d-b998-48e8-9da8-11c98528386d",
   "metadata": {},
   "outputs": [],
   "source": [
    "min_max_s = MinMaxScaler()\n",
    "min_max_s.fit(X)\n",
    "X_min_max = min_max_s.transform(X)"
   ]
  },
  {
   "cell_type": "markdown",
   "id": "b2f5720f-9ab8-4e1e-a84e-f3be8768326b",
   "metadata": {},
   "source": [
    "## 4.3 훈련, 테스트 데이터 분리"
   ]
  },
  {
   "cell_type": "code",
   "execution_count": 8,
   "id": "406ac171-c7d8-4629-a763-c28a16acb729",
   "metadata": {},
   "outputs": [],
   "source": [
    "# 스케일 전 train, test 셋\n",
    "X_train, X_test, y_train, y_test = train_test_split(X, y, test_size=0.2, random_state=62)\n",
    "\n",
    "# StandardScaler - train, test 셋\n",
    "X_train_standard, X_test_standard, y_train, y_test = train_test_split(X_standard, y, test_size=0.2, random_state=62)\n",
    "\n",
    "# MinMaxScaler - train, test 셋\n",
    "X_train_min_max, X_test_min_max, y_train, y_test = train_test_split(X_min_max, y, test_size=0.2, random_state=62)"
   ]
  },
  {
   "cell_type": "markdown",
   "id": "36734698-22d4-4fbe-9655-0654a39515df",
   "metadata": {},
   "source": [
    "# 5. 모델 생성 및 평가\n",
    "## 5.1 svc-linear 모델\n",
    "### 5.1.1 스케일 전 평가"
   ]
  },
  {
   "cell_type": "code",
   "execution_count": 10,
   "id": "409a6722-5ec0-48d2-a943-f31871538047",
   "metadata": {},
   "outputs": [
    {
     "name": "stdout",
     "output_type": "stream",
     "text": [
      "---- 스케일 전 결과 ----\n",
      "train :  0.7893258426966292\n",
      "test  :  0.776536312849162\n"
     ]
    }
   ],
   "source": [
    "svc_linear = SVC(kernel=\"linear\")\n",
    "svc_linear.fit(X_train, y_train)\n",
    "print('---- 스케일 전 결과 ----')\n",
    "print(\"train : \", svc_linear.score(X_train, y_train))\n",
    "print('test  : ', svc_linear.score(X_test, y_test))"
   ]
  },
  {
   "cell_type": "markdown",
   "id": "82e7ced6-7751-432c-a838-244587f33359",
   "metadata": {},
   "source": [
    "### 5.1.2 StandardScaler 평가"
   ]
  },
  {
   "cell_type": "code",
   "execution_count": 12,
   "id": "6364ae79-42eb-4608-b6a6-cc92383be073",
   "metadata": {},
   "outputs": [
    {
     "name": "stdout",
     "output_type": "stream",
     "text": [
      "---- StandardScaler 결과 ----\n",
      "train :  0.7893258426966292\n",
      "test  :  0.776536312849162\n"
     ]
    }
   ],
   "source": [
    "svc_scaler = SVC(kernel=\"linear\")\n",
    "svc_scaler.fit(X_train_standard, y_train)\n",
    "print('---- StandardScaler 결과 ----')\n",
    "print(\"train : \", svc_scaler.score(X_train_standard, y_train))\n",
    "print('test  : ', svc_scaler.score(X_test_standard, y_test))"
   ]
  },
  {
   "cell_type": "markdown",
   "id": "2749b7d3-c397-42d7-96c5-b3f3152c6ff8",
   "metadata": {},
   "source": [
    "### 5.1.3 MinMaxScaler 평가"
   ]
  },
  {
   "cell_type": "code",
   "execution_count": 13,
   "id": "50d38ca0-53e8-48a1-add8-6f237b5b4a40",
   "metadata": {},
   "outputs": [
    {
     "name": "stdout",
     "output_type": "stream",
     "text": [
      "---- MinMaxScaler 결과 ----\n",
      "train :  0.7893258426966292\n",
      "test  :  0.776536312849162\n"
     ]
    }
   ],
   "source": [
    "svc_min_max = SVC(kernel=\"linear\")\n",
    "svc_min_max.fit(X_train_min_max, y_train)\n",
    "print('---- MinMaxScaler 결과 ----')\n",
    "print(\"train : \", svc_min_max.score(X_train_min_max, y_train))\n",
    "print('test  : ', svc_min_max.score(X_test_min_max, y_test))"
   ]
  },
  {
   "cell_type": "markdown",
   "id": "050c2762-70a7-4602-8a1e-a2124c6568dc",
   "metadata": {},
   "source": [
    "결과적으로 스케일을 하면 연산 속도는 확실히 빨라진 것을 알 수 있다. "
   ]
  },
  {
   "cell_type": "markdown",
   "id": "6c4f1211-4013-48fd-8fd8-93e7dabdcdb0",
   "metadata": {},
   "source": [
    "## 5.2 svc-rbf 모델\n",
    "### 5.2.1 스케일 전 평가"
   ]
  },
  {
   "cell_type": "code",
   "execution_count": 14,
   "id": "ce100feb-8a87-4648-8d9b-62a1a638655d",
   "metadata": {},
   "outputs": [
    {
     "name": "stdout",
     "output_type": "stream",
     "text": [
      "---- 스케일 전 결과 ----\n",
      "train :  0.6811797752808989\n",
      "test  :  0.6145251396648045\n"
     ]
    }
   ],
   "source": [
    "svc_rbf = SVC(kernel=\"rbf\")\n",
    "svc_rbf.fit(X_train, y_train)\n",
    "print('---- 스케일 전 결과 ----')\n",
    "print(\"train : \", svc_rbf.score(X_train, y_train))\n",
    "print('test  : ', svc_rbf.score(X_test, y_test))"
   ]
  },
  {
   "cell_type": "markdown",
   "id": "85df9268-b8ca-447e-b506-e44fb6b0af30",
   "metadata": {},
   "source": [
    "### 5.2.2 StandardScaler 평가"
   ]
  },
  {
   "cell_type": "code",
   "execution_count": 15,
   "id": "89ee39fe-0b06-480e-9170-33e281031717",
   "metadata": {},
   "outputs": [
    {
     "name": "stdout",
     "output_type": "stream",
     "text": [
      "---- StandardScaler 결과 ----\n",
      "train :  0.8370786516853933\n",
      "test  :  0.8100558659217877\n"
     ]
    }
   ],
   "source": [
    "svc_standard = SVC(kernel=\"rbf\")\n",
    "svc_standard.fit(X_train_standard, y_train)\n",
    "print('---- StandardScaler 결과 ----')\n",
    "print(\"train : \", svc_standard.score(X_train_standard, y_train))\n",
    "print('test  : ', svc_standard.score(X_test_standard, y_test))"
   ]
  },
  {
   "cell_type": "markdown",
   "id": "180fe47c-1621-4b05-8958-ca11c9b33072",
   "metadata": {},
   "source": [
    "### 5.2.3 MinMaxScaler 평가"
   ]
  },
  {
   "cell_type": "code",
   "execution_count": 16,
   "id": "73662b8e-cf9f-4905-ad3c-7b719e86156f",
   "metadata": {},
   "outputs": [
    {
     "name": "stdout",
     "output_type": "stream",
     "text": [
      "---- MinMaxScaler 결과 ----\n",
      "train :  0.8174157303370787\n",
      "test  :  0.7932960893854749\n"
     ]
    }
   ],
   "source": [
    "svc_min_max = SVC(kernel=\"rbf\")\n",
    "svc_min_max.fit(X_train_min_max, y_train)\n",
    "print('---- MinMaxScaler 결과 ----')\n",
    "print(\"train : \", svc_min_max.score(X_train_min_max, y_train))\n",
    "print('test  : ', svc_min_max.score(X_test_min_max, y_test))"
   ]
  },
  {
   "cell_type": "markdown",
   "id": "04b93ea8-0fbf-401d-9c8e-cd4645674d9d",
   "metadata": {},
   "source": [
    "이전과 다르게 연산속도는 비슷하나 예측력이 높아진 것을 알 수 있다. "
   ]
  },
  {
   "cell_type": "markdown",
   "id": "cdff8e59-ce30-4374-be9a-10b82eebfe34",
   "metadata": {},
   "source": [
    "## 5.3 KNeighborsClassifier 모델\n",
    "### 5.3.1 스케일 전 모델 평가"
   ]
  },
  {
   "cell_type": "code",
   "execution_count": 17,
   "id": "d461ce86-1880-4e4f-a1fa-26c01520d227",
   "metadata": {},
   "outputs": [
    {
     "name": "stdout",
     "output_type": "stream",
     "text": [
      "---- KNeighbors 결과 ----\n",
      "train :  0.8019662921348315\n",
      "test  :  0.6815642458100558\n"
     ]
    }
   ],
   "source": [
    "kn = KNeighborsClassifier()\n",
    "kn.fit(X_train, y_train)\n",
    "print('---- KNeighbors 결과 ----')\n",
    "print(\"train : \", kn.score(X_train, y_train))\n",
    "print('test  : ', kn.score(X_test, y_test))"
   ]
  },
  {
   "cell_type": "markdown",
   "id": "6263892f-0ba4-4649-9b10-04c9bcadb1ab",
   "metadata": {},
   "source": [
    "### 5.3.2 StandardScaler 평가"
   ]
  },
  {
   "cell_type": "code",
   "execution_count": 18,
   "id": "33e0edaf-6c6a-4b6f-a5d3-6fc753a42474",
   "metadata": {},
   "outputs": [
    {
     "name": "stdout",
     "output_type": "stream",
     "text": [
      "---- StandardScaler 결과 ----\n",
      "train :  0.8581460674157303\n",
      "test  :  0.8100558659217877\n"
     ]
    }
   ],
   "source": [
    "kn_standard = KNeighborsClassifier()\n",
    "kn_standard.fit(X_train_standard, y_train)\n",
    "print('---- StandardScaler 결과 ----')\n",
    "print(\"train : \", kn_standard.score(X_train_standard, y_train))\n",
    "print('test  : ', kn_standard.score(X_test_standard, y_test))"
   ]
  },
  {
   "cell_type": "markdown",
   "id": "b3b8aef4-f896-4bd4-b393-30f9e9da3c7e",
   "metadata": {},
   "source": [
    "### 5.3.3 MinMaxScaler 평가"
   ]
  },
  {
   "cell_type": "code",
   "execution_count": 19,
   "id": "b505ffbe-ade9-4eca-ad2d-297944fd459c",
   "metadata": {},
   "outputs": [
    {
     "name": "stdout",
     "output_type": "stream",
     "text": [
      "---- MinMaxScaler 결과 ----\n",
      "train :  0.8623595505617978\n",
      "test  :  0.8212290502793296\n"
     ]
    }
   ],
   "source": [
    "kn_min_max = KNeighborsClassifier()\n",
    "kn_min_max.fit(X_train_min_max, y_train)\n",
    "print('---- MinMaxScaler 결과 ----')\n",
    "print(\"train : \", kn_min_max.score(X_train_min_max, y_train))\n",
    "print('test  : ', kn_min_max.score(X_test_min_max, y_test))"
   ]
  },
  {
   "cell_type": "markdown",
   "id": "707b0eb2-7879-4218-a90c-ae5c841cc5a0",
   "metadata": {},
   "source": [
    "처리 속도는 비슷해 보이지만 과적합과 예측력이 좋아진 것을 알 수 있다. "
   ]
  },
  {
   "cell_type": "markdown",
   "id": "da69946b-5a07-437b-9864-56df55aa9710",
   "metadata": {},
   "source": [
    "## 5.4 Ensemble\n",
    "### 5.4.1 voting\n",
    "* svc(rbf), KNeighbors 평가"
   ]
  },
  {
   "cell_type": "code",
   "execution_count": 21,
   "id": "8cc5a9dc-0a69-4192-95d2-8537b7d3d976",
   "metadata": {},
   "outputs": [
    {
     "name": "stdout",
     "output_type": "stream",
     "text": [
      "---- Voting 결과 ----\n",
      "train :  0.776685393258427\n",
      "test  :  0.659217877094972\n"
     ]
    }
   ],
   "source": [
    "rbf = SVC(kernel='rbf', probability=True)\n",
    "kn = KNeighborsClassifier()\n",
    "vo = VotingClassifier(estimators=[('svc', rbf), ('knn', kn)], voting='soft')\n",
    "vo.fit(X_train, y_train)\n",
    "print('---- Voting 결과 ----')\n",
    "print('train : ', vo.score(X_train, y_train))\n",
    "print('test  : ', vo.score(X_test, y_test))"
   ]
  },
  {
   "cell_type": "markdown",
   "id": "9ac945bb-afc9-4124-8e6b-2bb6fcc6ba47",
   "metadata": {},
   "source": [
    "### 5.4.2 StandardScaler 평가"
   ]
  },
  {
   "cell_type": "code",
   "execution_count": 22,
   "id": "944ad8ef-f1a4-4f47-90ae-46eaf8fd2832",
   "metadata": {},
   "outputs": [
    {
     "name": "stdout",
     "output_type": "stream",
     "text": [
      "---- StandardScaler 결과 ----\n",
      "train :  0.8370786516853933\n",
      "test  :  0.8212290502793296\n"
     ]
    }
   ],
   "source": [
    "vo_standard = VotingClassifier(estimators=[('svc', rbf), ('knn', kn)], voting='soft')\n",
    "vo_standard.fit(X_train_standard, y_train)\n",
    "print('---- StandardScaler 결과 ----')\n",
    "print(\"train : \", vo_standard.score(X_train_standard, y_train))\n",
    "print('test  : ', vo_standard.score(X_test_standard, y_test))"
   ]
  },
  {
   "cell_type": "markdown",
   "id": "5a5fcfb7-3eac-485a-a7eb-fa24ad2553ec",
   "metadata": {},
   "source": [
    "### 5.4.3 MinMaxScaler 평가"
   ]
  },
  {
   "cell_type": "code",
   "execution_count": 23,
   "id": "b0e91a77-1841-45ba-b683-57e6d82b41a9",
   "metadata": {},
   "outputs": [
    {
     "name": "stdout",
     "output_type": "stream",
     "text": [
      "---- MinMaxScaler 결과 ----\n",
      "train :  0.8412921348314607\n",
      "test  :  0.8100558659217877\n"
     ]
    }
   ],
   "source": [
    "vo_min_max = VotingClassifier(estimators=[('svc', rbf), ('knn', kn)], voting='soft')\n",
    "vo_min_max.fit(X_train_min_max, y_train)\n",
    "print('---- MinMaxScaler 결과 ----')\n",
    "print(\"train : \", vo_min_max.score(X_train_min_max, y_train))\n",
    "print('test  : ', vo_min_max.score(X_test_min_max, y_test))"
   ]
  },
  {
   "cell_type": "markdown",
   "id": "91ed8153-36bc-4afd-b09e-e29c4419d116",
   "metadata": {},
   "source": [
    "이전과 동일하게 과적합, 예측력이 좋아진다. "
   ]
  },
  {
   "cell_type": "markdown",
   "id": "dab61ac4-1291-4484-bffd-2486be1215b0",
   "metadata": {},
   "source": [
    "## 5.5 RandomForestClassifier\n",
    "### 5.5.1 스케일 전 평가"
   ]
  },
  {
   "cell_type": "code",
   "execution_count": 24,
   "id": "15e7fc41-1600-4ef4-8df2-c3ac43adac0e",
   "metadata": {},
   "outputs": [
    {
     "name": "stdout",
     "output_type": "stream",
     "text": [
      "---- RandomForest 결과 ----\n",
      "train :  0.9845505617977528\n",
      "test  :  0.7932960893854749\n"
     ]
    }
   ],
   "source": [
    "rfc = RandomForestClassifier()\n",
    "rfc.fit(X_train, y_train)\n",
    "print('---- RandomForest 결과 ----')\n",
    "print('train : ', rfc.score(X_train, y_train))\n",
    "print('test  : ', rfc.score(X_test, y_test))"
   ]
  },
  {
   "cell_type": "markdown",
   "id": "2ddea241-f0c6-42ba-b3a5-a7c48f8994e3",
   "metadata": {},
   "source": [
    "### 5.5.2 StandardScaler 평가"
   ]
  },
  {
   "cell_type": "code",
   "execution_count": 25,
   "id": "2fd38777-44f1-41f8-a5e0-652a43a07328",
   "metadata": {},
   "outputs": [
    {
     "name": "stdout",
     "output_type": "stream",
     "text": [
      "---- StandardScaler 결과 ----\n",
      "train :  0.9845505617977528\n",
      "test  :  0.7932960893854749\n"
     ]
    }
   ],
   "source": [
    "rfc_standard = RandomForestClassifier()\n",
    "rfc_standard.fit(X_train_standard, y_train)\n",
    "print('---- StandardScaler 결과 ----')\n",
    "print(\"train : \", rfc_standard.score(X_train_standard, y_train))\n",
    "print('test  : ', rfc_standard.score(X_test_standard, y_test))"
   ]
  },
  {
   "cell_type": "markdown",
   "id": "7f016d5f-f73c-405d-85ff-fde9edf1df16",
   "metadata": {},
   "source": [
    "### 5.5.3 MinMaxScaler 평가"
   ]
  },
  {
   "cell_type": "code",
   "execution_count": 26,
   "id": "3c895246-1487-40e0-8c06-202ba64b45c0",
   "metadata": {},
   "outputs": [
    {
     "name": "stdout",
     "output_type": "stream",
     "text": [
      "---- MinMaxScaler 결과 ----\n",
      "train :  0.9845505617977528\n",
      "test  :  0.7932960893854749\n"
     ]
    }
   ],
   "source": [
    "rfc_min_max = RandomForestClassifier()\n",
    "rfc_min_max.fit(X_train_min_max, y_train)\n",
    "print('---- MinMaxScaler 결과 ----')\n",
    "print(\"train : \", rfc_min_max.score(X_train_min_max, y_train))\n",
    "print('test  : ', rfc_min_max.score(X_test_min_max, y_test))"
   ]
  },
  {
   "cell_type": "markdown",
   "id": "e25ac83f-825f-49cc-b4ce-ff92f5f97b23",
   "metadata": {},
   "source": [
    "랜덤 포레스트는 이전 모델과 다르게 스케일의 영향이 적은 것으로 나온다. 그래서 tree 계열은 따로 스케일 할 필요가 없다. "
   ]
  },
  {
   "cell_type": "markdown",
   "id": "e896b73a-f134-426e-a8be-5467415ae681",
   "metadata": {},
   "source": [
    "## 5.6 GBM\n",
    "### 5.6.1 스케일 전 평가"
   ]
  },
  {
   "cell_type": "code",
   "execution_count": 27,
   "id": "21f6f306-71b1-4688-9f51-3eb90baf5607",
   "metadata": {},
   "outputs": [
    {
     "name": "stdout",
     "output_type": "stream",
     "text": [
      "---- GradientBoosting 결과 ----\n",
      "train :  0.9030898876404494\n",
      "test  :  0.8324022346368715\n"
     ]
    }
   ],
   "source": [
    "gbc = GradientBoostingClassifier()\n",
    "gbc.fit(X_train, y_train)\n",
    "print('---- GradientBoosting 결과 ----')\n",
    "print('train : ', gbc.score(X_train, y_train))\n",
    "print('test  : ', gbc.score(X_test, y_test))"
   ]
  },
  {
   "cell_type": "markdown",
   "id": "4dac0ed9-a46b-40f2-bb4e-b5b7f5eed221",
   "metadata": {},
   "source": [
    "### 5.6.2 StandardScaler 평가"
   ]
  },
  {
   "cell_type": "code",
   "execution_count": 28,
   "id": "68cdd8c5-6787-4241-bff0-3c9167049a17",
   "metadata": {},
   "outputs": [
    {
     "name": "stdout",
     "output_type": "stream",
     "text": [
      "---- StandardScaler 결과 ----\n",
      "train :  0.9030898876404494\n",
      "test  :  0.8324022346368715\n"
     ]
    }
   ],
   "source": [
    "gbc_standard = GradientBoostingClassifier()\n",
    "gbc_standard.fit(X_train_standard, y_train)\n",
    "print('---- StandardScaler 결과 ----')\n",
    "print(\"train : \", gbc_standard.score(X_train_standard, y_train))\n",
    "print('test  : ', gbc_standard.score(X_test_standard, y_test))"
   ]
  },
  {
   "cell_type": "markdown",
   "id": "564f4eeb-9220-4b80-8878-21cc1997a5cb",
   "metadata": {},
   "source": [
    "### 5.6.3 MinMaxScaler 평가"
   ]
  },
  {
   "cell_type": "code",
   "execution_count": 29,
   "id": "db02de59-f41e-4de7-bc2d-aa8706d53273",
   "metadata": {},
   "outputs": [
    {
     "name": "stdout",
     "output_type": "stream",
     "text": [
      "---- MinMaxScaler 결과 ----\n",
      "train :  0.9030898876404494\n",
      "test  :  0.8324022346368715\n"
     ]
    }
   ],
   "source": [
    "gbc_min_max = GradientBoostingClassifier()\n",
    "gbc_min_max.fit(X_train_min_max, y_train)\n",
    "print('---- MinMaxScaler 결과 ----')\n",
    "print(\"train : \", gbc_min_max.score(X_train_min_max, y_train))\n",
    "print('test  : ', gbc_min_max.score(X_test_min_max, y_test))"
   ]
  },
  {
   "cell_type": "markdown",
   "id": "005743d3-b2f9-405a-b3e5-7593a78eef35",
   "metadata": {},
   "source": [
    "그래디언 부스팅은 평가점수는 높아졌지만 과적합 수치는 올라갔다. "
   ]
  }
 ],
 "metadata": {
  "kernelspec": {
   "display_name": "Python 3 (ipykernel)",
   "language": "python",
   "name": "python3"
  },
  "language_info": {
   "codemirror_mode": {
    "name": "ipython",
    "version": 3
   },
   "file_extension": ".py",
   "mimetype": "text/x-python",
   "name": "python",
   "nbconvert_exporter": "python",
   "pygments_lexer": "ipython3",
   "version": "3.11.7"
  }
 },
 "nbformat": 4,
 "nbformat_minor": 5
}
