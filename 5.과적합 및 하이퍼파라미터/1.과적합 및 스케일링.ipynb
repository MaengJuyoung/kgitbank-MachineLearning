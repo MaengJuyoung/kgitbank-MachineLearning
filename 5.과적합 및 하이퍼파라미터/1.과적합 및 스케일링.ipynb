{
 "cells": [
  {
   "cell_type": "markdown",
   "id": "b6cce885-a0d4-4397-9497-b8e8af973503",
   "metadata": {},
   "source": [
    "### 과대적합과 과소적합\n",
    "<img src=\"../images/과대_과소적합-1.png\" width=\"500\" height=\"600\" />\n",
    "\n",
    "#### 과대적합(overfitting)\n",
    "* 훈련데이터에만 잘 맞고 테스트데이터에는 낮은 정답률이 나오는 경우\n",
    "\n",
    "<img src=\"../images/과대적합.png\" width=\"\" height=\"\" />\n",
    "\n",
    "#### 과소적합(underfitting)\n",
    "* 훈련이 제대로 이루어지지 않아 테스트 데이터보다 훈련데이터의 정답률이 낮은 경우\n",
    "* 훈련, 테스트데이터 모두 정답률이 낮은 경우\n",
    "* 훈련데이터의 개수가 적을 경우\n",
    "\n",
    "<img src=\"../images/과소적합.png\" width=\"\" height=\"\" />\n",
    "\n",
    "---ht=\"\" />\r\n",
    "\r\n",
    "---"
   ]
  },
  {
   "cell_type": "markdown",
   "id": "2323ad52-a8aa-41b1-91ac-580a36e4b440",
   "metadata": {},
   "source": [
    "### 스케일링\r\n",
    "* 수치형 데이터들의 값의 범위가 클 경우 사용한다.(연산 속도 증가)\r\n",
    "    - 예를 들어 주식의 가격을 생각했을 경우 100원의 1%와 100000원의 1%를 계산하고자 한다면 같은 1%연산이지만 숫자가 클 경우 연산속도에 영향을 미치게 된다.\r\n",
    "* 서로 다른 변수의 값 범위를 일정한 수준으로 맞추고자 하는 경우\r\n",
    "* 대표적 스케일링 클래스는 StandardScaler, MinMaxScaler이 있다\r\n",
    "* 사용 이유\r\n",
    "    - 연산속도를 올릴 수 있다\r\n",
    "    - 확률을 높일 수 있다\r\n",
    "    - 과대, 과소적합을 조금은 해결할 수 있다\r\n",
    "* 참고\r\n",
    "    - 이상치가 있을 경우 범위의 차이가 커지게 되므로 이상치는 제거해야 한다\r\n",
    "    - RandomForest는 따로 스케일링 할 필요가 없다.(tree계열은 따로 스케일 할 필요가 없다)"
   ]
  },
  {
   "cell_type": "markdown",
   "id": "5273426c-c22d-4e51-a743-bbabac6f0a9e",
   "metadata": {},
   "source": [
    "#### StandardScaler(label값은 스케일 하지 않는다)\n",
    "* 사이킷런에서 서포트벡터머신, 선형회귀, 로지스틱 회귀에 적용하는 것이 예측 성능 향상에 중요한 요소가 된다.\n",
    "* 각 특성의 평균을 0, 편차를 1로 변경하여 정규분포로 만드는 것이다\n",
    "    - 편차(deviation)는 예측값과 평균의 차이\n",
    "    \n",
    "<img src=\"../images/정규분포.png\" width=\"\" height=\"\" />\n",
    "\n",
    "#### MinMaxScaler(label값은 스케일 하지 않는다)\n",
    "* 모든 특성이 정확하게 0과 1사이에 위치하도록 데이터를 변경\n",
    "* k-means, k-nearest neighbor등의 알고리즘에 좋은 성능을 보인다은 성능을 보인다"
   ]
  },
  {
   "cell_type": "code",
   "execution_count": 1,
   "id": "79203dac-92db-4aa0-9483-757b28c3d360",
   "metadata": {},
   "outputs": [
    {
     "data": {
      "text/html": [
       "<div>\n",
       "<style scoped>\n",
       "    .dataframe tbody tr th:only-of-type {\n",
       "        vertical-align: middle;\n",
       "    }\n",
       "\n",
       "    .dataframe tbody tr th {\n",
       "        vertical-align: top;\n",
       "    }\n",
       "\n",
       "    .dataframe thead th {\n",
       "        text-align: right;\n",
       "    }\n",
       "</style>\n",
       "<table border=\"1\" class=\"dataframe\">\n",
       "  <thead>\n",
       "    <tr style=\"text-align: right;\">\n",
       "      <th></th>\n",
       "      <th>daum</th>\n",
       "      <th>naver</th>\n",
       "    </tr>\n",
       "  </thead>\n",
       "  <tbody>\n",
       "    <tr>\n",
       "      <th>0</th>\n",
       "      <td>2</td>\n",
       "      <td>1</td>\n",
       "    </tr>\n",
       "    <tr>\n",
       "      <th>1</th>\n",
       "      <td>4</td>\n",
       "      <td>2</td>\n",
       "    </tr>\n",
       "    <tr>\n",
       "      <th>2</th>\n",
       "      <td>6</td>\n",
       "      <td>3</td>\n",
       "    </tr>\n",
       "    <tr>\n",
       "      <th>3</th>\n",
       "      <td>8</td>\n",
       "      <td>4</td>\n",
       "    </tr>\n",
       "    <tr>\n",
       "      <th>4</th>\n",
       "      <td>10</td>\n",
       "      <td>5</td>\n",
       "    </tr>\n",
       "  </tbody>\n",
       "</table>\n",
       "</div>"
      ],
      "text/plain": [
       "   daum  naver\n",
       "0     2      1\n",
       "1     4      2\n",
       "2     6      3\n",
       "3     8      4\n",
       "4    10      5"
      ]
     },
     "execution_count": 1,
     "metadata": {},
     "output_type": "execute_result"
    }
   ],
   "source": [
    "import pandas as pd\n",
    "from sklearn.preprocessing import StandardScaler\n",
    "movie = {'daum':[2,4,6,8,10], 'naver':[1,2,3,4,5]}\n",
    "mv = pd.DataFrame(movie)\n",
    "mv"
   ]
  },
  {
   "cell_type": "code",
   "execution_count": 3,
   "id": "6b892384-8513-4423-9707-e3eb0137f004",
   "metadata": {},
   "outputs": [
    {
     "data": {
      "text/html": [
       "<div>\n",
       "<style scoped>\n",
       "    .dataframe tbody tr th:only-of-type {\n",
       "        vertical-align: middle;\n",
       "    }\n",
       "\n",
       "    .dataframe tbody tr th {\n",
       "        vertical-align: top;\n",
       "    }\n",
       "\n",
       "    .dataframe thead th {\n",
       "        text-align: right;\n",
       "    }\n",
       "</style>\n",
       "<table border=\"1\" class=\"dataframe\">\n",
       "  <thead>\n",
       "    <tr style=\"text-align: right;\">\n",
       "      <th></th>\n",
       "      <th>daum</th>\n",
       "      <th>naver</th>\n",
       "    </tr>\n",
       "  </thead>\n",
       "  <tbody>\n",
       "    <tr>\n",
       "      <th>0</th>\n",
       "      <td>-1.414214</td>\n",
       "      <td>-1.414214</td>\n",
       "    </tr>\n",
       "    <tr>\n",
       "      <th>1</th>\n",
       "      <td>-0.707107</td>\n",
       "      <td>-0.707107</td>\n",
       "    </tr>\n",
       "    <tr>\n",
       "      <th>2</th>\n",
       "      <td>0.000000</td>\n",
       "      <td>0.000000</td>\n",
       "    </tr>\n",
       "    <tr>\n",
       "      <th>3</th>\n",
       "      <td>0.707107</td>\n",
       "      <td>0.707107</td>\n",
       "    </tr>\n",
       "    <tr>\n",
       "      <th>4</th>\n",
       "      <td>1.414214</td>\n",
       "      <td>1.414214</td>\n",
       "    </tr>\n",
       "  </tbody>\n",
       "</table>\n",
       "</div>"
      ],
      "text/plain": [
       "       daum     naver\n",
       "0 -1.414214 -1.414214\n",
       "1 -0.707107 -0.707107\n",
       "2  0.000000  0.000000\n",
       "3  0.707107  0.707107\n",
       "4  1.414214  1.414214"
      ]
     },
     "execution_count": 3,
     "metadata": {},
     "output_type": "execute_result"
    }
   ],
   "source": [
    "st = StandardScaler()\n",
    "scaled = st.fit_transform(mv)\n",
    "mv = pd.DataFrame(data = scaled, columns=['daum', 'naver'])\n",
    "mv"
   ]
  },
  {
   "cell_type": "code",
   "execution_count": 4,
   "id": "f73695ba-ebd5-41f1-bcf0-e8fa19c12b5c",
   "metadata": {},
   "outputs": [
    {
     "data": {
      "text/plain": [
       "0.0"
      ]
     },
     "execution_count": 4,
     "metadata": {},
     "output_type": "execute_result"
    }
   ],
   "source": [
    "scaled.mean()"
   ]
  },
  {
   "cell_type": "code",
   "execution_count": 5,
   "id": "620c3794-4aa4-45d9-b18f-800013cb2540",
   "metadata": {},
   "outputs": [
    {
     "data": {
      "text/plain": [
       "1.0"
      ]
     },
     "execution_count": 5,
     "metadata": {},
     "output_type": "execute_result"
    }
   ],
   "source": [
    "round(scaled.std(), 2)"
   ]
  },
  {
   "cell_type": "code",
   "execution_count": 6,
   "id": "cefa77b4-515b-4bdf-9833-3b7f492d8758",
   "metadata": {},
   "outputs": [
    {
     "data": {
      "text/html": [
       "<div>\n",
       "<style scoped>\n",
       "    .dataframe tbody tr th:only-of-type {\n",
       "        vertical-align: middle;\n",
       "    }\n",
       "\n",
       "    .dataframe tbody tr th {\n",
       "        vertical-align: top;\n",
       "    }\n",
       "\n",
       "    .dataframe thead th {\n",
       "        text-align: right;\n",
       "    }\n",
       "</style>\n",
       "<table border=\"1\" class=\"dataframe\">\n",
       "  <thead>\n",
       "    <tr style=\"text-align: right;\">\n",
       "      <th></th>\n",
       "      <th>daum</th>\n",
       "      <th>naver</th>\n",
       "    </tr>\n",
       "  </thead>\n",
       "  <tbody>\n",
       "    <tr>\n",
       "      <th>0</th>\n",
       "      <td>2</td>\n",
       "      <td>1</td>\n",
       "    </tr>\n",
       "    <tr>\n",
       "      <th>1</th>\n",
       "      <td>4</td>\n",
       "      <td>2</td>\n",
       "    </tr>\n",
       "    <tr>\n",
       "      <th>2</th>\n",
       "      <td>6</td>\n",
       "      <td>3</td>\n",
       "    </tr>\n",
       "    <tr>\n",
       "      <th>3</th>\n",
       "      <td>8</td>\n",
       "      <td>4</td>\n",
       "    </tr>\n",
       "    <tr>\n",
       "      <th>4</th>\n",
       "      <td>10</td>\n",
       "      <td>5</td>\n",
       "    </tr>\n",
       "  </tbody>\n",
       "</table>\n",
       "</div>"
      ],
      "text/plain": [
       "   daum  naver\n",
       "0     2      1\n",
       "1     4      2\n",
       "2     6      3\n",
       "3     8      4\n",
       "4    10      5"
      ]
     },
     "execution_count": 6,
     "metadata": {},
     "output_type": "execute_result"
    }
   ],
   "source": [
    "from sklearn.preprocessing import MinMaxScaler\n",
    "mv = pd.DataFrame(movie)\n",
    "mv"
   ]
  },
  {
   "cell_type": "code",
   "execution_count": 7,
   "id": "340d2411-b442-45f5-92b5-8a4a3dc09e0f",
   "metadata": {},
   "outputs": [
    {
     "data": {
      "text/html": [
       "<div>\n",
       "<style scoped>\n",
       "    .dataframe tbody tr th:only-of-type {\n",
       "        vertical-align: middle;\n",
       "    }\n",
       "\n",
       "    .dataframe tbody tr th {\n",
       "        vertical-align: top;\n",
       "    }\n",
       "\n",
       "    .dataframe thead th {\n",
       "        text-align: right;\n",
       "    }\n",
       "</style>\n",
       "<table border=\"1\" class=\"dataframe\">\n",
       "  <thead>\n",
       "    <tr style=\"text-align: right;\">\n",
       "      <th></th>\n",
       "      <th>d</th>\n",
       "      <th>n</th>\n",
       "    </tr>\n",
       "  </thead>\n",
       "  <tbody>\n",
       "    <tr>\n",
       "      <th>0</th>\n",
       "      <td>0.00</td>\n",
       "      <td>0.00</td>\n",
       "    </tr>\n",
       "    <tr>\n",
       "      <th>1</th>\n",
       "      <td>0.25</td>\n",
       "      <td>0.25</td>\n",
       "    </tr>\n",
       "    <tr>\n",
       "      <th>2</th>\n",
       "      <td>0.50</td>\n",
       "      <td>0.50</td>\n",
       "    </tr>\n",
       "    <tr>\n",
       "      <th>3</th>\n",
       "      <td>0.75</td>\n",
       "      <td>0.75</td>\n",
       "    </tr>\n",
       "    <tr>\n",
       "      <th>4</th>\n",
       "      <td>1.00</td>\n",
       "      <td>1.00</td>\n",
       "    </tr>\n",
       "  </tbody>\n",
       "</table>\n",
       "</div>"
      ],
      "text/plain": [
       "      d     n\n",
       "0  0.00  0.00\n",
       "1  0.25  0.25\n",
       "2  0.50  0.50\n",
       "3  0.75  0.75\n",
       "4  1.00  1.00"
      ]
     },
     "execution_count": 7,
     "metadata": {},
     "output_type": "execute_result"
    }
   ],
   "source": [
    "m = MinMaxScaler()\n",
    "min_max_mv = m.fit_transform(mv)\n",
    "pd.DataFrame(min_max_mv, columns=['d', 'n'])"
   ]
  },
  {
   "cell_type": "code",
   "execution_count": 9,
   "id": "968bf2e1-74dd-46b2-ac04-f4297e33342b",
   "metadata": {},
   "outputs": [
    {
     "data": {
      "text/html": [
       "<div>\n",
       "<style scoped>\n",
       "    .dataframe tbody tr th:only-of-type {\n",
       "        vertical-align: middle;\n",
       "    }\n",
       "\n",
       "    .dataframe tbody tr th {\n",
       "        vertical-align: top;\n",
       "    }\n",
       "\n",
       "    .dataframe thead th {\n",
       "        text-align: right;\n",
       "    }\n",
       "</style>\n",
       "<table border=\"1\" class=\"dataframe\">\n",
       "  <thead>\n",
       "    <tr style=\"text-align: right;\">\n",
       "      <th></th>\n",
       "      <th>age</th>\n",
       "      <th>duration</th>\n",
       "      <th>campaign</th>\n",
       "      <th>pdays</th>\n",
       "      <th>previous</th>\n",
       "      <th>y</th>\n",
       "    </tr>\n",
       "  </thead>\n",
       "  <tbody>\n",
       "    <tr>\n",
       "      <th>0</th>\n",
       "      <td>58</td>\n",
       "      <td>261</td>\n",
       "      <td>1</td>\n",
       "      <td>-1</td>\n",
       "      <td>0</td>\n",
       "      <td>0</td>\n",
       "    </tr>\n",
       "    <tr>\n",
       "      <th>1</th>\n",
       "      <td>44</td>\n",
       "      <td>151</td>\n",
       "      <td>1</td>\n",
       "      <td>-1</td>\n",
       "      <td>0</td>\n",
       "      <td>0</td>\n",
       "    </tr>\n",
       "    <tr>\n",
       "      <th>2</th>\n",
       "      <td>33</td>\n",
       "      <td>76</td>\n",
       "      <td>1</td>\n",
       "      <td>-1</td>\n",
       "      <td>0</td>\n",
       "      <td>0</td>\n",
       "    </tr>\n",
       "    <tr>\n",
       "      <th>3</th>\n",
       "      <td>47</td>\n",
       "      <td>92</td>\n",
       "      <td>1</td>\n",
       "      <td>-1</td>\n",
       "      <td>0</td>\n",
       "      <td>0</td>\n",
       "    </tr>\n",
       "    <tr>\n",
       "      <th>4</th>\n",
       "      <td>33</td>\n",
       "      <td>198</td>\n",
       "      <td>1</td>\n",
       "      <td>-1</td>\n",
       "      <td>0</td>\n",
       "      <td>0</td>\n",
       "    </tr>\n",
       "  </tbody>\n",
       "</table>\n",
       "</div>"
      ],
      "text/plain": [
       "   age  duration  campaign  pdays  previous  y\n",
       "0   58       261         1     -1         0  0\n",
       "1   44       151         1     -1         0  0\n",
       "2   33        76         1     -1         0  0\n",
       "3   47        92         1     -1         0  0\n",
       "4   33       198         1     -1         0  0"
      ]
     },
     "execution_count": 9,
     "metadata": {},
     "output_type": "execute_result"
    }
   ],
   "source": [
    "df = pd.read_csv(\"../data_set/5.스케일링/bank_train_clean.csv\")\n",
    "df.head()"
   ]
  },
  {
   "cell_type": "code",
   "execution_count": 10,
   "id": "1985de0c-744e-4a6e-b30e-73d5ada54425",
   "metadata": {},
   "outputs": [
    {
     "data": {
      "text/plain": [
       "Index(['age', 'duration', 'campaign', 'pdays', 'previous', 'y'], dtype='object')"
      ]
     },
     "execution_count": 10,
     "metadata": {},
     "output_type": "execute_result"
    }
   ],
   "source": [
    "df.columns"
   ]
  },
  {
   "cell_type": "code",
   "execution_count": 11,
   "id": "27f95f06-7435-4c8b-85c3-bb18e0746da5",
   "metadata": {},
   "outputs": [],
   "source": [
    "features = ['age', 'duration', 'campaign', 'pdays', 'previous']\n",
    "label = 'y'\n",
    "X, y = df[features], df[label]"
   ]
  },
  {
   "cell_type": "code",
   "execution_count": 12,
   "id": "f134a827-e858-43ff-b88f-6360360f669d",
   "metadata": {},
   "outputs": [],
   "source": [
    "from sklearn.model_selection import train_test_split\n",
    "\n",
    "X_train, X_test, y_train, y_test = train_test_split(X, y, test_size=0.3)"
   ]
  },
  {
   "cell_type": "code",
   "execution_count": 15,
   "id": "7b38462f-8507-47f2-ab31-e6bba79e7cdc",
   "metadata": {},
   "outputs": [
    {
     "name": "stdout",
     "output_type": "stream",
     "text": [
      "학습 데이터 :  0.9919107656333934\n",
      "test 데이터 :  0.8781332940135653\n"
     ]
    }
   ],
   "source": [
    "from sklearn.ensemble import RandomForestClassifier\n",
    "\n",
    "rfc = RandomForestClassifier()\n",
    "rfc.fit(X_train, y_train);\n",
    "print(\"학습 데이터 : \", rfc.score(X_train, y_train))\n",
    "print(\"test 데이터 : \", rfc.score(X_test, y_test))"
   ]
  },
  {
   "cell_type": "code",
   "execution_count": 16,
   "id": "987e241e-c8cc-4e0d-ae44-054781cbb11e",
   "metadata": {},
   "outputs": [
    {
     "name": "stdout",
     "output_type": "stream",
     "text": [
      "학습 데이터 :  0.9144942648592284\n",
      "test 데이터 :  0.8824830433500442\n"
     ]
    }
   ],
   "source": [
    "from sklearn.neighbors import KNeighborsClassifier\n",
    "kn = KNeighborsClassifier()\n",
    "kn.fit(X_train, y_train)\n",
    "print(\"학습 데이터 : \", kn.score(X_train, y_train))\n",
    "print(\"test 데이터 : \", kn.score(X_test, y_test))\n",
    "# 학습 데이터와 test 데이터의 차이가 별로 없으므로 좋은 방법!"
   ]
  },
  {
   "cell_type": "markdown",
   "id": "e77d2685-beb9-4803-ac03-1f659491e094",
   "metadata": {},
   "source": [
    "#### 학습 데이터와 테스트 데이터의 차이\r\n",
    "* 학습 데이터(Training Data): 모델 학습에 사용되는 데이터\r\n",
    "* 테스트 데이터(Test Data): 학습된 모델의 성능을 평가하는 데 사용되는 데이터\r\n",
    "\r\n",
    "#### 학습 데이터와 테스트 데이터의 차이가 적을수록 좋은 이유\r\n",
    "* 과적합 방지\r\n",
    "    - 학습 데이터와 테스트 데이터의 차이가 크면 모델이 학습 데이터에 과도하게 적응되어 일반화 성능이 떨어질 수 있습니다.\r\n",
    "    - 차이가 적을수록 과적합 문제를 방지할 수 있습니다.\r\n",
    "* 실제 상황 반영\r\n",
    "    - 테스트 데이터는 실제 사용 환경을 반영해야 합니다.\r\n",
    "    - 학습 데이터와 테스트 데이터의 차이가 적을수록 모델의 실제 성능을 더 정확하게 평가할 수 있습니다.\r\n",
    "* 신뢰성 있는 성능 평가\r\n",
    "    - 학습 데이터와 테스트 데이터의 차이가 크면 모델의 성능을 신뢰할 수 없습니다.\r\n",
    "    - 차이가 적을수록 모델의 성능을 더 신뢰할 수 있습니다. 신뢰할 수 있습니다. 수 있습니다."
   ]
  },
  {
   "cell_type": "code",
   "execution_count": 17,
   "id": "8e42015b-01c5-4d67-b641-bd047042db1f",
   "metadata": {},
   "outputs": [
    {
     "data": {
      "text/plain": [
       "array([[ 1.60696496,  0.0110161 , -0.56935064, -0.41145311, -0.25194037],\n",
       "       [ 0.28852927, -0.41612696, -0.56935064, -0.41145311, -0.25194037],\n",
       "       [-0.74738448, -0.70736086, -0.56935064, -0.41145311, -0.25194037],\n",
       "       ...,\n",
       "       [ 2.92540065,  3.37379688,  0.72181052,  1.43618859,  1.05047333],\n",
       "       [ 1.51279098,  0.97014641,  0.39902023, -0.41145311, -0.25194037],\n",
       "       [-0.37068857,  0.39932797, -0.24656035,  1.4761376 ,  4.52357654]])"
      ]
     },
     "execution_count": 17,
     "metadata": {},
     "output_type": "execute_result"
    }
   ],
   "source": [
    "sc = StandardScaler()\n",
    "sc.fit(X)\n",
    "X2 = sc.transform(X)\n",
    "X2"
   ]
  },
  {
   "cell_type": "code",
   "execution_count": 18,
   "id": "5b86c0ea-de15-4fc8-9f28-ddc0a207c77f",
   "metadata": {},
   "outputs": [],
   "source": [
    "X_train, X_test, y_train, y_test = train_test_split(X2, y, test_size=0.3)"
   ]
  },
  {
   "cell_type": "code",
   "execution_count": 19,
   "id": "2e340956-841c-454c-94fd-81f36e56462c",
   "metadata": {},
   "outputs": [
    {
     "name": "stdout",
     "output_type": "stream",
     "text": [
      "학습 데이터 :  0.9915631813442033\n",
      "test 데이터 :  0.8800501327042171\n"
     ]
    }
   ],
   "source": [
    "rfc = RandomForestClassifier()\n",
    "rfc.fit(X_train, y_train);\n",
    "print(\"학습 데이터 : \", rfc.score(X_train, y_train))\n",
    "print(\"test 데이터 : \", rfc.score(X_test, y_test))"
   ]
  },
  {
   "cell_type": "code",
   "execution_count": 20,
   "id": "29e19ec9-a416-4f7e-b07c-4a3260ddc22c",
   "metadata": {},
   "outputs": [
    {
     "name": "stdout",
     "output_type": "stream",
     "text": [
      "학습 데이터 :  0.9126615476980441\n",
      "test 데이터 :  0.8838838100855205\n"
     ]
    }
   ],
   "source": [
    "kn = KNeighborsClassifier()\n",
    "kn.fit(X_train, y_train)\n",
    "print(\"학습 데이터 : \", kn.score(X_train, y_train))\n",
    "print(\"test 데이터 : \", kn.score(X_test, y_test))"
   ]
  },
  {
   "cell_type": "code",
   "execution_count": 21,
   "id": "f7e43a23-cf6c-4367-8b10-d5205bd2d716",
   "metadata": {},
   "outputs": [
    {
     "data": {
      "text/plain": [
       "array([[0.51948052, 0.05307035, 0.        , 0.        , 0.        ],\n",
       "       [0.33766234, 0.03070354, 0.        , 0.        , 0.        ],\n",
       "       [0.19480519, 0.01545344, 0.        , 0.        , 0.        ],\n",
       "       ...,\n",
       "       [0.7012987 , 0.22915819, 0.06451613, 0.21215596, 0.01090909],\n",
       "       [0.50649351, 0.10329402, 0.0483871 , 0.        , 0.        ],\n",
       "       [0.24675325, 0.07340382, 0.01612903, 0.21674312, 0.04      ]])"
      ]
     },
     "execution_count": 21,
     "metadata": {},
     "output_type": "execute_result"
    }
   ],
   "source": [
    "X2 = m.fit_transform(X)\n",
    "X2"
   ]
  },
  {
   "cell_type": "code",
   "execution_count": 22,
   "id": "ffd05516-3af7-4aa6-a43e-bba5119ad521",
   "metadata": {},
   "outputs": [],
   "source": [
    "X_train, X_test, y_train, y_test = train_test_split(X2, y, test_size=0.3)"
   ]
  },
  {
   "cell_type": "code",
   "execution_count": 23,
   "id": "44b13c0c-0e34-4bd3-9503-294104b17776",
   "metadata": {},
   "outputs": [
    {
     "name": "stdout",
     "output_type": "stream",
     "text": [
      "학습 데이터 :  0.9923215470660726\n",
      "test 데이터 :  0.8779121203184901\n",
      "학습 데이터 :  0.9147786520049294\n",
      "test 데이터 :  0.8835889118254202\n"
     ]
    }
   ],
   "source": [
    "rfc = RandomForestClassifier()\n",
    "rfc.fit(X_train, y_train);\n",
    "print(\"학습 데이터 : \", rfc.score(X_train, y_train))\n",
    "print(\"test 데이터 : \", rfc.score(X_test, y_test))\n",
    "\n",
    "kn = KNeighborsClassifier()\n",
    "kn.fit(X_train, y_train)\n",
    "print(\"학습 데이터 : \", kn.score(X_train, y_train))\n",
    "print(\"test 데이터 : \", kn.score(X_test, y_test))"
   ]
  },
  {
   "cell_type": "code",
   "execution_count": 24,
   "id": "ed45c5f6-7589-48e4-89e5-b6c91987b2cb",
   "metadata": {},
   "outputs": [
    {
     "data": {
      "text/html": [
       "<div>\n",
       "<style scoped>\n",
       "    .dataframe tbody tr th:only-of-type {\n",
       "        vertical-align: middle;\n",
       "    }\n",
       "\n",
       "    .dataframe tbody tr th {\n",
       "        vertical-align: top;\n",
       "    }\n",
       "\n",
       "    .dataframe thead th {\n",
       "        text-align: right;\n",
       "    }\n",
       "</style>\n",
       "<table border=\"1\" class=\"dataframe\">\n",
       "  <thead>\n",
       "    <tr style=\"text-align: right;\">\n",
       "      <th></th>\n",
       "      <th>age</th>\n",
       "      <th>duration</th>\n",
       "      <th>campaign</th>\n",
       "      <th>pdays</th>\n",
       "      <th>previous</th>\n",
       "      <th>y</th>\n",
       "    </tr>\n",
       "  </thead>\n",
       "  <tbody>\n",
       "    <tr>\n",
       "      <th>age</th>\n",
       "      <td>1.000000</td>\n",
       "      <td>-0.004648</td>\n",
       "      <td>0.004760</td>\n",
       "      <td>-0.023758</td>\n",
       "      <td>0.001288</td>\n",
       "      <td>0.025155</td>\n",
       "    </tr>\n",
       "    <tr>\n",
       "      <th>duration</th>\n",
       "      <td>-0.004648</td>\n",
       "      <td>1.000000</td>\n",
       "      <td>-0.084570</td>\n",
       "      <td>-0.001565</td>\n",
       "      <td>0.001203</td>\n",
       "      <td>0.394521</td>\n",
       "    </tr>\n",
       "    <tr>\n",
       "      <th>campaign</th>\n",
       "      <td>0.004760</td>\n",
       "      <td>-0.084570</td>\n",
       "      <td>1.000000</td>\n",
       "      <td>-0.088628</td>\n",
       "      <td>-0.032855</td>\n",
       "      <td>-0.073172</td>\n",
       "    </tr>\n",
       "    <tr>\n",
       "      <th>pdays</th>\n",
       "      <td>-0.023758</td>\n",
       "      <td>-0.001565</td>\n",
       "      <td>-0.088628</td>\n",
       "      <td>1.000000</td>\n",
       "      <td>0.454820</td>\n",
       "      <td>0.103621</td>\n",
       "    </tr>\n",
       "    <tr>\n",
       "      <th>previous</th>\n",
       "      <td>0.001288</td>\n",
       "      <td>0.001203</td>\n",
       "      <td>-0.032855</td>\n",
       "      <td>0.454820</td>\n",
       "      <td>1.000000</td>\n",
       "      <td>0.093236</td>\n",
       "    </tr>\n",
       "    <tr>\n",
       "      <th>y</th>\n",
       "      <td>0.025155</td>\n",
       "      <td>0.394521</td>\n",
       "      <td>-0.073172</td>\n",
       "      <td>0.103621</td>\n",
       "      <td>0.093236</td>\n",
       "      <td>1.000000</td>\n",
       "    </tr>\n",
       "  </tbody>\n",
       "</table>\n",
       "</div>"
      ],
      "text/plain": [
       "               age  duration  campaign     pdays  previous         y\n",
       "age       1.000000 -0.004648  0.004760 -0.023758  0.001288  0.025155\n",
       "duration -0.004648  1.000000 -0.084570 -0.001565  0.001203  0.394521\n",
       "campaign  0.004760 -0.084570  1.000000 -0.088628 -0.032855 -0.073172\n",
       "pdays    -0.023758 -0.001565 -0.088628  1.000000  0.454820  0.103621\n",
       "previous  0.001288  0.001203 -0.032855  0.454820  1.000000  0.093236\n",
       "y         0.025155  0.394521 -0.073172  0.103621  0.093236  1.000000"
      ]
     },
     "execution_count": 24,
     "metadata": {},
     "output_type": "execute_result"
    }
   ],
   "source": [
    "df.corr()"
   ]
  },
  {
   "cell_type": "code",
   "execution_count": 26,
   "id": "38bfc8ff-4592-4e83-9118-804c29ef2977",
   "metadata": {},
   "outputs": [
    {
     "data": {
      "text/plain": [
       "<Axes: >"
      ]
     },
     "execution_count": 26,
     "metadata": {},
     "output_type": "execute_result"
    },
    {
     "data": {
      "image/png": "[encoded data removed]",
      "text/plain": [
       "<Figure size 640x480 with 2 Axes>"
      ]
     },
     "metadata": {},
     "output_type": "display_data"
    }
   ],
   "source": [
    "import seaborn as sns\n",
    "sns.heatmap(df.corr(), annot=True)"
   ]
  },
  {
   "cell_type": "code",
   "execution_count": 28,
   "id": "b6b6f4dc-3e5d-4e2f-96ea-09b286fcf4cc",
   "metadata": {},
   "outputs": [],
   "source": [
    "#features = ['age', 'duration', 'campaign', 'pdays', 'previous']\n",
    "features = ['age', 'duration', 'campaign', 'previous']\n",
    "label = 'y'\n",
    "X, y = df[features], df[label]\n",
    "\n",
    "sc = StandardScaler()\n",
    "sc.fit(X)\n",
    "X_scaler = sc.transform(X)\n",
    "\n",
    "X_train, X_test, y_train, y_test = train_test_split(X_scaler, y, test_size=0.3)"
   ]
  },
  {
   "cell_type": "code",
   "execution_count": 29,
   "id": "d2fcea24-88a7-4175-867b-cbe6455868a5",
   "metadata": {},
   "outputs": [
    {
     "name": "stdout",
     "output_type": "stream",
     "text": [
      "학습 데이터 :  0.9915315827724587\n",
      "test 데이터 :  0.8650840460041286\n",
      "학습 데이터 :  0.9094068948083547\n",
      "test 데이터 :  0.8743733411972869\n"
     ]
    }
   ],
   "source": [
    "rfc = RandomForestClassifier()\n",
    "rfc.fit(X_train, y_train);\n",
    "print(\"학습 데이터 : \", rfc.score(X_train, y_train))\n",
    "print(\"test 데이터 : \", rfc.score(X_test, y_test))\n",
    "\n",
    "kn = KNeighborsClassifier()\n",
    "kn.fit(X_train, y_train)\n",
    "print(\"학습 데이터 : \", kn.score(X_train, y_train))\n",
    "print(\"test 데이터 : \", kn.score(X_test, y_test))"
   ]
  },
  {
   "cell_type": "code",
   "execution_count": 32,
   "id": "3992c622-3ad9-4f94-aa7b-b14b0dec9f8b",
   "metadata": {},
   "outputs": [],
   "source": [
    "#features = ['age', 'duration', 'campaign', 'pdays', 'previous']\n",
    "features = ['age', 'campaign', 'pdays', 'previous']\n",
    "label = 'y'\n",
    "X, y = df[features], df[label]\n",
    "\n",
    "sc = StandardScaler()\n",
    "sc.fit(X)\n",
    "X_scaler = sc.transform(X)\n",
    "\n",
    "X_train, X_test, y_train, y_test = train_test_split(X_scaler, y, test_size=0.3)"
   ]
  },
  {
   "cell_type": "code",
   "execution_count": 33,
   "id": "8f309313-c586-41da-97c9-6d71bb98e641",
   "metadata": {},
   "outputs": [
    {
     "name": "stdout",
     "output_type": "stream",
     "text": [
      "학습 데이터 :  0.9250481878219105\n",
      "test 데이터 :  0.8804924800943674\n",
      "학습 데이터 :  0.8895313931810283\n",
      "test 데이터 :  0.8731937481568859\n"
     ]
    }
   ],
   "source": [
    "rfc = RandomForestClassifier()\n",
    "rfc.fit(X_train, y_train);\n",
    "print(\"학습 데이터 : \", rfc.score(X_train, y_train))\n",
    "print(\"test 데이터 : \", rfc.score(X_test, y_test))\n",
    "\n",
    "kn = KNeighborsClassifier()\n",
    "kn.fit(X_train, y_train)\n",
    "print(\"학습 데이터 : \", kn.score(X_train, y_train))\n",
    "print(\"test 데이터 : \", kn.score(X_test, y_test))\n",
    "# 상관관계가 높은 항목을 제외하고 확인하면 과적합이 줄어드는 것을 확인 할 수 있음 "
   ]
  }
 ],
 "metadata": {
  "kernelspec": {
   "display_name": "Python 3 (ipykernel)",
   "language": "python",
   "name": "python3"
  },
  "language_info": {
   "codemirror_mode": {
    "name": "ipython",
    "version": 3
   },
   "file_extension": ".py",
   "mimetype": "text/x-python",
   "name": "python",
   "nbconvert_exporter": "python",
   "pygments_lexer": "ipython3",
   "version": "3.11.7"
  }
 },
 "nbformat": 4,
 "nbformat_minor": 5
}
