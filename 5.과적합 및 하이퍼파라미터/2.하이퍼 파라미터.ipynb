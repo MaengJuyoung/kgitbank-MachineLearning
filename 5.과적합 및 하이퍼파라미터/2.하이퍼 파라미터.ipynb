{
 "cells": [
  {
   "cell_type": "markdown",
   "id": "41c02f87-be46-407d-87c2-aad66a75cf0d",
   "metadata": {},
   "source": [
    "### 하이퍼파라미터\r\n",
    "* 예측력을 높이기 위해 사용\r\n",
    "* 과대/과소 적합을 방지하기 위해 사용\r\n",
    "* 사용자가 지정하는 파라미터\r\n",
    "\r\n",
    "#### 하이퍼파라미터 튜닝\r\n",
    "* 특정 알고리즘의 매개변수 값을 변경하면서 최적의 파라미터를 찾는 방식\r\n",
    "* GridSearchCV클래스를 통해 하이퍼파라미터 탐색과 교차 검증을 한번에 수행\r\n",
    "\r\n",
    "#### GridSearchCV\r\n",
    "* 교차 검증으로 하이퍼파라미터 탐색을 수행한다\r\n",
    "* 최상의 모델을 찾은 후 훈련 세트 전체를 사용해 최종 모델을 훈련한다\r\n",
    "* 매개변수\r\n",
    "    - GridSearchCV(모델, param_grid = 파라미터, cv=반복횟수, n_jobs=코어 수(-1, 모든 코어 사용))"
   ]
  },
  {
   "cell_type": "markdown",
   "id": "42418e26-bb78-4fb7-95aa-eb692c3d1942",
   "metadata": {},
   "source": [
    "### K-최근접 이웃 알고리즘\r\n",
    "* 주위에서 가장 가까운 다른 데이터를 보고 현재 데이터를 판단\r\n",
    "\r\n",
    "#### 하이퍼파라미터\r\n",
    "* n_neighbors\r\n",
    "    - 기본 가까운 5개의 데이터를 보고 자기 자신이 어디에 속하는지를 판단\r\n",
    "    - 비교하고자 하는 데이터의 수가 적을 수록 과대 적합이 된다\r\n",
    "* metric : 거리계산 척도\r\n",
    "    - euclidean(녹색) : 유클리디안 거리 측정\r\n",
    "        * 목표 지점까지 가장 짧은 거리\r\n",
    "    - manhattan(빨간색) : 맨하튼 거리 측정 방법\r\n",
    "        * 찾아가는 경로의 모든 길이의 합\r\n",
    "* weights : 가중치\r\n",
    "    - uniform : 거리에 가중치 부여하지 않음(균일한 가중치)\r\n",
    "    - distance : 거리에 가중치 부여(가까이 있는 데이터에 가중치)"
   ]
  },
  {
   "cell_type": "markdown",
   "id": "850ee2e0-8772-435c-83f2-5973f1236103",
   "metadata": {},
   "source": [
    "<img src=\"../images/거리척도.png\" width=\"500\" height=\"500\" />"
   ]
  },
  {
   "cell_type": "code",
   "execution_count": 1,
   "id": "6e3552aa-cf03-4650-848a-4a293b82a2e1",
   "metadata": {},
   "outputs": [],
   "source": [
    "from sklearn.neighbors import KNeighborsClassifier\n",
    "from sklearn.preprocessing import MinMaxScaler\n",
    "from sklearn.model_selection import train_test_split\n",
    "import pandas as pd\n",
    "import warnings\n",
    "warnings.filterwarnings(\"ignore\")"
   ]
  },
  {
   "cell_type": "code",
   "execution_count": 2,
   "id": "a8d0f6ab-195c-4341-9912-3b0e0b931dbe",
   "metadata": {},
   "outputs": [
    {
     "data": {
      "text/html": [
       "<div>\n",
       "<style scoped>\n",
       "    .dataframe tbody tr th:only-of-type {\n",
       "        vertical-align: middle;\n",
       "    }\n",
       "\n",
       "    .dataframe tbody tr th {\n",
       "        vertical-align: top;\n",
       "    }\n",
       "\n",
       "    .dataframe thead th {\n",
       "        text-align: right;\n",
       "    }\n",
       "</style>\n",
       "<table border=\"1\" class=\"dataframe\">\n",
       "  <thead>\n",
       "    <tr style=\"text-align: right;\">\n",
       "      <th></th>\n",
       "      <th>PassengerId</th>\n",
       "      <th>Survived</th>\n",
       "      <th>Pclass</th>\n",
       "      <th>Sex</th>\n",
       "      <th>Age</th>\n",
       "      <th>SibSp</th>\n",
       "      <th>Parch</th>\n",
       "      <th>Fare</th>\n",
       "    </tr>\n",
       "  </thead>\n",
       "  <tbody>\n",
       "    <tr>\n",
       "      <th>0</th>\n",
       "      <td>1</td>\n",
       "      <td>0</td>\n",
       "      <td>3</td>\n",
       "      <td>0</td>\n",
       "      <td>22.0</td>\n",
       "      <td>1</td>\n",
       "      <td>0</td>\n",
       "      <td>7.2500</td>\n",
       "    </tr>\n",
       "    <tr>\n",
       "      <th>1</th>\n",
       "      <td>2</td>\n",
       "      <td>1</td>\n",
       "      <td>1</td>\n",
       "      <td>1</td>\n",
       "      <td>38.0</td>\n",
       "      <td>1</td>\n",
       "      <td>0</td>\n",
       "      <td>71.2833</td>\n",
       "    </tr>\n",
       "    <tr>\n",
       "      <th>2</th>\n",
       "      <td>3</td>\n",
       "      <td>1</td>\n",
       "      <td>3</td>\n",
       "      <td>1</td>\n",
       "      <td>26.0</td>\n",
       "      <td>0</td>\n",
       "      <td>0</td>\n",
       "      <td>7.9250</td>\n",
       "    </tr>\n",
       "    <tr>\n",
       "      <th>3</th>\n",
       "      <td>4</td>\n",
       "      <td>1</td>\n",
       "      <td>1</td>\n",
       "      <td>1</td>\n",
       "      <td>35.0</td>\n",
       "      <td>1</td>\n",
       "      <td>0</td>\n",
       "      <td>53.1000</td>\n",
       "    </tr>\n",
       "    <tr>\n",
       "      <th>4</th>\n",
       "      <td>5</td>\n",
       "      <td>0</td>\n",
       "      <td>3</td>\n",
       "      <td>0</td>\n",
       "      <td>35.0</td>\n",
       "      <td>0</td>\n",
       "      <td>0</td>\n",
       "      <td>8.0500</td>\n",
       "    </tr>\n",
       "  </tbody>\n",
       "</table>\n",
       "</div>"
      ],
      "text/plain": [
       "   PassengerId  Survived  Pclass  Sex   Age  SibSp  Parch     Fare\n",
       "0            1         0       3    0  22.0      1      0   7.2500\n",
       "1            2         1       1    1  38.0      1      0  71.2833\n",
       "2            3         1       3    1  26.0      0      0   7.9250\n",
       "3            4         1       1    1  35.0      1      0  53.1000\n",
       "4            5         0       3    0  35.0      0      0   8.0500"
      ]
     },
     "execution_count": 2,
     "metadata": {},
     "output_type": "execute_result"
    }
   ],
   "source": [
    "df = pd.read_csv(\"../data_set/5.스케일링/titanic_cleaning.csv\")\n",
    "df.head()"
   ]
  },
  {
   "cell_type": "code",
   "execution_count": 3,
   "id": "bfd88b50-3e17-4db6-add3-20df210d0eed",
   "metadata": {},
   "outputs": [
    {
     "data": {
      "text/plain": [
       "Index(['PassengerId', 'Survived', 'Pclass', 'Sex', 'Age', 'SibSp', 'Parch',\n",
       "       'Fare'],\n",
       "      dtype='object')"
      ]
     },
     "execution_count": 3,
     "metadata": {},
     "output_type": "execute_result"
    }
   ],
   "source": [
    "df.columns"
   ]
  },
  {
   "cell_type": "code",
   "execution_count": 4,
   "id": "c774f479-0340-475f-b3b7-6e0c8475477c",
   "metadata": {},
   "outputs": [],
   "source": [
    "features = ['Pclass', 'Sex', 'Age', 'SibSp', 'Parch',\n",
    "       'Fare']\n",
    "label = 'Survived'\n",
    "X, y = df[features], df[label]"
   ]
  },
  {
   "cell_type": "code",
   "execution_count": 5,
   "id": "ee561c68-8e18-402c-99bd-f1f7e1482412",
   "metadata": {},
   "outputs": [],
   "source": [
    "minMaxScaler = MinMaxScaler()\n",
    "minMaxScaler.fit(X)\n",
    "X_scaler = minMaxScaler.transform(X)"
   ]
  },
  {
   "cell_type": "code",
   "execution_count": 6,
   "id": "19c53e4d-5dc9-43f4-8fe2-8c6d38613066",
   "metadata": {},
   "outputs": [],
   "source": [
    "X_train_minMax, X_test_minMax, y_train, y_test = train_test_split(X_scaler, y, test_size=0.2)"
   ]
  },
  {
   "cell_type": "code",
   "execution_count": 8,
   "id": "dfc28958-0e61-44f9-aeab-f7c8cf2c444c",
   "metadata": {},
   "outputs": [
    {
     "name": "stdout",
     "output_type": "stream",
     "text": [
      "train :  0.8679775280898876\n",
      "test  :  0.7653631284916201\n"
     ]
    }
   ],
   "source": [
    "knn = KNeighborsClassifier()\n",
    "knn.fit(X_train_minMax, y_train)\n",
    "print(\"train : \", knn.score(X_train_minMax, y_train))\n",
    "print(\"test  : \", knn.score(X_test_minMax, y_test))"
   ]
  },
  {
   "cell_type": "code",
   "execution_count": 13,
   "id": "fc61859a-731d-4208-abb6-375d360ed13c",
   "metadata": {},
   "outputs": [
    {
     "data": {
      "text/html": [
       "<div>\n",
       "<style scoped>\n",
       "    .dataframe tbody tr th:only-of-type {\n",
       "        vertical-align: middle;\n",
       "    }\n",
       "\n",
       "    .dataframe tbody tr th {\n",
       "        vertical-align: top;\n",
       "    }\n",
       "\n",
       "    .dataframe thead th {\n",
       "        text-align: right;\n",
       "    }\n",
       "</style>\n",
       "<table border=\"1\" class=\"dataframe\">\n",
       "  <thead>\n",
       "    <tr style=\"text-align: right;\">\n",
       "      <th></th>\n",
       "      <th>k</th>\n",
       "      <th>train정확도</th>\n",
       "      <th>test 정확도</th>\n",
       "    </tr>\n",
       "  </thead>\n",
       "  <tbody>\n",
       "    <tr>\n",
       "      <th>0</th>\n",
       "      <td>1</td>\n",
       "      <td>0.984551</td>\n",
       "      <td>0.770950</td>\n",
       "    </tr>\n",
       "    <tr>\n",
       "      <th>1</th>\n",
       "      <td>2</td>\n",
       "      <td>0.904494</td>\n",
       "      <td>0.770950</td>\n",
       "    </tr>\n",
       "    <tr>\n",
       "      <th>2</th>\n",
       "      <td>3</td>\n",
       "      <td>0.890449</td>\n",
       "      <td>0.776536</td>\n",
       "    </tr>\n",
       "    <tr>\n",
       "      <th>3</th>\n",
       "      <td>4</td>\n",
       "      <td>0.873596</td>\n",
       "      <td>0.782123</td>\n",
       "    </tr>\n",
       "    <tr>\n",
       "      <th>4</th>\n",
       "      <td>5</td>\n",
       "      <td>0.867978</td>\n",
       "      <td>0.765363</td>\n",
       "    </tr>\n",
       "    <tr>\n",
       "      <th>5</th>\n",
       "      <td>6</td>\n",
       "      <td>0.865169</td>\n",
       "      <td>0.770950</td>\n",
       "    </tr>\n",
       "    <tr>\n",
       "      <th>6</th>\n",
       "      <td>7</td>\n",
       "      <td>0.859551</td>\n",
       "      <td>0.748603</td>\n",
       "    </tr>\n",
       "    <tr>\n",
       "      <th>7</th>\n",
       "      <td>8</td>\n",
       "      <td>0.863764</td>\n",
       "      <td>0.748603</td>\n",
       "    </tr>\n",
       "    <tr>\n",
       "      <th>8</th>\n",
       "      <td>9</td>\n",
       "      <td>0.859551</td>\n",
       "      <td>0.748603</td>\n",
       "    </tr>\n",
       "    <tr>\n",
       "      <th>9</th>\n",
       "      <td>10</td>\n",
       "      <td>0.842697</td>\n",
       "      <td>0.737430</td>\n",
       "    </tr>\n",
       "  </tbody>\n",
       "</table>\n",
       "</div>"
      ],
      "text/plain": [
       "    k  train정확도  test 정확도\n",
       "0   1  0.984551  0.770950\n",
       "1   2  0.904494  0.770950\n",
       "2   3  0.890449  0.776536\n",
       "3   4  0.873596  0.782123\n",
       "4   5  0.867978  0.765363\n",
       "5   6  0.865169  0.770950\n",
       "6   7  0.859551  0.748603\n",
       "7   8  0.863764  0.748603\n",
       "8   9  0.859551  0.748603\n",
       "9  10  0.842697  0.737430"
      ]
     },
     "execution_count": 13,
     "metadata": {},
     "output_type": "execute_result"
    }
   ],
   "source": [
    "k_param = range(1, 11)\n",
    "train_list = []\n",
    "test_list = []\n",
    "for k in k_param:\n",
    "    knn = KNeighborsClassifier(n_neighbors=k)\n",
    "    # n_neighbors : 볼 데이터의 개수, 기본 5개 \n",
    "    knn.fit(X_train_minMax, y_train)\n",
    "    #print(\"k : \", k, \"| train : \", knn.score(X_train_minMax, y_train), \"| test: \", knn.score(X_test_minMax, y_test) )\n",
    "    train_list.append(knn.score(X_train_minMax, y_train))\n",
    "    test_list.append(knn.score(X_test_minMax, y_test))\n",
    "dic = {\n",
    "    \"k\" : k_param, \n",
    "    \"train정확도\" : train_list, \n",
    "    \"test 정확도\" : test_list\n",
    "}\n",
    "score_df = pd.DataFrame(dic)\n",
    "score_df"
   ]
  },
  {
   "cell_type": "code",
   "execution_count": 15,
   "id": "80eea973-1a42-4ae6-9660-0b88a6bf0868",
   "metadata": {},
   "outputs": [
    {
     "data": {
      "text/plain": [
       "<Axes: xlabel='k', ylabel='train정확도'>"
      ]
     },
     "execution_count": 15,
     "metadata": {},
     "output_type": "execute_result"
    },
    {
     "data": {
      "image/png": "[encoded data removed]",
      "text/plain": [
       "<Figure size 500x500 with 1 Axes>"
      ]
     },
     "metadata": {},
     "output_type": "display_data"
    }
   ],
   "source": [
    "# 시각화 \n",
    "import matplotlib.pyplot as plt\n",
    "import seaborn as sns\n",
    "\n",
    "plt.rc(\"font\", family=\"Malgun Gothic\")\n",
    "\n",
    "#plt.rcParams[\"figure.figsize\"] = (5, 3)\n",
    "fig, ax = plt.subplots(figsize = (5, 5) )\n",
    "sns.lineplot(x=\"k\", y=\"train정확도\", data=score_df)\n",
    "sns.lineplot(x=\"k\", y=\"test 정확도\", data=score_df)"
   ]
  },
  {
   "cell_type": "code",
   "execution_count": 16,
   "id": "4d664f38-63dc-407b-b2dc-68dc53039ea4",
   "metadata": {},
   "outputs": [
    {
     "name": "stdout",
     "output_type": "stream",
     "text": [
      "최적의 하이퍼 파라미터 :  {'n_neighbors': 2}\n",
      "0.9044943820224719\n",
      "0.770949720670391\n"
     ]
    }
   ],
   "source": [
    "from sklearn.model_selection import GridSearchCV\n",
    "\n",
    "params = {\n",
    "    \"n_neighbors\" : k_param\n",
    "}\n",
    "knn = KNeighborsClassifier()\n",
    "\n",
    "grid_cv = GridSearchCV(knn, param_grid=params, cv=5, n_jobs=-1) \n",
    "# 학습할 모델 객체, 탐색할 하이퍼파라미터 값들의 조합을 딕셔너리 형태로 지정, 교차 검증을 위한 폴드 수 (기본값은 5),  병렬 처리를 위한 CPU 코어 수 (-1은 모든 코어 사용)\n",
    "grid_cv.fit(X_train_minMax, y_train)\n",
    "print(\"최적의 하이퍼 파라미터 : \", grid_cv.best_params_)\n",
    "\n",
    "print(grid_cv.score(X_train_minMax, y_train))\n",
    "print(grid_cv.score(X_test_minMax, y_test))"
   ]
  },
  {
   "cell_type": "code",
   "execution_count": 18,
   "id": "35097732-321b-49dd-a94f-cd7975bb0017",
   "metadata": {},
   "outputs": [
    {
     "name": "stdout",
     "output_type": "stream",
     "text": [
      "최적의 하이퍼 파라미터 :  {'metric': 'manhattan', 'n_neighbors': 5, 'weights': 'uniform'}\n",
      "0.8693820224719101\n",
      "0.7541899441340782\n"
     ]
    }
   ],
   "source": [
    "from sklearn.model_selection import GridSearchCV\n",
    "\n",
    "params = {\n",
    "    \"n_neighbors\" : range(1, 11),\n",
    "    \"metric\" : [\"manhattan\", \"enclidean\"],\n",
    "    \"weights\" : [\"uniform\", \"distance\"]\n",
    "}\n",
    "knn = KNeighborsClassifier()\n",
    "\n",
    "grid_cv = GridSearchCV(knn, param_grid=params, cv=5, n_jobs=-1) \n",
    "grid_cv.fit(X_train_minMax, y_train)\n",
    "print(\"최적의 하이퍼 파라미터 : \", grid_cv.best_params_)\n",
    "\n",
    "print(grid_cv.score(X_train_minMax, y_train))\n",
    "print(grid_cv.score(X_test_minMax, y_test))"
   ]
  },
  {
   "cell_type": "code",
   "execution_count": 20,
   "id": "7e30754d-635e-4831-ad80-1e1f8fabb588",
   "metadata": {},
   "outputs": [
    {
     "name": "stdout",
     "output_type": "stream",
     "text": [
      "0.8693820224719101\n",
      "0.7541899441340782\n"
     ]
    }
   ],
   "source": [
    "# 위에 결과에 맞는 최적의 하이퍼 파라미터 사용하기\n",
    "knn = KNeighborsClassifier(n_neighbors=5, metric='manhattan', weights='uniform')\n",
    "knn.fit(X_train_minMax, y_train)\n",
    "\n",
    "print(knn.score(X_train_minMax, y_train))\n",
    "print(knn.score(X_test_minMax, y_test))"
   ]
  },
  {
   "cell_type": "markdown",
   "id": "cd45ea75-83aa-41d9-b4b8-be5d255d2f2d",
   "metadata": {},
   "source": [
    "### 랜덤 포레스트 하이퍼 파라미터\n",
    "* n_estimators\n",
    "    - 트리의 개수. default=10\n",
    "    - 트리의 개수가 많이면 성능은 좋아지지만, 시간이 오래 걸릴수 있다.\n",
    "* max_depth\n",
    "    - 트리의 최대 깊이. default = None\n",
    "    - 완벽하게 파라미터값이 결정될 때 까지 분할 또는 min_samples_split보자 작아질 때까지 분할\n",
    "    - 깊이가 깊어지면 과대적합될 수 있으므로 적절히 제어 필요\n",
    "* min_samples_leaf\n",
    "    - 맆노드(자식노드가 없는 노드)가 되기 위해 최소한의 샘플 데이터 수\n",
    "    - min_samples_split과 함께 과대적합 제어용도\n",
    "    - 불균형 데이터가 있는 경우 작게 설정하는게 좋다"
   ]
  },
  {
   "cell_type": "markdown",
   "id": "486f667a-4e6a-45cd-a753-db1494399f26",
   "metadata": {},
   "source": [
    "<img src=\"../images/랜덤포레스트.png\" width=\"500\" height=\"500\" />"
   ]
  },
  {
   "cell_type": "code",
   "execution_count": 22,
   "id": "c0a91498-eebb-4bc5-8fda-18ee8437710f",
   "metadata": {},
   "outputs": [
    {
     "data": {
      "text/html": [
       "<div>\n",
       "<style scoped>\n",
       "    .dataframe tbody tr th:only-of-type {\n",
       "        vertical-align: middle;\n",
       "    }\n",
       "\n",
       "    .dataframe tbody tr th {\n",
       "        vertical-align: top;\n",
       "    }\n",
       "\n",
       "    .dataframe thead th {\n",
       "        text-align: right;\n",
       "    }\n",
       "</style>\n",
       "<table border=\"1\" class=\"dataframe\">\n",
       "  <thead>\n",
       "    <tr style=\"text-align: right;\">\n",
       "      <th></th>\n",
       "      <th>PassengerId</th>\n",
       "      <th>Survived</th>\n",
       "      <th>Pclass</th>\n",
       "      <th>Sex</th>\n",
       "      <th>Age</th>\n",
       "      <th>SibSp</th>\n",
       "      <th>Parch</th>\n",
       "      <th>Fare</th>\n",
       "    </tr>\n",
       "  </thead>\n",
       "  <tbody>\n",
       "    <tr>\n",
       "      <th>0</th>\n",
       "      <td>1</td>\n",
       "      <td>0</td>\n",
       "      <td>3</td>\n",
       "      <td>0</td>\n",
       "      <td>22.0</td>\n",
       "      <td>1</td>\n",
       "      <td>0</td>\n",
       "      <td>7.2500</td>\n",
       "    </tr>\n",
       "    <tr>\n",
       "      <th>1</th>\n",
       "      <td>2</td>\n",
       "      <td>1</td>\n",
       "      <td>1</td>\n",
       "      <td>1</td>\n",
       "      <td>38.0</td>\n",
       "      <td>1</td>\n",
       "      <td>0</td>\n",
       "      <td>71.2833</td>\n",
       "    </tr>\n",
       "    <tr>\n",
       "      <th>2</th>\n",
       "      <td>3</td>\n",
       "      <td>1</td>\n",
       "      <td>3</td>\n",
       "      <td>1</td>\n",
       "      <td>26.0</td>\n",
       "      <td>0</td>\n",
       "      <td>0</td>\n",
       "      <td>7.9250</td>\n",
       "    </tr>\n",
       "    <tr>\n",
       "      <th>3</th>\n",
       "      <td>4</td>\n",
       "      <td>1</td>\n",
       "      <td>1</td>\n",
       "      <td>1</td>\n",
       "      <td>35.0</td>\n",
       "      <td>1</td>\n",
       "      <td>0</td>\n",
       "      <td>53.1000</td>\n",
       "    </tr>\n",
       "    <tr>\n",
       "      <th>4</th>\n",
       "      <td>5</td>\n",
       "      <td>0</td>\n",
       "      <td>3</td>\n",
       "      <td>0</td>\n",
       "      <td>35.0</td>\n",
       "      <td>0</td>\n",
       "      <td>0</td>\n",
       "      <td>8.0500</td>\n",
       "    </tr>\n",
       "  </tbody>\n",
       "</table>\n",
       "</div>"
      ],
      "text/plain": [
       "   PassengerId  Survived  Pclass  Sex   Age  SibSp  Parch     Fare\n",
       "0            1         0       3    0  22.0      1      0   7.2500\n",
       "1            2         1       1    1  38.0      1      0  71.2833\n",
       "2            3         1       3    1  26.0      0      0   7.9250\n",
       "3            4         1       1    1  35.0      1      0  53.1000\n",
       "4            5         0       3    0  35.0      0      0   8.0500"
      ]
     },
     "execution_count": 22,
     "metadata": {},
     "output_type": "execute_result"
    }
   ],
   "source": [
    "from sklearn.ensemble import RandomForestClassifier\n",
    "\n",
    "df = pd.read_csv('../data_set/5.스케일링/titanic_cleaning.csv')\n",
    "df.head()"
   ]
  },
  {
   "cell_type": "code",
   "execution_count": 23,
   "id": "37e2b231-9c70-4ea1-9e43-6240609da52f",
   "metadata": {},
   "outputs": [
    {
     "data": {
      "text/plain": [
       "Index(['PassengerId', 'Survived', 'Pclass', 'Sex', 'Age', 'SibSp', 'Parch',\n",
       "       'Fare'],\n",
       "      dtype='object')"
      ]
     },
     "execution_count": 23,
     "metadata": {},
     "output_type": "execute_result"
    }
   ],
   "source": [
    "df.columns"
   ]
  },
  {
   "cell_type": "code",
   "execution_count": 24,
   "id": "c71ea97c-1f83-4171-9700-399c72100ec7",
   "metadata": {},
   "outputs": [],
   "source": [
    "features = ['Pclass', 'Sex', 'Age', 'SibSp', 'Parch', 'Fare']\n",
    "label = 'Survived'\n",
    "X, y = df[features], df[label]"
   ]
  },
  {
   "cell_type": "code",
   "execution_count": 26,
   "id": "d6d040b2-618c-4f8b-871e-313ac0055c8f",
   "metadata": {},
   "outputs": [
    {
     "name": "stdout",
     "output_type": "stream",
     "text": [
      "train :  0.9901685393258427\n",
      "test  :  0.8212290502793296\n"
     ]
    }
   ],
   "source": [
    "X_train, X_test, y_train, y_test = train_test_split(X, y, test_size=0.2)\n",
    "rfc = RandomForestClassifier()\n",
    "rfc.fit(X_train, y_train)\n",
    "print(\"train : \" , rfc.score(X_train, y_train))\n",
    "print(\"test  : \" , rfc.score(X_test, y_test))"
   ]
  },
  {
   "cell_type": "code",
   "execution_count": 32,
   "id": "36402a66-4e7d-4f01-9455-5ddef0c20404",
   "metadata": {},
   "outputs": [
    {
     "name": "stdout",
     "output_type": "stream",
     "text": [
      "train :  0.8595505617977528\n",
      "test  :  0.7988826815642458\n"
     ]
    }
   ],
   "source": [
    "rfc = RandomForestClassifier(n_estimators=100, max_depth=1000, min_samples_leaf=10)\n",
    "rfc.fit(X_train, y_train)\n",
    "print(\"train : \" , rfc.score(X_train, y_train))\n",
    "print(\"test  : \" , rfc.score(X_test, y_test))"
   ]
  },
  {
   "cell_type": "code",
   "execution_count": 34,
   "id": "4962b6a7-85d2-4657-84f5-d227c47eec9e",
   "metadata": {},
   "outputs": [
    {
     "name": "stdout",
     "output_type": "stream",
     "text": [
      "최적의 하이퍼파라미터 :  {'max_depth': 8, 'min_samples_leaf': 5, 'n_estimators': 60}\n",
      "train :  0.8778089887640449\n",
      "test  :  0.8100558659217877\n"
     ]
    }
   ],
   "source": [
    "params = {\n",
    "    \"n_estimators\" : range(10, 101, 10),\n",
    "    \"max_depth\" :  range(4, 11, 2), \n",
    "    \"min_samples_leaf\" :  range(5, 21, 5)\n",
    "}\n",
    "\n",
    "rfc = RandomForestClassifier()\n",
    "\n",
    "grid_cv = GridSearchCV(rfc, param_grid=params, cv=3, n_jobs=-1)\n",
    "grid_cv.fit(X_train, y_train)\n",
    "print(\"최적의 하이퍼파라미터 : \", grid_cv.best_params_)\n",
    "print(\"train : \", grid_cv.score(X_train, y_train))\n",
    "print(\"test  : \", grid_cv.score(X_test, y_test))"
   ]
  },
  {
   "cell_type": "code",
   "execution_count": 37,
   "id": "5b620815-41af-4476-a6cd-6990ea85d48d",
   "metadata": {},
   "outputs": [
    {
     "name": "stdout",
     "output_type": "stream",
     "text": [
      "0.6137640449438202\n",
      "0.6312849162011173\n"
     ]
    }
   ],
   "source": [
    "# 위에 결과에 맞는 최적의 하이퍼 파라미터 사용하기\n",
    "rfc = RandomForestClassifier(max_depth=8, min_samples_leaf=5, n_estimators=60)\n",
    "rfc.fit(X_train_minMax, y_train)\n",
    "\n",
    "print(rfc.score(X_train, y_train))\n",
    "print(rfc.score(X_test, y_test))"
   ]
  },
  {
   "cell_type": "code",
   "execution_count": 35,
   "id": "0de8519f-9635-4450-86ec-b2c8f9683a14",
   "metadata": {},
   "outputs": [
    {
     "data": {
      "text/plain": [
       "array([1, 0, 1, 1, 1, 0, 1, 0, 0, 0, 0, 0, 1, 0, 1, 0, 0, 1, 1, 0, 0, 0,\n",
       "       1, 1, 0, 1, 0, 1, 1, 1, 0, 1, 1, 1, 0, 0, 0, 1, 0, 0, 1, 0, 0, 0,\n",
       "       0, 0, 0, 0, 0, 1, 0, 0, 0, 1, 0, 0, 0, 0, 1, 0, 0, 1, 1, 0, 0, 1,\n",
       "       0, 0, 1, 0, 0, 0, 0, 0, 0, 0, 0, 0, 0, 0, 1, 0, 1, 0, 0, 1, 1, 0,\n",
       "       1, 1, 1, 0, 0, 0, 1, 0, 1, 0, 0, 0, 1, 0, 1, 0, 0, 0, 0, 1, 0, 0,\n",
       "       0, 0, 0, 0, 0, 0, 0, 0, 0, 0, 1, 1, 1, 0, 0, 1, 0, 0, 0, 1, 0, 0,\n",
       "       0, 0, 1, 1, 0, 1, 1, 0, 0, 0, 0, 0, 0, 0, 1, 0, 0, 0, 0, 1, 0, 1,\n",
       "       0, 0, 0, 0, 0, 1, 0, 1, 0, 1, 0, 1, 0, 0, 1, 0, 0, 1, 1, 1, 1, 0,\n",
       "       0, 0, 0, 0, 0, 0, 0, 0, 1, 1, 1, 0, 0, 0, 1, 0, 1, 1, 0, 0, 1, 0,\n",
       "       0, 1, 1, 1, 0, 1, 1, 1, 0, 1, 0, 1, 0, 0, 0, 0, 0, 0, 1, 0, 0, 0,\n",
       "       0, 1, 1, 1, 1, 0, 0, 1, 0, 0, 1, 0, 0, 0, 0, 1, 0, 1, 0, 0, 1, 1,\n",
       "       0, 0, 0, 1, 0, 0, 0, 0, 0, 0, 0, 0, 0, 0, 0, 1, 0, 0, 0, 0, 0, 1,\n",
       "       0, 1, 0, 0, 0, 0, 0, 1, 1, 0, 0, 0, 0, 1, 1, 0, 0, 0, 0, 1, 1, 0,\n",
       "       0, 0, 0, 0, 0, 0, 0, 0, 0, 0, 0, 0, 0, 0, 0, 0, 1, 1, 0, 0, 0, 1,\n",
       "       0, 1, 0, 0, 1, 0, 0, 1, 1, 1, 0, 1, 0, 0, 1, 0, 0, 0, 0, 0, 0, 1,\n",
       "       0, 0, 0, 1, 1, 0, 0, 1, 1, 1, 0, 1, 0, 0, 1, 1, 1, 1, 0, 0, 1, 0,\n",
       "       0, 1, 1, 0, 1, 1, 1, 0, 1, 1, 0, 0, 0, 0, 0, 0, 1, 0, 1, 0, 0, 1,\n",
       "       1, 1, 1, 0, 1, 0, 0, 0, 0, 1, 1, 0, 0, 1, 0, 0, 0, 0, 1, 1, 0, 0,\n",
       "       1, 1, 0, 1, 0, 0, 0, 0, 0, 0, 0, 0, 0, 1, 0, 0, 0, 0, 0, 1, 0, 0,\n",
       "       0, 0, 0, 0, 0, 0, 0, 0, 1, 1, 0, 0, 1, 1, 0, 0, 0, 1, 0, 0, 0, 1,\n",
       "       0, 1, 0, 0, 0, 0, 0, 1, 0, 0, 0, 0, 0, 0, 0, 1, 0, 0, 0, 0, 1, 0,\n",
       "       0, 0, 1, 0, 0, 1, 0, 1, 0, 0, 0, 0, 0, 0, 0, 1, 0, 0, 1, 0, 1, 0,\n",
       "       0, 0, 0, 0, 0, 0, 1, 0, 0, 1, 0, 0, 0, 1, 1, 0, 0, 0, 0, 0, 0, 1,\n",
       "       0, 0, 0, 1, 0, 0, 1, 0, 1, 0, 0, 1, 0, 0, 1, 0, 0, 0, 0, 0, 1, 0,\n",
       "       1, 0, 1, 1, 0, 0, 0, 1, 0, 1, 0, 0, 1, 1, 0, 1, 0, 1, 0, 0, 0, 0,\n",
       "       0, 0, 1, 1, 0, 0, 0, 0, 0, 1, 0, 0, 0, 0, 0, 1, 0, 0, 0, 0, 0, 1,\n",
       "       0, 0, 1, 0, 0, 0, 0, 1, 0, 0, 0, 0, 0, 1, 0, 1, 0, 0, 0, 1, 1, 1,\n",
       "       1, 0, 1, 0, 1, 0, 0, 0, 0, 1, 0, 0, 0, 0, 1, 1, 0, 0, 0, 0, 1, 1,\n",
       "       0, 0, 0, 1, 1, 0, 0, 1, 1, 0, 1, 0, 1, 1, 0, 0, 0, 0, 1, 0, 0, 0,\n",
       "       0, 1, 0, 0, 0, 0, 0, 0, 0, 1, 1, 0, 0, 0, 0, 1, 0, 0, 0, 1, 0, 1,\n",
       "       1, 0, 1, 0, 1, 0, 1, 1, 1, 0, 0, 0, 0, 0, 0, 0, 0, 1, 0, 0, 1, 0,\n",
       "       0, 0, 0, 1, 0, 1, 0, 0, 0, 1, 0, 1, 1, 0, 1, 0, 1, 0, 1, 1, 0, 1,\n",
       "       1, 0, 1, 0, 0, 0, 0, 0], dtype=int64)"
      ]
     },
     "execution_count": 35,
     "metadata": {},
     "output_type": "execute_result"
    }
   ],
   "source": [
    "grid_cv.predict( X_train )"
   ]
  },
  {
   "cell_type": "markdown",
   "id": "cfe5c1fb-c134-482e-81b9-12aa0568f44c",
   "metadata": {},
   "source": [
    "### 하이퍼파라미터\r\n",
    "* n_estimators\r\n",
    "    - 학습기의 수 설정.\r\n",
    "    - 많으면 예측률은 올라가나 시간이 오래걸릴 수 있음.\r\n",
    "* learning_rate\r\n",
    "    - GBM이 학습을 진행할 때마다 적용하는 학습률로서 순차적으로 오류 값을 보정해가는 데 적용하는 수 이다\r\n",
    "    - 0~1 사이의 값으로 지정한다. default=0.1\r\n",
    "    - 너무 작은 값이면 업데이트를 너무 많이 하게 되어 꼼꼼하지만 시간이 오래 걸린다\r\n",
    "    - 너무 큰 값이면 최소 오류 값을 찾지 못할 수 있지만 빠르다\r\n",
    "* subsample\r\n",
    "    - 학습기가 학습에 사용하는 데이터 샘플의 비율(0~1). default=1.\r\n",
    "    - 0.5일경우 50%학습데이터를 사용한다는 것이다\r\n",
    "    - 과대적합을 줄이려면 작은 값을 적용해야 한다."
   ]
  },
  {
   "cell_type": "code",
   "execution_count": 38,
   "id": "0b7968c8-d681-4e6d-ba99-7da385dc688d",
   "metadata": {},
   "outputs": [
    {
     "name": "stdout",
     "output_type": "stream",
     "text": [
      "train :  0.9087078651685393\n",
      "test  :  0.8156424581005587\n"
     ]
    }
   ],
   "source": [
    "from sklearn.ensemble import GradientBoostingClassifier\n",
    "gb = GradientBoostingClassifier()\n",
    "gb.fit(X_train, y_train)\n",
    "print(\"train : \", gb.score(X_train, y_train))\n",
    "print(\"test  : \", gb.score(X_test, y_test))"
   ]
  },
  {
   "cell_type": "code",
   "execution_count": 41,
   "id": "1906c1e6-d09f-4606-88c9-3793b5c928eb",
   "metadata": {},
   "outputs": [
    {
     "name": "stdout",
     "output_type": "stream",
     "text": [
      "train :  0.9073033707865169\n",
      "test  :  0.8268156424581006\n"
     ]
    }
   ],
   "source": [
    "gb = GradientBoostingClassifier(learning_rate=0.1, n_estimators=100, subsample=0.9)\n",
    "gb.fit(X_train, y_train)\n",
    "print(\"train : \", gb.score(X_train, y_train))\n",
    "print(\"test  : \", gb.score(X_test, y_test))"
   ]
  },
  {
   "cell_type": "code",
   "execution_count": 44,
   "id": "2dbd855b-6291-4fa4-af7b-8d5fc7076d43",
   "metadata": {},
   "outputs": [
    {
     "name": "stdout",
     "output_type": "stream",
     "text": [
      "파라미터 :  {'learning_rate': 0.1, 'n_estimators': 100, 'subsample': 0.7000000000000001}\n",
      "train :  0.9101123595505618\n",
      "test  :  0.8379888268156425\n"
     ]
    }
   ],
   "source": [
    "import numpy as np\n",
    "params = {\n",
    "    \"learning_rate\" : [0.1, 0.3, 0.5, 0.7, 0.9], #np.arange(0.1, 1, 0.2)\n",
    "    \"n_estimators\" : [100, 200, 300, 400, 500],  #range(100, 500, 100)\n",
    "    \"subsample\" : np.arange(0.1, 1, 0.2)\n",
    "}\n",
    "gb = GradientBoostingClassifier()\n",
    "\n",
    "grid_cv = GridSearchCV(gb, param_grid=params, cv=3, n_jobs=-1)\n",
    "grid_cv.fit(X_train, y_train)\n",
    "print(\"파라미터 : \" , grid_cv.best_params_)\n",
    "print(\"train : \", grid_cv.score(X_train, y_train))\n",
    "print(\"test  : \", grid_cv.score(X_test, y_test))"
   ]
  },
  {
   "cell_type": "code",
   "execution_count": 43,
   "id": "56c394c6-9841-4d2b-826e-4b6bc90f2f45",
   "metadata": {},
   "outputs": [
    {
     "name": "stdout",
     "output_type": "stream",
     "text": [
      "train :  0.9002808988764045\n",
      "test  :  0.8379888268156425\n"
     ]
    }
   ],
   "source": [
    "gb = GradientBoostingClassifier(learning_rate=0.1, n_estimators=100, subsample=0.7000000000000001)\n",
    "gb.fit(X_train, y_train)\n",
    "print(\"train : \", gb.score(X_train, y_train))\n",
    "print(\"test  : \", gb.score(X_test, y_test))"
   ]
  }
 ],
 "metadata": {
  "kernelspec": {
   "display_name": "Python 3 (ipykernel)",
   "language": "python",
   "name": "python3"
  },
  "language_info": {
   "codemirror_mode": {
    "name": "ipython",
    "version": 3
   },
   "file_extension": ".py",
   "mimetype": "text/x-python",
   "name": "python",
   "nbconvert_exporter": "python",
   "pygments_lexer": "ipython3",
   "version": "3.11.7"
  }
 },
 "nbformat": 4,
 "nbformat_minor": 5
}
