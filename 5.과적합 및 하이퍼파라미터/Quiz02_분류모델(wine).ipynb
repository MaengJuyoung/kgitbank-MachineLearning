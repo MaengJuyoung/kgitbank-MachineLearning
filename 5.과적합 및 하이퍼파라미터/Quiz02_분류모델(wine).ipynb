{
 "cells": [
  {
   "cell_type": "markdown",
   "id": "666a1867-a802-46a8-a125-f4104f6f2fb1",
   "metadata": {},
   "source": [
    "# 1. Quiz (wineQT.csv)\r\n",
    "* 각 분류기들을 이용하여 모델을 생성하고 평가하시오 .(quality)\r\n",
    "* 0: 주석산 농도\r\n",
    "* 1: 아세트산 농도\r\n",
    "* 2: 구연산 농도\r\n",
    "* 3: 잔류 당분 농도\r\n",
    "* 4: 염화 나트륨 농도\r\n",
    "* 5: 유리 아황산 농도\r\n",
    "* 6: 총 아황산 농도\r\n",
    "* 7: 밀도\r\n",
    "* 8: pH 농도\r\n",
    "* 9: 황산칼륨 농도\r\n",
    "* 10: 알코올 도수\r\n",
    "* 11: 와인 등급(0~10)\r\n",
    "\r\n",
    "* 11번은 target, 나머지는 feature들이 된다.는 feature들이 된다.feature들이 된다."
   ]
  },
  {
   "cell_type": "markdown",
   "id": "569d8ab0-7ab4-4662-a346-c5bf22d3570f",
   "metadata": {},
   "source": [
    "# 2. 데이터셋 로드"
   ]
  },
  {
   "cell_type": "code",
   "execution_count": 9,
   "id": "d5dbf6c5-7ac7-4981-9e03-ee83514d2353",
   "metadata": {},
   "outputs": [
    {
     "data": {
      "text/html": [
       "<div>\n",
       "<style scoped>\n",
       "    .dataframe tbody tr th:only-of-type {\n",
       "        vertical-align: middle;\n",
       "    }\n",
       "\n",
       "    .dataframe tbody tr th {\n",
       "        vertical-align: top;\n",
       "    }\n",
       "\n",
       "    .dataframe thead th {\n",
       "        text-align: right;\n",
       "    }\n",
       "</style>\n",
       "<table border=\"1\" class=\"dataframe\">\n",
       "  <thead>\n",
       "    <tr style=\"text-align: right;\">\n",
       "      <th></th>\n",
       "      <th>fixed acidity</th>\n",
       "      <th>volatile acidity</th>\n",
       "      <th>citric acid</th>\n",
       "      <th>residual sugar</th>\n",
       "      <th>chlorides</th>\n",
       "      <th>free sulfur dioxide</th>\n",
       "      <th>total sulfur dioxide</th>\n",
       "      <th>density</th>\n",
       "      <th>pH</th>\n",
       "      <th>sulphates</th>\n",
       "      <th>alcohol</th>\n",
       "      <th>quality</th>\n",
       "      <th>Id</th>\n",
       "    </tr>\n",
       "  </thead>\n",
       "  <tbody>\n",
       "    <tr>\n",
       "      <th>0</th>\n",
       "      <td>7.4</td>\n",
       "      <td>0.700</td>\n",
       "      <td>0.00</td>\n",
       "      <td>1.9</td>\n",
       "      <td>0.076</td>\n",
       "      <td>11.0</td>\n",
       "      <td>34.0</td>\n",
       "      <td>0.99780</td>\n",
       "      <td>3.51</td>\n",
       "      <td>0.56</td>\n",
       "      <td>9.4</td>\n",
       "      <td>5</td>\n",
       "      <td>0</td>\n",
       "    </tr>\n",
       "    <tr>\n",
       "      <th>1</th>\n",
       "      <td>7.8</td>\n",
       "      <td>0.880</td>\n",
       "      <td>0.00</td>\n",
       "      <td>2.6</td>\n",
       "      <td>0.098</td>\n",
       "      <td>25.0</td>\n",
       "      <td>67.0</td>\n",
       "      <td>0.99680</td>\n",
       "      <td>3.20</td>\n",
       "      <td>0.68</td>\n",
       "      <td>9.8</td>\n",
       "      <td>5</td>\n",
       "      <td>1</td>\n",
       "    </tr>\n",
       "    <tr>\n",
       "      <th>2</th>\n",
       "      <td>7.8</td>\n",
       "      <td>0.760</td>\n",
       "      <td>0.04</td>\n",
       "      <td>2.3</td>\n",
       "      <td>0.092</td>\n",
       "      <td>15.0</td>\n",
       "      <td>54.0</td>\n",
       "      <td>0.99700</td>\n",
       "      <td>3.26</td>\n",
       "      <td>0.65</td>\n",
       "      <td>9.8</td>\n",
       "      <td>5</td>\n",
       "      <td>2</td>\n",
       "    </tr>\n",
       "    <tr>\n",
       "      <th>3</th>\n",
       "      <td>11.2</td>\n",
       "      <td>0.280</td>\n",
       "      <td>0.56</td>\n",
       "      <td>1.9</td>\n",
       "      <td>0.075</td>\n",
       "      <td>17.0</td>\n",
       "      <td>60.0</td>\n",
       "      <td>0.99800</td>\n",
       "      <td>3.16</td>\n",
       "      <td>0.58</td>\n",
       "      <td>9.8</td>\n",
       "      <td>6</td>\n",
       "      <td>3</td>\n",
       "    </tr>\n",
       "    <tr>\n",
       "      <th>4</th>\n",
       "      <td>7.4</td>\n",
       "      <td>0.700</td>\n",
       "      <td>0.00</td>\n",
       "      <td>1.9</td>\n",
       "      <td>0.076</td>\n",
       "      <td>11.0</td>\n",
       "      <td>34.0</td>\n",
       "      <td>0.99780</td>\n",
       "      <td>3.51</td>\n",
       "      <td>0.56</td>\n",
       "      <td>9.4</td>\n",
       "      <td>5</td>\n",
       "      <td>4</td>\n",
       "    </tr>\n",
       "    <tr>\n",
       "      <th>...</th>\n",
       "      <td>...</td>\n",
       "      <td>...</td>\n",
       "      <td>...</td>\n",
       "      <td>...</td>\n",
       "      <td>...</td>\n",
       "      <td>...</td>\n",
       "      <td>...</td>\n",
       "      <td>...</td>\n",
       "      <td>...</td>\n",
       "      <td>...</td>\n",
       "      <td>...</td>\n",
       "      <td>...</td>\n",
       "      <td>...</td>\n",
       "    </tr>\n",
       "    <tr>\n",
       "      <th>1138</th>\n",
       "      <td>6.3</td>\n",
       "      <td>0.510</td>\n",
       "      <td>0.13</td>\n",
       "      <td>2.3</td>\n",
       "      <td>0.076</td>\n",
       "      <td>29.0</td>\n",
       "      <td>40.0</td>\n",
       "      <td>0.99574</td>\n",
       "      <td>3.42</td>\n",
       "      <td>0.75</td>\n",
       "      <td>11.0</td>\n",
       "      <td>6</td>\n",
       "      <td>1592</td>\n",
       "    </tr>\n",
       "    <tr>\n",
       "      <th>1139</th>\n",
       "      <td>6.8</td>\n",
       "      <td>0.620</td>\n",
       "      <td>0.08</td>\n",
       "      <td>1.9</td>\n",
       "      <td>0.068</td>\n",
       "      <td>28.0</td>\n",
       "      <td>38.0</td>\n",
       "      <td>0.99651</td>\n",
       "      <td>3.42</td>\n",
       "      <td>0.82</td>\n",
       "      <td>9.5</td>\n",
       "      <td>6</td>\n",
       "      <td>1593</td>\n",
       "    </tr>\n",
       "    <tr>\n",
       "      <th>1140</th>\n",
       "      <td>6.2</td>\n",
       "      <td>0.600</td>\n",
       "      <td>0.08</td>\n",
       "      <td>2.0</td>\n",
       "      <td>0.090</td>\n",
       "      <td>32.0</td>\n",
       "      <td>44.0</td>\n",
       "      <td>0.99490</td>\n",
       "      <td>3.45</td>\n",
       "      <td>0.58</td>\n",
       "      <td>10.5</td>\n",
       "      <td>5</td>\n",
       "      <td>1594</td>\n",
       "    </tr>\n",
       "    <tr>\n",
       "      <th>1141</th>\n",
       "      <td>5.9</td>\n",
       "      <td>0.550</td>\n",
       "      <td>0.10</td>\n",
       "      <td>2.2</td>\n",
       "      <td>0.062</td>\n",
       "      <td>39.0</td>\n",
       "      <td>51.0</td>\n",
       "      <td>0.99512</td>\n",
       "      <td>3.52</td>\n",
       "      <td>0.76</td>\n",
       "      <td>11.2</td>\n",
       "      <td>6</td>\n",
       "      <td>1595</td>\n",
       "    </tr>\n",
       "    <tr>\n",
       "      <th>1142</th>\n",
       "      <td>5.9</td>\n",
       "      <td>0.645</td>\n",
       "      <td>0.12</td>\n",
       "      <td>2.0</td>\n",
       "      <td>0.075</td>\n",
       "      <td>32.0</td>\n",
       "      <td>44.0</td>\n",
       "      <td>0.99547</td>\n",
       "      <td>3.57</td>\n",
       "      <td>0.71</td>\n",
       "      <td>10.2</td>\n",
       "      <td>5</td>\n",
       "      <td>1597</td>\n",
       "    </tr>\n",
       "  </tbody>\n",
       "</table>\n",
       "<p>1143 rows × 13 columns</p>\n",
       "</div>"
      ],
      "text/plain": [
       "      fixed acidity  volatile acidity  citric acid  residual sugar  chlorides  \\\n",
       "0               7.4             0.700         0.00             1.9      0.076   \n",
       "1               7.8             0.880         0.00             2.6      0.098   \n",
       "2               7.8             0.760         0.04             2.3      0.092   \n",
       "3              11.2             0.280         0.56             1.9      0.075   \n",
       "4               7.4             0.700         0.00             1.9      0.076   \n",
       "...             ...               ...          ...             ...        ...   \n",
       "1138            6.3             0.510         0.13             2.3      0.076   \n",
       "1139            6.8             0.620         0.08             1.9      0.068   \n",
       "1140            6.2             0.600         0.08             2.0      0.090   \n",
       "1141            5.9             0.550         0.10             2.2      0.062   \n",
       "1142            5.9             0.645         0.12             2.0      0.075   \n",
       "\n",
       "      free sulfur dioxide  total sulfur dioxide  density    pH  sulphates  \\\n",
       "0                    11.0                  34.0  0.99780  3.51       0.56   \n",
       "1                    25.0                  67.0  0.99680  3.20       0.68   \n",
       "2                    15.0                  54.0  0.99700  3.26       0.65   \n",
       "3                    17.0                  60.0  0.99800  3.16       0.58   \n",
       "4                    11.0                  34.0  0.99780  3.51       0.56   \n",
       "...                   ...                   ...      ...   ...        ...   \n",
       "1138                 29.0                  40.0  0.99574  3.42       0.75   \n",
       "1139                 28.0                  38.0  0.99651  3.42       0.82   \n",
       "1140                 32.0                  44.0  0.99490  3.45       0.58   \n",
       "1141                 39.0                  51.0  0.99512  3.52       0.76   \n",
       "1142                 32.0                  44.0  0.99547  3.57       0.71   \n",
       "\n",
       "      alcohol  quality    Id  \n",
       "0         9.4        5     0  \n",
       "1         9.8        5     1  \n",
       "2         9.8        5     2  \n",
       "3         9.8        6     3  \n",
       "4         9.4        5     4  \n",
       "...       ...      ...   ...  \n",
       "1138     11.0        6  1592  \n",
       "1139      9.5        6  1593  \n",
       "1140     10.5        5  1594  \n",
       "1141     11.2        6  1595  \n",
       "1142     10.2        5  1597  \n",
       "\n",
       "[1143 rows x 13 columns]"
      ]
     },
     "execution_count": 9,
     "metadata": {},
     "output_type": "execute_result"
    }
   ],
   "source": [
    "import pandas as pd\n",
    "wine = pd.read_csv('../data_set/5.스케일링/wineQT.csv')\n",
    "#wine.head()\n",
    "wine"
   ]
  },
  {
   "cell_type": "code",
   "execution_count": 10,
   "id": "50c1e8ff-e7f3-4011-8571-6cb84804de8f",
   "metadata": {},
   "outputs": [
    {
     "name": "stdout",
     "output_type": "stream",
     "text": [
      "<class 'pandas.core.frame.DataFrame'>\n",
      "RangeIndex: 1143 entries, 0 to 1142\n",
      "Data columns (total 13 columns):\n",
      " #   Column                Non-Null Count  Dtype  \n",
      "---  ------                --------------  -----  \n",
      " 0   fixed acidity         1143 non-null   float64\n",
      " 1   volatile acidity      1143 non-null   float64\n",
      " 2   citric acid           1143 non-null   float64\n",
      " 3   residual sugar        1143 non-null   float64\n",
      " 4   chlorides             1143 non-null   float64\n",
      " 5   free sulfur dioxide   1143 non-null   float64\n",
      " 6   total sulfur dioxide  1143 non-null   float64\n",
      " 7   density               1143 non-null   float64\n",
      " 8   pH                    1143 non-null   float64\n",
      " 9   sulphates             1143 non-null   float64\n",
      " 10  alcohol               1143 non-null   float64\n",
      " 11  quality               1143 non-null   int64  \n",
      " 12  Id                    1143 non-null   int64  \n",
      "dtypes: float64(11), int64(2)\n",
      "memory usage: 116.2 KB\n"
     ]
    }
   ],
   "source": [
    "wine.info()"
   ]
  },
  {
   "cell_type": "code",
   "execution_count": 6,
   "id": "84d0c7ee-5240-4cdb-8e10-79104f48fd23",
   "metadata": {},
   "outputs": [
    {
     "data": {
      "text/plain": [
       "Index(['fixed acidity', 'volatile acidity', 'citric acid', 'residual sugar',\n",
       "       'chlorides', 'free sulfur dioxide', 'total sulfur dioxide', 'density',\n",
       "       'pH', 'sulphates', 'alcohol', 'quality', 'Id'],\n",
       "      dtype='object')"
      ]
     },
     "execution_count": 6,
     "metadata": {},
     "output_type": "execute_result"
    }
   ],
   "source": [
    "wine.columns"
   ]
  },
  {
   "cell_type": "code",
   "execution_count": 11,
   "id": "48defa72-bf27-4abb-9349-96d4db9b400d",
   "metadata": {},
   "outputs": [],
   "source": [
    "features = ['fixed acidity', 'volatile acidity', 'citric acid', 'residual sugar',\n",
    "       'chlorides', 'free sulfur dioxide', 'total sulfur dioxide', 'density',\n",
    "       'pH', 'sulphates', 'alcohol']\n",
    "label = 'quality'\n",
    "X, y = wine[features], wine[label]"
   ]
  },
  {
   "cell_type": "markdown",
   "id": "136192e6-ed07-4379-9bb9-0c6002f6a62d",
   "metadata": {},
   "source": [
    "# 3. train, test 데이터셋 구분"
   ]
  },
  {
   "cell_type": "code",
   "execution_count": 14,
   "id": "c6d4468d-6e29-487f-8d9a-191780fd70fd",
   "metadata": {},
   "outputs": [],
   "source": [
    "from sklearn.model_selection import train_test_split\n",
    "\n",
    "X_train, X_test, y_train, y_test = train_test_split(X, y, test_size=0.2, random_state=62)"
   ]
  },
  {
   "cell_type": "markdown",
   "id": "04bd6e84-51f9-4d3c-bd02-9a362a7e3b86",
   "metadata": {},
   "source": [
    "# 4. KNN"
   ]
  },
  {
   "cell_type": "code",
   "execution_count": 15,
   "id": "069bc1c8-a967-45ed-b654-196c62607454",
   "metadata": {},
   "outputs": [],
   "source": [
    "from sklearn.neighbors import KNeighborsClassifier\n",
    "from sklearn.preprocessing import MinMaxScaler\n",
    "\n",
    "import warnings\n",
    "warnings.filterwarnings('ignore')"
   ]
  },
  {
   "cell_type": "markdown",
   "id": "57b3cdb2-a28a-4c62-ae3d-9606b2f8b675",
   "metadata": {},
   "source": [
    "## 4.1 KNN 예측"
   ]
  },
  {
   "cell_type": "code",
   "execution_count": 16,
   "id": "0ef9ad65-8715-4395-973e-5584fd2b030e",
   "metadata": {},
   "outputs": [
    {
     "name": "stdout",
     "output_type": "stream",
     "text": [
      "train :  0.6586433260393874\n",
      "test  :  0.5414847161572053\n"
     ]
    }
   ],
   "source": [
    "knn = KNeighborsClassifier()\n",
    "knn.fit(X_train, y_train)\n",
    "print(\"train : \", knn.score(X_train, y_train))\n",
    "print(\"test  : \", knn.score(X_test, y_test))"
   ]
  },
  {
   "cell_type": "markdown",
   "id": "ada3cbb3-e251-48ac-b78b-b920974cb747",
   "metadata": {},
   "source": [
    "## 4.2 MinMax 스케일링"
   ]
  },
  {
   "cell_type": "code",
   "execution_count": 17,
   "id": "a78c1034-749f-4dcb-9191-eeef29ce4289",
   "metadata": {},
   "outputs": [],
   "source": [
    "minMaxScaler = MinMaxScaler()\n",
    "minMaxScaler.fit(X_train)\n",
    "X_train_minMax = minMaxScaler.transform(X_train)\n",
    "X_test_minMax = minMaxScaler.transform(X_test)"
   ]
  },
  {
   "cell_type": "code",
   "execution_count": 18,
   "id": "108fc257-baa9-47cc-b1af-d46ecacbc030",
   "metadata": {},
   "outputs": [
    {
     "name": "stdout",
     "output_type": "stream",
     "text": [
      "train :  0.7166301969365426\n",
      "test  :  0.5676855895196506\n"
     ]
    }
   ],
   "source": [
    "knn = KNeighborsClassifier()\n",
    "knn.fit(X_train_minMax, y_train)\n",
    "print(\"train : \", knn.score(X_train_minMax, y_train))\n",
    "print(\"test  : \", knn.score(X_test_minMax, y_test))"
   ]
  },
  {
   "cell_type": "markdown",
   "id": "4b701f6d-eebe-476e-ac7d-51491439a0e8",
   "metadata": {},
   "source": [
    "# 4.3 하이퍼파라미터 및 GridSearchCV"
   ]
  },
  {
   "cell_type": "code",
   "execution_count": 19,
   "id": "3d133f02-3444-433f-8edf-3b641114effe",
   "metadata": {},
   "outputs": [
    {
     "name": "stdout",
     "output_type": "stream",
     "text": [
      "최적의 하이퍼 파라미터 :  {'metric': 'euclidean', 'n_neighbors': 10, 'weights': 'distance'}\n",
      "1.0\n",
      "0.6593886462882096\n"
     ]
    }
   ],
   "source": [
    "from sklearn.model_selection import GridSearchCV\n",
    "params = {\n",
    "    'n_neighbors' : range(1, 11),           # [1], 1으로 설정하면 과대적합이 나온다는 것을 보여주자 \n",
    "    'metric' : ['mangattan', 'euclidean'],  # 거리기반 알고리즘\n",
    "    'weights' : ['uniform', 'distance']     # 균등가중치, 가까운 데이터 가중치\n",
    "}\n",
    "knn = KNeighborsClassifier()    # 모델 생성\n",
    "\n",
    "grid_cv = GridSearchCV(knn, param_grid=params, cv=3, n_jobs=-1)\n",
    "grid_cv.fit(X_train_minMax, y_train)\n",
    "\n",
    "print(\"최적의 하이퍼 파라미터 : \", grid_cv.best_params_)\n",
    "print(grid_cv.score(X_train_minMax, y_train))\n",
    "print(grid_cv.score(X_test_minMax, y_test))"
   ]
  },
  {
   "cell_type": "markdown",
   "id": "f7661c67-d7c1-4f93-b2eb-b88a87944842",
   "metadata": {},
   "source": [
    "# 5. svm\n",
    "## 5.1 선형 모델"
   ]
  },
  {
   "cell_type": "code",
   "execution_count": 20,
   "id": "983f80b4-680e-4c57-9592-18cd9860daed",
   "metadata": {},
   "outputs": [
    {
     "name": "stdout",
     "output_type": "stream",
     "text": [
      "train :  0.5864332603938731\n",
      "test  :  0.6244541484716157\n"
     ]
    }
   ],
   "source": [
    "from sklearn.svm import SVC\n",
    "\n",
    "svc_linear = SVC(kernel='linear')\n",
    "svc_linear.fit(X_train, y_train)\n",
    "print(\"train : \", svc_linear.score(X_train, y_train))\n",
    "print(\"test  : \", svc_linear.score(X_test, y_test))"
   ]
  },
  {
   "cell_type": "markdown",
   "id": "3d79d078-c1e5-45eb-bc93-3f4d0ec23acd",
   "metadata": {},
   "source": [
    "## 5.2 StandardScaler\n",
    "* MinMax보다 예측력이 좋아서 Standard를 사용했다. "
   ]
  },
  {
   "cell_type": "code",
   "execution_count": 21,
   "id": "06b71b08-8c7b-4324-a01b-5085009623fe",
   "metadata": {},
   "outputs": [],
   "source": [
    "from sklearn.preprocessing import StandardScaler\n",
    "\n",
    "scaler = StandardScaler()\n",
    "scaler.fit(X_train)\n",
    "\n",
    "X_train_scaler = scaler.transform(X_train)\n",
    "X_test_scaler = scaler.transform(X_test)"
   ]
  },
  {
   "cell_type": "code",
   "execution_count": 22,
   "id": "2b9370a1-5f7e-47a0-8cf5-0f240069c8c1",
   "metadata": {},
   "outputs": [
    {
     "name": "stdout",
     "output_type": "stream",
     "text": [
      "train :  0.6170678336980306\n",
      "test  :  0.6200873362445415\n"
     ]
    }
   ],
   "source": [
    "svc_linear.fit(X_train_scaler, y_train)\n",
    "\n",
    "print(\"train : \", svc_linear.score(X_train_scaler, y_train))\n",
    "print(\"test  : \", svc_linear.score(X_test_scaler, y_test))"
   ]
  },
  {
   "cell_type": "markdown",
   "id": "e307e5a9-643d-4f37-aac5-1397fefdccbc",
   "metadata": {},
   "source": [
    "## 5.3 하이퍼파라미터 및 GridSearchCV"
   ]
  },
  {
   "cell_type": "code",
   "execution_count": 23,
   "id": "d1002c8a-9cd4-4bd9-be5a-ab5dbaf48f41",
   "metadata": {},
   "outputs": [
    {
     "name": "stdout",
     "output_type": "stream",
     "text": [
      "최적의 하이퍼 파라미터 :  {'C': 10.0}\n",
      "train :  0.6159737417943107\n",
      "test  :  0.6069868995633187\n"
     ]
    }
   ],
   "source": [
    "# GridSearchCV\n",
    "from sklearn.model_selection import GridSearchCV\n",
    "\n",
    "param_range = [0.001, 0.01, 0.1, 1.0, 10.0, 100.0]\n",
    "params = {\n",
    "    'C' : param_range\n",
    "}\n",
    "\n",
    "svc = SVC(kernel=\"linear\")\n",
    "\n",
    "grid_cv = GridSearchCV(svc, param_grid=params, cv=3, n_jobs=-1)\n",
    "grid_cv.fit(X_train_scaler, y_train)\n",
    "\n",
    "print('최적의 하이퍼 파라미터 : ', grid_cv.best_params_)\n",
    "print(\"train : \", grid_cv.score(X_train_scaler, y_train))\n",
    "print(\"test  : \", grid_cv.score(X_test_scaler, y_test))"
   ]
  },
  {
   "cell_type": "markdown",
   "id": "2bd30f84-e729-42e9-9493-08d3a6c40e5f",
   "metadata": {},
   "source": [
    "## 5.4 비선형 모델"
   ]
  },
  {
   "cell_type": "code",
   "execution_count": 24,
   "id": "dd0eeca1-123c-42c7-8a20-a7d6e5274726",
   "metadata": {},
   "outputs": [
    {
     "name": "stdout",
     "output_type": "stream",
     "text": [
      "train :  0.5065645514223195\n",
      "test  :  0.519650655021834\n"
     ]
    }
   ],
   "source": [
    "svc_rbf = SVC(kernel='rbf')\n",
    "svc_rbf.fit(X_train, y_train)\n",
    "print(\"train : \", svc_rbf.score(X_train, y_train))\n",
    "print(\"test  : \", svc_rbf.score(X_test, y_test))"
   ]
  },
  {
   "cell_type": "markdown",
   "id": "e4a272d7-51aa-4aa4-9725-26229498daf0",
   "metadata": {},
   "source": [
    "## 5.5 StandardScaler"
   ]
  },
  {
   "cell_type": "code",
   "execution_count": 25,
   "id": "1ecb45be-8d22-4a05-b650-059e1bf07ec1",
   "metadata": {},
   "outputs": [
    {
     "name": "stdout",
     "output_type": "stream",
     "text": [
      "train :  0.6805251641137856\n",
      "test  :  0.6200873362445415\n"
     ]
    }
   ],
   "source": [
    "# 비선형모델 스케일링\n",
    "svc_rbf.fit(X_train_scaler, y_train)\n",
    "\n",
    "print(\"train : \", svc_rbf.score(X_train_scaler, y_train))\n",
    "print(\"test  : \", svc_rbf.score(X_test_scaler, y_test))"
   ]
  },
  {
   "cell_type": "markdown",
   "id": "0e52fab5-457b-4876-9dc7-3e621e196417",
   "metadata": {},
   "source": [
    "## 5.6 하이퍼파라미터 및 GridSearchCV"
   ]
  },
  {
   "cell_type": "code",
   "execution_count": 26,
   "id": "d2ffb690-2b5a-48a0-85de-fb536fcd3c83",
   "metadata": {},
   "outputs": [
    {
     "name": "stdout",
     "output_type": "stream",
     "text": [
      "최적의 하이퍼 파라미터 :  {'C': 1.0, 'gamma': 0.1}\n",
      "train :  0.6892778993435449\n",
      "test  :  0.6157205240174672\n"
     ]
    }
   ],
   "source": [
    "# GridSearchCV\n",
    "from sklearn.model_selection import GridSearchCV\n",
    "\n",
    "param_c = [0.001, 0.01, 0.1, 1.0, 10.0, 100.0]\n",
    "param_gamma = [0.001, 0.01, 0.1, 1.0, 10.0]\n",
    "params = {\n",
    "    'C' : param_c,\n",
    "    'gamma' : param_gamma\n",
    "}\n",
    "\n",
    "svc = SVC(kernel=\"rbf\")\n",
    "\n",
    "grid_cv = GridSearchCV(svc, param_grid=params, cv=3, n_jobs=-1)\n",
    "grid_cv.fit(X_train_scaler, y_train)\n",
    "\n",
    "print('최적의 하이퍼 파라미터 : ', grid_cv.best_params_)\n",
    "print(\"train : \", grid_cv.score(X_train_scaler, y_train))\n",
    "print(\"test  : \", grid_cv.score(X_test_scaler, y_test))"
   ]
  },
  {
   "cell_type": "markdown",
   "id": "81a3bb8a-2ec8-4b7a-bc67-e3c2e3b394b8",
   "metadata": {},
   "source": [
    "# 6. RandomForest"
   ]
  },
  {
   "cell_type": "code",
   "execution_count": 27,
   "id": "7db367fd-9151-4037-a0da-a64929c570df",
   "metadata": {},
   "outputs": [
    {
     "name": "stdout",
     "output_type": "stream",
     "text": [
      "train :  1.0\n",
      "test  :  0.6724890829694323\n"
     ]
    }
   ],
   "source": [
    "from sklearn.ensemble import RandomForestClassifier\n",
    "rfc = RandomForestClassifier()\n",
    "\n",
    "rfc.fit(X_train, y_train)\n",
    "\n",
    "print(\"train : \", rfc.score(X_train, y_train))\n",
    "print(\"test  : \", rfc.score(X_test, y_test))"
   ]
  },
  {
   "cell_type": "markdown",
   "id": "1560885a-7a34-4665-9fef-42bf446c20da",
   "metadata": {},
   "source": [
    "## 6.1 하이퍼파라미터 및 GridSearchCV"
   ]
  },
  {
   "cell_type": "code",
   "execution_count": 28,
   "id": "8906b9ad-5493-4812-81e3-d5d1512a829d",
   "metadata": {},
   "outputs": [
    {
     "name": "stdout",
     "output_type": "stream",
     "text": [
      "최적의 하이퍼 파라미터 :  {'max_depth': 12, 'min_samples_leaf': 5, 'min_samples_split': 8, 'n_estimators': 30}\n",
      "train :  0.4135667396061269\n",
      "test  :  0.3930131004366812\n"
     ]
    }
   ],
   "source": [
    "# GridSearchCV\n",
    "params = {\n",
    "    'n_estimators' : range(10, 101, 10),\n",
    "    'max_depth' : range(10, 15, 2),\n",
    "    'min_samples_leaf' : range(5, 21, 5), \n",
    "    'min_samples_split' : range(4, 21, 4)\n",
    "}\n",
    "\n",
    "rfc = RandomForestClassifier()\n",
    "\n",
    "grid_cv = GridSearchCV(rfc, param_grid=params, cv=3, n_jobs=-1)\n",
    "grid_cv.fit(X_train_scaler, y_train)\n",
    "\n",
    "print('최적의 하이퍼 파라미터 : ', grid_cv.best_params_)\n",
    "print(\"train : \", grid_cv.score(X_train, y_train))\n",
    "print(\"test  : \", grid_cv.score(X_test, y_test))"
   ]
  },
  {
   "cell_type": "markdown",
   "id": "ddc7ad1d-d3cf-4614-b352-0c72e85d906d",
   "metadata": {},
   "source": [
    "# 7. GradientBoosting"
   ]
  },
  {
   "cell_type": "code",
   "execution_count": 29,
   "id": "2233a51f-2db3-473c-b96a-33129b5da981",
   "metadata": {},
   "outputs": [
    {
     "name": "stdout",
     "output_type": "stream",
     "text": [
      "train :  0.9332603938730853\n",
      "test  :  0.6506550218340611\n"
     ]
    }
   ],
   "source": [
    "from sklearn.ensemble import GradientBoostingClassifier\n",
    "\n",
    "gbc = GradientBoostingClassifier()\n",
    "gbc.fit(X_train, y_train)\n",
    "\n",
    "print(\"train : \", gbc.score(X_train, y_train))\n",
    "print(\"test  : \", gbc.score(X_test, y_test))"
   ]
  },
  {
   "cell_type": "markdown",
   "id": "3fa161bc-c651-48a9-8a61-6b187026f05e",
   "metadata": {},
   "source": [
    "## 7.1 하이퍼파라미터 및 GridSearchCV"
   ]
  },
  {
   "cell_type": "code",
   "execution_count": 30,
   "id": "7e78140c-2efd-409f-922b-4d4e8fd7ca97",
   "metadata": {},
   "outputs": [
    {
     "name": "stdout",
     "output_type": "stream",
     "text": [
      "최적의 하이퍼 파라미터 :  {'learning_rate': 0.1, 'n_estimators': 100, 'subsample': 0.5000000000000001}\n",
      "train :  0.9277899343544858\n",
      "test  :  0.6681222707423581\n"
     ]
    }
   ],
   "source": [
    "import numpy as np\n",
    "from sklearn.model_selection import GridSearchCV\n",
    "X_train, X_test, y_train, y_test = train_test_split(X, y, test_size=0.2, random_state=62)\n",
    "\n",
    "params = {\n",
    "    'learning_rate' : [0.1, 0.3, 0.5, 0.7, 0.9],\n",
    "    'n_estimators' : [100, 300, 500, 700],\n",
    "    'subsample' : np.arange(0.1, 1, 0.2)         # 실수값은 range로 안된다. \n",
    "}\n",
    "gbc = GradientBoostingClassifier()\n",
    "\n",
    "grid_cv = GridSearchCV(gbc, param_grid=params, cv=3, n_jobs=-1)\n",
    "grid_cv.fit(X_train, y_train)\n",
    "\n",
    "print('최적의 하이퍼 파라미터 : ', grid_cv.best_params_)\n",
    "print(\"train : \", grid_cv.score(X_train, y_train))\n",
    "print(\"test  : \", grid_cv.score(X_test, y_test))"
   ]
  }
 ],
 "metadata": {
  "kernelspec": {
   "display_name": "Python 3 (ipykernel)",
   "language": "python",
   "name": "python3"
  },
  "language_info": {
   "codemirror_mode": {
    "name": "ipython",
    "version": 3
   },
   "file_extension": ".py",
   "mimetype": "text/x-python",
   "name": "python",
   "nbconvert_exporter": "python",
   "pygments_lexer": "ipython3",
   "version": "3.11.7"
  }
 },
 "nbformat": 4,
 "nbformat_minor": 5
}
