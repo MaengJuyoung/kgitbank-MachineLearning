{
 "cells": [
  {
   "cell_type": "markdown",
   "id": "0b07dcf4-8b56-4bba-bc4f-2db43a5d4412",
   "metadata": {},
   "source": [
    "### 이상치 데이터\r\n",
    "* 이상치\r\n",
    "    - IQR의 1.5배 또는 3배의 차이가 나면 이상치라고 표현한다\r\n",
    "    - 다른 데이터보다 아주 작거나 큰 값을 말한다\r\n",
    "    - 데이터를 분석할 때 이상치는 의사결정에 영향을 미칠 수 있다.\r\n",
    "* 이상치 처리\r\n",
    "    1. 제거\r\n",
    "        - 오타, 오류, 비상식적 값들은 단순히 제거한다\r\n",
    "    2. 치환\r\n",
    "        - 평균, 최빈값, 중앙값(중위수)\r\n",
    "* 이상치 구하기\r\n",
    "    - 1/4 분위값 25%, 2/4 분위값 중앙값(median), 3/4 분위값 75%\r\n",
    "    - IQR = Q3(3사분위) - Q1(1사분위)\r\n",
    "    - 최대 이상치 = Q3(3사분위) + IQR * 1.5(3.0)\r\n",
    "    - 최저 이상치 = Q1(1사분위) - IQR * 1.5(3.0)\r\n",
    "---"
   ]
  },
  {
   "cell_type": "markdown",
   "id": "a41da3db-1833-4688-9b93-b4e7e34c0b3d",
   "metadata": {},
   "source": [
    "<img src=\"../images/4분위수.png\" width=\"300\" height=\"300\" />\n",
    "<hr>"
   ]
  },
  {
   "cell_type": "code",
   "execution_count": 3,
   "id": "913f1a06-e9c2-4116-a959-5b3e3f424b48",
   "metadata": {},
   "outputs": [],
   "source": [
    "import pandas as pd"
   ]
  },
  {
   "cell_type": "code",
   "execution_count": 5,
   "id": "291f9d7c-f696-4c59-bdba-169b9d4100d9",
   "metadata": {},
   "outputs": [
    {
     "data": {
      "text/html": [
       "<div>\n",
       "<style scoped>\n",
       "    .dataframe tbody tr th:only-of-type {\n",
       "        vertical-align: middle;\n",
       "    }\n",
       "\n",
       "    .dataframe tbody tr th {\n",
       "        vertical-align: top;\n",
       "    }\n",
       "\n",
       "    .dataframe thead th {\n",
       "        text-align: right;\n",
       "    }\n",
       "</style>\n",
       "<table border=\"1\" class=\"dataframe\">\n",
       "  <thead>\n",
       "    <tr style=\"text-align: right;\">\n",
       "      <th></th>\n",
       "      <th>food_a</th>\n",
       "      <th>food_b</th>\n",
       "      <th>food_c</th>\n",
       "    </tr>\n",
       "  </thead>\n",
       "  <tbody>\n",
       "    <tr>\n",
       "      <th>0</th>\n",
       "      <td>20</td>\n",
       "      <td>5</td>\n",
       "      <td>5</td>\n",
       "    </tr>\n",
       "    <tr>\n",
       "      <th>1</th>\n",
       "      <td>21</td>\n",
       "      <td>6</td>\n",
       "      <td>5</td>\n",
       "    </tr>\n",
       "    <tr>\n",
       "      <th>2</th>\n",
       "      <td>23</td>\n",
       "      <td>11</td>\n",
       "      <td>5</td>\n",
       "    </tr>\n",
       "    <tr>\n",
       "      <th>3</th>\n",
       "      <td>22</td>\n",
       "      <td>13</td>\n",
       "      <td>12</td>\n",
       "    </tr>\n",
       "    <tr>\n",
       "      <th>4</th>\n",
       "      <td>26</td>\n",
       "      <td>15</td>\n",
       "      <td>10</td>\n",
       "    </tr>\n",
       "  </tbody>\n",
       "</table>\n",
       "</div>"
      ],
      "text/plain": [
       "   food_a  food_b  food_c\n",
       "0      20       5       5\n",
       "1      21       6       5\n",
       "2      23      11       5\n",
       "3      22      13      12\n",
       "4      26      15      10"
      ]
     },
     "execution_count": 5,
     "metadata": {},
     "output_type": "execute_result"
    }
   ],
   "source": [
    "df = pd.read_csv('../data_set/2.데이터 클린징/food.csv')\n",
    "df.head()"
   ]
  },
  {
   "cell_type": "code",
   "execution_count": 6,
   "id": "7a110595-7cab-477a-84c1-e7f3e3044993",
   "metadata": {},
   "outputs": [
    {
     "data": {
      "text/plain": [
       "food_a    47.407407\n",
       "food_b    51.037037\n",
       "food_c    42.407407\n",
       "dtype: float64"
      ]
     },
     "execution_count": 6,
     "metadata": {},
     "output_type": "execute_result"
    }
   ],
   "source": [
    "df.mean()"
   ]
  },
  {
   "cell_type": "markdown",
   "id": "a6eb3f62-880d-4968-9b7d-43f0e8c2d2d7",
   "metadata": {},
   "source": [
    "#### describe() 메서드란?\r\n",
    "* 는 pandas DataFrame 또는 Series의 요약 통계량을 제공하는 매우 유용한 다* .\r\n",
    "이 메서드는 DataFrame 또는 Series의 각 열에 대해 다음과 같은 정보를\n",
    "    - 다:\r\n",
    "count: 데이\n",
    "    -  개수\r\n",
    "mean\n",
    "    -  평균값\r\n",
    "std\n",
    "    -  표준편차\r\n",
    "m\n",
    "    - n: 최소값\r\n",
    "25\n",
    "    - : 1사분위수\r\n",
    "    - 50%: 중앙값\r\n",
    "\n",
    "    - 5%: 3사분위수\r\n",
    "max: 최대값"
   ]
  },
  {
   "cell_type": "code",
   "execution_count": 8,
   "id": "877adfac-5525-4177-811b-35175d4aca21",
   "metadata": {},
   "outputs": [
    {
     "data": {
      "text/html": [
       "<div>\n",
       "<style scoped>\n",
       "    .dataframe tbody tr th:only-of-type {\n",
       "        vertical-align: middle;\n",
       "    }\n",
       "\n",
       "    .dataframe tbody tr th {\n",
       "        vertical-align: top;\n",
       "    }\n",
       "\n",
       "    .dataframe thead th {\n",
       "        text-align: right;\n",
       "    }\n",
       "</style>\n",
       "<table border=\"1\" class=\"dataframe\">\n",
       "  <thead>\n",
       "    <tr style=\"text-align: right;\">\n",
       "      <th></th>\n",
       "      <th>food_a</th>\n",
       "      <th>food_b</th>\n",
       "      <th>food_c</th>\n",
       "    </tr>\n",
       "  </thead>\n",
       "  <tbody>\n",
       "    <tr>\n",
       "      <th>count</th>\n",
       "      <td>27.000000</td>\n",
       "      <td>27.000000</td>\n",
       "      <td>27.000000</td>\n",
       "    </tr>\n",
       "    <tr>\n",
       "      <th>mean</th>\n",
       "      <td>47.407407</td>\n",
       "      <td>51.037037</td>\n",
       "      <td>42.407407</td>\n",
       "    </tr>\n",
       "    <tr>\n",
       "      <th>std</th>\n",
       "      <td>20.267935</td>\n",
       "      <td>110.789295</td>\n",
       "      <td>64.268822</td>\n",
       "    </tr>\n",
       "    <tr>\n",
       "      <th>min</th>\n",
       "      <td>20.000000</td>\n",
       "      <td>5.000000</td>\n",
       "      <td>5.000000</td>\n",
       "    </tr>\n",
       "    <tr>\n",
       "      <th>25%</th>\n",
       "      <td>38.000000</td>\n",
       "      <td>20.000000</td>\n",
       "      <td>20.000000</td>\n",
       "    </tr>\n",
       "    <tr>\n",
       "      <th>50%</th>\n",
       "      <td>46.000000</td>\n",
       "      <td>30.000000</td>\n",
       "      <td>31.000000</td>\n",
       "    </tr>\n",
       "    <tr>\n",
       "      <th>75%</th>\n",
       "      <td>57.000000</td>\n",
       "      <td>41.500000</td>\n",
       "      <td>45.500000</td>\n",
       "    </tr>\n",
       "    <tr>\n",
       "      <th>max</th>\n",
       "      <td>120.000000</td>\n",
       "      <td>600.000000</td>\n",
       "      <td>350.000000</td>\n",
       "    </tr>\n",
       "  </tbody>\n",
       "</table>\n",
       "</div>"
      ],
      "text/plain": [
       "           food_a      food_b      food_c\n",
       "count   27.000000   27.000000   27.000000\n",
       "mean    47.407407   51.037037   42.407407\n",
       "std     20.267935  110.789295   64.268822\n",
       "min     20.000000    5.000000    5.000000\n",
       "25%     38.000000   20.000000   20.000000\n",
       "50%     46.000000   30.000000   31.000000\n",
       "75%     57.000000   41.500000   45.500000\n",
       "max    120.000000  600.000000  350.000000"
      ]
     },
     "execution_count": 8,
     "metadata": {},
     "output_type": "execute_result"
    }
   ],
   "source": [
    "df.describe() # 기초 통계값을 알려준다. std : 표준편차, 25%:Q1, 50%:중앙값(median), 75%:Q3"
   ]
  },
  {
   "cell_type": "code",
   "execution_count": 10,
   "id": "dad622a4-1321-46a6-a713-b1981b041a24",
   "metadata": {},
   "outputs": [
    {
     "name": "stdout",
     "output_type": "stream",
     "text": [
      "평균 :  5.5\n",
      "중위수(중앙값) :  5.5\n"
     ]
    }
   ],
   "source": [
    "import numpy as np\n",
    "test_median = [1,2,3,4,5,6,7,8,9,10];\n",
    "print('평균 : ', np.mean(test_median))\n",
    "print('중위수(중앙값) : ', np.median(test_median))"
   ]
  },
  {
   "cell_type": "code",
   "execution_count": 11,
   "id": "354988ab-2c7e-4dd5-8d07-1e2e28a56802",
   "metadata": {},
   "outputs": [
    {
     "name": "stdout",
     "output_type": "stream",
     "text": [
      "a :  46.0\n",
      "b :  30.0\n",
      "c :  31.0\n"
     ]
    }
   ],
   "source": [
    "a_m = np.median(df['food_a'])\n",
    "b_m = np.median(df['food_b'])\n",
    "c_m = np.median(df['food_c'])\n",
    "\n",
    "print('a : ', a_m)\n",
    "print('b : ', b_m)\n",
    "print('c : ', c_m)"
   ]
  },
  {
   "cell_type": "code",
   "execution_count": 13,
   "id": "ef022c66-3b39-468b-a9eb-42fde6bb87a6",
   "metadata": {},
   "outputs": [
    {
     "data": {
      "image/png": "[encoded data removed]",
      "text/plain": [
       "<Figure size 640x480 with 1 Axes>"
      ]
     },
     "metadata": {},
     "output_type": "display_data"
    }
   ],
   "source": [
    "import matplotlib.pyplot as plt # matplotlib를 사용하여 상자 수염 그림(boxplot)을 그리는 코드\n",
    "plt.boxplot(df['food_a'])\n",
    "plt.show()\n",
    "# o : 이상치\n",
    "# Q1 : 20\n",
    "# median : 주황선\n",
    "# Q3 : 80\n",
    "# IQR = 80-20 = 60 = Q3 - Q1"
   ]
  },
  {
   "cell_type": "code",
   "execution_count": 14,
   "id": "06571cce-9d1a-4ead-96a4-f1c5477a9b81",
   "metadata": {},
   "outputs": [
    {
     "data": {
      "image/png": "[encoded data removed]",
      "text/plain": [
       "<Figure size 640x480 with 1 Axes>"
      ]
     },
     "metadata": {},
     "output_type": "display_data"
    }
   ],
   "source": [
    "test_median = [-4,2,3,4,5,6,7,8,9,15]\n",
    "df_test = pd.DataFrame(test_median)\n",
    "plt.boxplot(df_test[0])\n",
    "plt.show()"
   ]
  },
  {
   "cell_type": "code",
   "execution_count": 16,
   "id": "a69cba26-a21b-4678-b917-8494412f97c5",
   "metadata": {},
   "outputs": [
    {
     "data": {
      "text/html": [
       "<div>\n",
       "<style scoped>\n",
       "    .dataframe tbody tr th:only-of-type {\n",
       "        vertical-align: middle;\n",
       "    }\n",
       "\n",
       "    .dataframe tbody tr th {\n",
       "        vertical-align: top;\n",
       "    }\n",
       "\n",
       "    .dataframe thead th {\n",
       "        text-align: right;\n",
       "    }\n",
       "</style>\n",
       "<table border=\"1\" class=\"dataframe\">\n",
       "  <thead>\n",
       "    <tr style=\"text-align: right;\">\n",
       "      <th></th>\n",
       "      <th>0</th>\n",
       "    </tr>\n",
       "  </thead>\n",
       "  <tbody>\n",
       "    <tr>\n",
       "      <th>count</th>\n",
       "      <td>10.000000</td>\n",
       "    </tr>\n",
       "    <tr>\n",
       "      <th>mean</th>\n",
       "      <td>5.500000</td>\n",
       "    </tr>\n",
       "    <tr>\n",
       "      <th>std</th>\n",
       "      <td>4.972145</td>\n",
       "    </tr>\n",
       "    <tr>\n",
       "      <th>min</th>\n",
       "      <td>-4.000000</td>\n",
       "    </tr>\n",
       "    <tr>\n",
       "      <th>25%</th>\n",
       "      <td>3.250000</td>\n",
       "    </tr>\n",
       "    <tr>\n",
       "      <th>50%</th>\n",
       "      <td>5.500000</td>\n",
       "    </tr>\n",
       "    <tr>\n",
       "      <th>75%</th>\n",
       "      <td>7.750000</td>\n",
       "    </tr>\n",
       "    <tr>\n",
       "      <th>max</th>\n",
       "      <td>15.000000</td>\n",
       "    </tr>\n",
       "  </tbody>\n",
       "</table>\n",
       "</div>"
      ],
      "text/plain": [
       "               0\n",
       "count  10.000000\n",
       "mean    5.500000\n",
       "std     4.972145\n",
       "min    -4.000000\n",
       "25%     3.250000\n",
       "50%     5.500000\n",
       "75%     7.750000\n",
       "max    15.000000"
      ]
     },
     "execution_count": 16,
     "metadata": {},
     "output_type": "execute_result"
    }
   ],
   "source": [
    "df_test.describe()"
   ]
  },
  {
   "cell_type": "code",
   "execution_count": 18,
   "id": "57c37129-76c0-4ed1-94b3-ba486adc68ed",
   "metadata": {},
   "outputs": [
    {
     "data": {
      "text/plain": [
       "0    3.25\n",
       "Name: 25%, dtype: float64"
      ]
     },
     "execution_count": 18,
     "metadata": {},
     "output_type": "execute_result"
    }
   ],
   "source": [
    "df_test.describe().loc['25%'] # Q1 = 3.25"
   ]
  },
  {
   "cell_type": "code",
   "execution_count": 19,
   "id": "5c4c821c-b04a-4d5a-ae70-909eaed0909f",
   "metadata": {},
   "outputs": [
    {
     "data": {
      "text/plain": [
       "0    7.75\n",
       "Name: 75%, dtype: float64"
      ]
     },
     "execution_count": 19,
     "metadata": {},
     "output_type": "execute_result"
    }
   ],
   "source": [
    "df_test.describe().loc['75%'] # Q1 = 7.75"
   ]
  },
  {
   "cell_type": "code",
   "execution_count": 22,
   "id": "a0dacd76-8995-42f6-b507-ac14006b750a",
   "metadata": {},
   "outputs": [
    {
     "data": {
      "text/plain": [
       "(0    3.25\n",
       " Name: 25%, dtype: float64,\n",
       " 0    7.75\n",
       " Name: 75%, dtype: float64)"
      ]
     },
     "execution_count": 22,
     "metadata": {},
     "output_type": "execute_result"
    }
   ],
   "source": [
    "q1 = df_test.describe().loc['25%'] \n",
    "q3 = df_test.describe().loc['75%'] \n",
    "\n",
    "q1, q3"
   ]
  },
  {
   "cell_type": "code",
   "execution_count": 23,
   "id": "482def0a-0d65-4ae4-8e65-58a7b8869c21",
   "metadata": {},
   "outputs": [
    {
     "data": {
      "text/plain": [
       "(0    4.5\n",
       " dtype: float64,\n",
       " 0   -3.5\n",
       " dtype: float64,\n",
       " 0    14.5\n",
       " dtype: float64)"
      ]
     },
     "execution_count": 23,
     "metadata": {},
     "output_type": "execute_result"
    }
   ],
   "source": [
    "iqr = q3 - q1\n",
    "lower = q1 - iqr*1.5\n",
    "upper = q3 + iqr*1.5\n",
    "\n",
    "iqr, lower, upper"
   ]
  },
  {
   "cell_type": "code",
   "execution_count": 24,
   "id": "63d274a8-b49c-4883-96a1-10a7858e1d37",
   "metadata": {},
   "outputs": [
    {
     "data": {
      "text/html": [
       "<div>\n",
       "<style scoped>\n",
       "    .dataframe tbody tr th:only-of-type {\n",
       "        vertical-align: middle;\n",
       "    }\n",
       "\n",
       "    .dataframe tbody tr th {\n",
       "        vertical-align: top;\n",
       "    }\n",
       "\n",
       "    .dataframe thead th {\n",
       "        text-align: right;\n",
       "    }\n",
       "</style>\n",
       "<table border=\"1\" class=\"dataframe\">\n",
       "  <thead>\n",
       "    <tr style=\"text-align: right;\">\n",
       "      <th></th>\n",
       "      <th>0</th>\n",
       "    </tr>\n",
       "  </thead>\n",
       "  <tbody>\n",
       "    <tr>\n",
       "      <th>0</th>\n",
       "      <td>-4</td>\n",
       "    </tr>\n",
       "    <tr>\n",
       "      <th>1</th>\n",
       "      <td>2</td>\n",
       "    </tr>\n",
       "    <tr>\n",
       "      <th>2</th>\n",
       "      <td>3</td>\n",
       "    </tr>\n",
       "    <tr>\n",
       "      <th>3</th>\n",
       "      <td>4</td>\n",
       "    </tr>\n",
       "    <tr>\n",
       "      <th>4</th>\n",
       "      <td>5</td>\n",
       "    </tr>\n",
       "    <tr>\n",
       "      <th>5</th>\n",
       "      <td>6</td>\n",
       "    </tr>\n",
       "    <tr>\n",
       "      <th>6</th>\n",
       "      <td>7</td>\n",
       "    </tr>\n",
       "    <tr>\n",
       "      <th>7</th>\n",
       "      <td>8</td>\n",
       "    </tr>\n",
       "    <tr>\n",
       "      <th>8</th>\n",
       "      <td>9</td>\n",
       "    </tr>\n",
       "    <tr>\n",
       "      <th>9</th>\n",
       "      <td>15</td>\n",
       "    </tr>\n",
       "  </tbody>\n",
       "</table>\n",
       "</div>"
      ],
      "text/plain": [
       "    0\n",
       "0  -4\n",
       "1   2\n",
       "2   3\n",
       "3   4\n",
       "4   5\n",
       "5   6\n",
       "6   7\n",
       "7   8\n",
       "8   9\n",
       "9  15"
      ]
     },
     "execution_count": 24,
     "metadata": {},
     "output_type": "execute_result"
    }
   ],
   "source": [
    "df_test"
   ]
  },
  {
   "cell_type": "code",
   "execution_count": 33,
   "id": "d12ac7cd-85fa-4d9e-9195-36f283fc1972",
   "metadata": {},
   "outputs": [
    {
     "data": {
      "text/html": [
       "<div>\n",
       "<style scoped>\n",
       "    .dataframe tbody tr th:only-of-type {\n",
       "        vertical-align: middle;\n",
       "    }\n",
       "\n",
       "    .dataframe tbody tr th {\n",
       "        vertical-align: top;\n",
       "    }\n",
       "\n",
       "    .dataframe thead th {\n",
       "        text-align: right;\n",
       "    }\n",
       "</style>\n",
       "<table border=\"1\" class=\"dataframe\">\n",
       "  <thead>\n",
       "    <tr style=\"text-align: right;\">\n",
       "      <th></th>\n",
       "      <th>0</th>\n",
       "    </tr>\n",
       "  </thead>\n",
       "  <tbody>\n",
       "    <tr>\n",
       "      <th>0</th>\n",
       "      <td>NaN</td>\n",
       "    </tr>\n",
       "    <tr>\n",
       "      <th>1</th>\n",
       "      <td>2.0</td>\n",
       "    </tr>\n",
       "    <tr>\n",
       "      <th>2</th>\n",
       "      <td>3.0</td>\n",
       "    </tr>\n",
       "    <tr>\n",
       "      <th>3</th>\n",
       "      <td>4.0</td>\n",
       "    </tr>\n",
       "    <tr>\n",
       "      <th>4</th>\n",
       "      <td>5.0</td>\n",
       "    </tr>\n",
       "    <tr>\n",
       "      <th>5</th>\n",
       "      <td>6.0</td>\n",
       "    </tr>\n",
       "    <tr>\n",
       "      <th>6</th>\n",
       "      <td>7.0</td>\n",
       "    </tr>\n",
       "    <tr>\n",
       "      <th>7</th>\n",
       "      <td>8.0</td>\n",
       "    </tr>\n",
       "    <tr>\n",
       "      <th>8</th>\n",
       "      <td>9.0</td>\n",
       "    </tr>\n",
       "    <tr>\n",
       "      <th>9</th>\n",
       "      <td>NaN</td>\n",
       "    </tr>\n",
       "  </tbody>\n",
       "</table>\n",
       "</div>"
      ],
      "text/plain": [
       "     0\n",
       "0  NaN\n",
       "1  2.0\n",
       "2  3.0\n",
       "3  4.0\n",
       "4  5.0\n",
       "5  6.0\n",
       "6  7.0\n",
       "7  8.0\n",
       "8  9.0\n",
       "9  NaN"
      ]
     },
     "execution_count": 33,
     "metadata": {},
     "output_type": "execute_result"
    }
   ],
   "source": [
    " df_test[(df_test >= lower) & (df_test <= upper)]"
   ]
  },
  {
   "cell_type": "code",
   "execution_count": 35,
   "id": "9b195830-435d-49f2-84cf-6279f02a52d9",
   "metadata": {},
   "outputs": [
    {
     "data": {
      "text/html": [
       "<div>\n",
       "<style scoped>\n",
       "    .dataframe tbody tr th:only-of-type {\n",
       "        vertical-align: middle;\n",
       "    }\n",
       "\n",
       "    .dataframe tbody tr th {\n",
       "        vertical-align: top;\n",
       "    }\n",
       "\n",
       "    .dataframe thead th {\n",
       "        text-align: right;\n",
       "    }\n",
       "</style>\n",
       "<table border=\"1\" class=\"dataframe\">\n",
       "  <thead>\n",
       "    <tr style=\"text-align: right;\">\n",
       "      <th></th>\n",
       "      <th>0</th>\n",
       "    </tr>\n",
       "  </thead>\n",
       "  <tbody>\n",
       "    <tr>\n",
       "      <th>count</th>\n",
       "      <td>8.00000</td>\n",
       "    </tr>\n",
       "    <tr>\n",
       "      <th>mean</th>\n",
       "      <td>5.50000</td>\n",
       "    </tr>\n",
       "    <tr>\n",
       "      <th>std</th>\n",
       "      <td>2.44949</td>\n",
       "    </tr>\n",
       "    <tr>\n",
       "      <th>min</th>\n",
       "      <td>2.00000</td>\n",
       "    </tr>\n",
       "    <tr>\n",
       "      <th>25%</th>\n",
       "      <td>3.75000</td>\n",
       "    </tr>\n",
       "    <tr>\n",
       "      <th>50%</th>\n",
       "      <td>5.50000</td>\n",
       "    </tr>\n",
       "    <tr>\n",
       "      <th>75%</th>\n",
       "      <td>7.25000</td>\n",
       "    </tr>\n",
       "    <tr>\n",
       "      <th>max</th>\n",
       "      <td>9.00000</td>\n",
       "    </tr>\n",
       "  </tbody>\n",
       "</table>\n",
       "</div>"
      ],
      "text/plain": [
       "             0\n",
       "count  8.00000\n",
       "mean   5.50000\n",
       "std    2.44949\n",
       "min    2.00000\n",
       "25%    3.75000\n",
       "50%    5.50000\n",
       "75%    7.25000\n",
       "max    9.00000"
      ]
     },
     "execution_count": 35,
     "metadata": {},
     "output_type": "execute_result"
    }
   ],
   "source": [
    "df_test.describe()"
   ]
  },
  {
   "cell_type": "code",
   "execution_count": 38,
   "id": "66ffb66f-ba1b-4d9d-9245-854d730c4612",
   "metadata": {},
   "outputs": [
    {
     "data": {
      "image/png": "[encoded data removed]",
      "text/plain": [
       "<Figure size 640x480 with 1 Axes>"
      ]
     },
     "metadata": {},
     "output_type": "display_data"
    }
   ],
   "source": [
    "df_test = df_test[(df_test >= lower) & (df_test <= upper)]\n",
    "#plt.boxplot(df_test) \n",
    "#plt.show()\n",
    "# NaN 값이 포함되어 있으면 이러한 통계량을 계산할 수 없기 때문에 그래프가 제대로 그려지지 않습니다.\n",
    "# 따라서 NaN 값을 처리하는 것이 중요합니다. 일반적으로 다음과 같은 방법으로 NaN 값을 처리할 수 있습니다:\n",
    "# 1. NaN 값 제거: df.dropna(inplace=True) 를 통해 NaN 값이 포함된 행을 삭제할 수 있습니다.\n",
    "# 2. NaN 값 대체: df.fillna(value=0, inplace=True) 와 같이 NaN 값을 특정 값으로 대체할 수 있습니다.\n",
    "# 3. 중앙값으로 대체: df['column'].fillna(df['column'].median(), inplace=True) 와 같이 해당 열의 중앙값으로 NaN 값을 대체할 수 있습니다.\n",
    "df_test.replace(to_replace = np.nan, value=df_test.describe().loc['50%'], inplace=True)\n",
    "df_test\n",
    "plt.boxplot(df_test)\n",
    "plt.show()"
   ]
  }
 ],
 "metadata": {
  "kernelspec": {
   "display_name": "Python 3 (ipykernel)",
   "language": "python",
   "name": "python3"
  },
  "language_info": {
   "codemirror_mode": {
    "name": "ipython",
    "version": 3
   },
   "file_extension": ".py",
   "mimetype": "text/x-python",
   "name": "python",
   "nbconvert_exporter": "python",
   "pygments_lexer": "ipython3",
   "version": "3.11.7"
  }
 },
 "nbformat": 4,
 "nbformat_minor": 5
}
