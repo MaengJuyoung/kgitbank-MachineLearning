{
 "cells": [
  {
   "cell_type": "markdown",
   "id": "9fd2df3c-00f4-445d-a578-845f2e29516f",
   "metadata": {},
   "source": [
    "* 이상치를 해결하시오\n",
    "     1. 이상치 삭제 후 확인\n",
    "     2. 이상치 중앙값으로 치환 후 확인\n",
    "     3. 이상치 평균값으로 치환 후 확인\n",
    "     4. 이상치 최빈값으로 치환 후 확인(최빈값이 여러개 나올 경우 0번째 값으로 진행하세요)"
   ]
  },
  {
   "cell_type": "code",
   "execution_count": null,
   "id": "7bbe89b4-540c-4a50-ae61-d312ea9b0235",
   "metadata": {},
   "outputs": [],
   "source": [
    "# food.csv의 내용을 불러오세요"
   ]
  },
  {
   "cell_type": "code",
   "execution_count": 7,
   "id": "ac158b08-6990-465e-8539-822ece362f81",
   "metadata": {},
   "outputs": [
    {
     "data": {
      "text/html": [
       "<div>\n",
       "<style scoped>\n",
       "    .dataframe tbody tr th:only-of-type {\n",
       "        vertical-align: middle;\n",
       "    }\n",
       "\n",
       "    .dataframe tbody tr th {\n",
       "        vertical-align: top;\n",
       "    }\n",
       "\n",
       "    .dataframe thead th {\n",
       "        text-align: right;\n",
       "    }\n",
       "</style>\n",
       "<table border=\"1\" class=\"dataframe\">\n",
       "  <thead>\n",
       "    <tr style=\"text-align: right;\">\n",
       "      <th></th>\n",
       "      <th>food_a</th>\n",
       "      <th>food_b</th>\n",
       "      <th>food_c</th>\n",
       "    </tr>\n",
       "  </thead>\n",
       "  <tbody>\n",
       "    <tr>\n",
       "      <th>0</th>\n",
       "      <td>20</td>\n",
       "      <td>5</td>\n",
       "      <td>5</td>\n",
       "    </tr>\n",
       "    <tr>\n",
       "      <th>1</th>\n",
       "      <td>21</td>\n",
       "      <td>6</td>\n",
       "      <td>5</td>\n",
       "    </tr>\n",
       "    <tr>\n",
       "      <th>2</th>\n",
       "      <td>23</td>\n",
       "      <td>11</td>\n",
       "      <td>5</td>\n",
       "    </tr>\n",
       "    <tr>\n",
       "      <th>3</th>\n",
       "      <td>22</td>\n",
       "      <td>13</td>\n",
       "      <td>12</td>\n",
       "    </tr>\n",
       "    <tr>\n",
       "      <th>4</th>\n",
       "      <td>26</td>\n",
       "      <td>15</td>\n",
       "      <td>10</td>\n",
       "    </tr>\n",
       "    <tr>\n",
       "      <th>5</th>\n",
       "      <td>120</td>\n",
       "      <td>16</td>\n",
       "      <td>11</td>\n",
       "    </tr>\n",
       "    <tr>\n",
       "      <th>6</th>\n",
       "      <td>35</td>\n",
       "      <td>20</td>\n",
       "      <td>20</td>\n",
       "    </tr>\n",
       "    <tr>\n",
       "      <th>7</th>\n",
       "      <td>35</td>\n",
       "      <td>20</td>\n",
       "      <td>20</td>\n",
       "    </tr>\n",
       "    <tr>\n",
       "      <th>8</th>\n",
       "      <td>41</td>\n",
       "      <td>21</td>\n",
       "      <td>350</td>\n",
       "    </tr>\n",
       "    <tr>\n",
       "      <th>9</th>\n",
       "      <td>42</td>\n",
       "      <td>23</td>\n",
       "      <td>20</td>\n",
       "    </tr>\n",
       "    <tr>\n",
       "      <th>10</th>\n",
       "      <td>43</td>\n",
       "      <td>22</td>\n",
       "      <td>20</td>\n",
       "    </tr>\n",
       "    <tr>\n",
       "      <th>11</th>\n",
       "      <td>45</td>\n",
       "      <td>27</td>\n",
       "      <td>21</td>\n",
       "    </tr>\n",
       "    <tr>\n",
       "      <th>12</th>\n",
       "      <td>44</td>\n",
       "      <td>27</td>\n",
       "      <td>20</td>\n",
       "    </tr>\n",
       "    <tr>\n",
       "      <th>13</th>\n",
       "      <td>45</td>\n",
       "      <td>30</td>\n",
       "      <td>30</td>\n",
       "    </tr>\n",
       "    <tr>\n",
       "      <th>14</th>\n",
       "      <td>46</td>\n",
       "      <td>30</td>\n",
       "      <td>32</td>\n",
       "    </tr>\n",
       "    <tr>\n",
       "      <th>15</th>\n",
       "      <td>47</td>\n",
       "      <td>32</td>\n",
       "      <td>31</td>\n",
       "    </tr>\n",
       "    <tr>\n",
       "      <th>16</th>\n",
       "      <td>47</td>\n",
       "      <td>36</td>\n",
       "      <td>31</td>\n",
       "    </tr>\n",
       "    <tr>\n",
       "      <th>17</th>\n",
       "      <td>46</td>\n",
       "      <td>37</td>\n",
       "      <td>31</td>\n",
       "    </tr>\n",
       "    <tr>\n",
       "      <th>18</th>\n",
       "      <td>47</td>\n",
       "      <td>40</td>\n",
       "      <td>36</td>\n",
       "    </tr>\n",
       "    <tr>\n",
       "      <th>19</th>\n",
       "      <td>58</td>\n",
       "      <td>40</td>\n",
       "      <td>40</td>\n",
       "    </tr>\n",
       "    <tr>\n",
       "      <th>20</th>\n",
       "      <td>58</td>\n",
       "      <td>43</td>\n",
       "      <td>40</td>\n",
       "    </tr>\n",
       "    <tr>\n",
       "      <th>21</th>\n",
       "      <td>59</td>\n",
       "      <td>44</td>\n",
       "      <td>51</td>\n",
       "    </tr>\n",
       "    <tr>\n",
       "      <th>22</th>\n",
       "      <td>60</td>\n",
       "      <td>45</td>\n",
       "      <td>61</td>\n",
       "    </tr>\n",
       "    <tr>\n",
       "      <th>23</th>\n",
       "      <td>56</td>\n",
       "      <td>51</td>\n",
       "      <td>51</td>\n",
       "    </tr>\n",
       "    <tr>\n",
       "      <th>24</th>\n",
       "      <td>57</td>\n",
       "      <td>54</td>\n",
       "      <td>61</td>\n",
       "    </tr>\n",
       "    <tr>\n",
       "      <th>25</th>\n",
       "      <td>57</td>\n",
       "      <td>70</td>\n",
       "      <td>61</td>\n",
       "    </tr>\n",
       "    <tr>\n",
       "      <th>26</th>\n",
       "      <td>80</td>\n",
       "      <td>600</td>\n",
       "      <td>70</td>\n",
       "    </tr>\n",
       "  </tbody>\n",
       "</table>\n",
       "</div>"
      ],
      "text/plain": [
       "    food_a  food_b  food_c\n",
       "0       20       5       5\n",
       "1       21       6       5\n",
       "2       23      11       5\n",
       "3       22      13      12\n",
       "4       26      15      10\n",
       "5      120      16      11\n",
       "6       35      20      20\n",
       "7       35      20      20\n",
       "8       41      21     350\n",
       "9       42      23      20\n",
       "10      43      22      20\n",
       "11      45      27      21\n",
       "12      44      27      20\n",
       "13      45      30      30\n",
       "14      46      30      32\n",
       "15      47      32      31\n",
       "16      47      36      31\n",
       "17      46      37      31\n",
       "18      47      40      36\n",
       "19      58      40      40\n",
       "20      58      43      40\n",
       "21      59      44      51\n",
       "22      60      45      61\n",
       "23      56      51      51\n",
       "24      57      54      61\n",
       "25      57      70      61\n",
       "26      80     600      70"
      ]
     },
     "execution_count": 7,
     "metadata": {},
     "output_type": "execute_result"
    }
   ],
   "source": [
    "import pandas as pd\n",
    "df = pd.read_csv('../data_set/2.데이터 클린징/food.csv')\n",
    "df"
   ]
  },
  {
   "cell_type": "code",
   "execution_count": null,
   "id": "f20191b3-88d3-435c-b981-ec56bdb85e6a",
   "metadata": {},
   "outputs": [],
   "source": [
    "# boxplot 을 이용하여 이상치 확인"
   ]
  },
  {
   "cell_type": "code",
   "execution_count": 8,
   "id": "a63f1b2a-8f9c-47cb-bba1-7a2617b738ee",
   "metadata": {},
   "outputs": [
    {
     "data": {
      "image/png": "[encoded data removed]",
      "text/plain": [
       "<Figure size 640x480 with 1 Axes>"
      ]
     },
     "metadata": {},
     "output_type": "display_data"
    }
   ],
   "source": [
    "#df.boxplot()\n",
    "import matplotlib.pyplot as plt\n",
    "plt.boxplot(df)\n",
    "plt.show()"
   ]
  },
  {
   "cell_type": "code",
   "execution_count": 9,
   "id": "06d70426-871a-4626-9cce-b07584e26b08",
   "metadata": {},
   "outputs": [],
   "source": [
    "# 각 리스트에 최저, 최고 이상치를 food_a, food_b, food_c 순서대로 넣고 아래쪽 코드에서 \n",
    "lowerfence = []\n",
    "upperfence = []\n",
    "\n",
    "# 반복문을 이용하여 각 리스트에 이상치를 저장하는 code 추가"
   ]
  },
  {
   "cell_type": "code",
   "execution_count": 11,
   "id": "19f73d83-8b36-4ff4-a615-b95e8d525779",
   "metadata": {},
   "outputs": [
    {
     "name": "stdout",
     "output_type": "stream",
     "text": [
      "food_a food_b food_c \n",
      "--------------------------------\n",
      "최저 이상치 :  [9.5, -12.25, -18.25]\n",
      "최고 이상치 :  [85.5, 73.75, 83.75]\n"
     ]
    }
   ],
   "source": [
    "for column in df.columns:\n",
    "    iqr = df[column].describe().loc[\"75%\"] - df[column].describe().loc[\"25%\"]\n",
    "    lowerfence.append(df[column].describe().loc[\"25%\"] - iqr*1.5)\n",
    "    upperfence.append(df[column].describe().loc[\"75%\"] + iqr*1.5)\n",
    "    print(column,end=' ')\n",
    "print('\\n--------------------------------')\n",
    "print(\"최저 이상치 : \",lowerfence)\n",
    "print(\"최고 이상치 : \",upperfence)"
   ]
  },
  {
   "cell_type": "code",
   "execution_count": null,
   "id": "e6d25c79-27fa-4f2d-a78e-9402533a1937",
   "metadata": {},
   "outputs": [],
   "source": [
    "# 위에서 만든 이상치 list를 활용하여 각각의 이상치 값을 출력"
   ]
  },
  {
   "cell_type": "code",
   "execution_count": 21,
   "id": "cba0f8a5-e0c6-4f68-981b-fe4621f3d60e",
   "metadata": {},
   "outputs": [
    {
     "name": "stdout",
     "output_type": "stream",
     "text": [
      "food_a 이상치\n",
      "--------------\n",
      "\n",
      "   food_a  food_b  food_c\n",
      "5     120      16      11\n",
      "----------------------------------------\n",
      "\n",
      "food_b 이상치\n",
      "--------------\n",
      "\n",
      "    food_a  food_b  food_c\n",
      "26      80     600      70\n",
      "----------------------------------------\n",
      "\n",
      "food_c 이상치\n",
      "--------------\n",
      "\n",
      "   food_a  food_b  food_c\n",
      "8      41      21     350\n",
      "----------------------------------------\n",
      "\n"
     ]
    }
   ],
   "source": [
    "count = 0\n",
    "for column in df.columns:\n",
    "    print(column,\"이상치\\n--------------\\n\")\n",
    "    print(df[ (df[column]<lowerfence[count]) | (df[column]>upperfence[count]) ])\n",
    "    print('----------------------------------------\\n')\n",
    "    count = count + 1"
   ]
  },
  {
   "cell_type": "code",
   "execution_count": null,
   "id": "84949e55-2254-46b9-923d-e2d6ed507450",
   "metadata": {},
   "outputs": [],
   "source": [
    "# 시리즈 값만 확인"
   ]
  },
  {
   "cell_type": "code",
   "execution_count": 25,
   "id": "9c88b8f7-0d28-41b3-9889-679c457ae1d2",
   "metadata": {},
   "outputs": [
    {
     "name": "stdout",
     "output_type": "stream",
     "text": [
      "26\n"
     ]
    },
    {
     "data": {
      "text/plain": [
       "600"
      ]
     },
     "execution_count": 25,
     "metadata": {},
     "output_type": "execute_result"
    }
   ],
   "source": [
    "dd = df['food_b'][ (df['food_b']<lowerfence[1]) | (df['food_b']>upperfence[1]) ]\n",
    "print(dd.index[0])\n",
    "dd.loc[dd.index[0]]"
   ]
  },
  {
   "cell_type": "markdown",
   "id": "23834b2d-b8c9-40e5-9f43-24ebded27134",
   "metadata": {},
   "source": [
    "# 1. 이상치 삭제"
   ]
  },
  {
   "cell_type": "code",
   "execution_count": null,
   "id": "0791a6b4-ae0e-4276-bdb1-226ef252a0b0",
   "metadata": {},
   "outputs": [],
   "source": [
    "# 반복문을 이용하여 저장되어 있는 이상치를 지우세요.\n",
    "# 삭제 후 확인하면 index 5, 8, 26 인덱스 위치가 삭제된 것 확인"
   ]
  },
  {
   "cell_type": "code",
   "execution_count": null,
   "id": "f3060656-0b99-42b6-ab69-581e410d3b09",
   "metadata": {},
   "outputs": [],
   "source": []
  },
  {
   "cell_type": "code",
   "execution_count": null,
   "id": "5adfa3ac-c593-4bda-bbb1-3e590b8c1a61",
   "metadata": {},
   "outputs": [],
   "source": []
  },
  {
   "cell_type": "code",
   "execution_count": null,
   "id": "9f67b775-3610-47d1-87ff-cf916e05458d",
   "metadata": {},
   "outputs": [],
   "source": []
  },
  {
   "cell_type": "code",
   "execution_count": null,
   "id": "1738ecdc-3f0d-497f-addb-44e9686f23fa",
   "metadata": {},
   "outputs": [],
   "source": []
  },
  {
   "cell_type": "code",
   "execution_count": null,
   "id": "9aaa5753-40ae-49a5-a617-cadb117fa3e0",
   "metadata": {},
   "outputs": [],
   "source": []
  },
  {
   "cell_type": "code",
   "execution_count": null,
   "id": "08720332-d938-48e1-b312-3b1d72822160",
   "metadata": {},
   "outputs": [],
   "source": []
  },
  {
   "cell_type": "code",
   "execution_count": null,
   "id": "503d1417-4653-4570-ae27-2d8ea28ac294",
   "metadata": {},
   "outputs": [],
   "source": []
  },
  {
   "cell_type": "code",
   "execution_count": null,
   "id": "1b056acb-e166-4114-8cb2-1b6c5837f6cd",
   "metadata": {},
   "outputs": [],
   "source": []
  },
  {
   "cell_type": "code",
   "execution_count": null,
   "id": "4df7ae73-6acf-479e-8b7a-81692697be38",
   "metadata": {},
   "outputs": [],
   "source": []
  },
  {
   "cell_type": "code",
   "execution_count": null,
   "id": "0e786bde-beb1-406f-8212-16e8ffb98d7c",
   "metadata": {},
   "outputs": [],
   "source": []
  },
  {
   "cell_type": "code",
   "execution_count": null,
   "id": "1fbe9676-e29c-40ef-9f33-a011e7d517e3",
   "metadata": {},
   "outputs": [],
   "source": []
  },
  {
   "cell_type": "code",
   "execution_count": null,
   "id": "f1ccf9cf-a3c2-4052-a0c9-957587d607e6",
   "metadata": {},
   "outputs": [],
   "source": []
  },
  {
   "cell_type": "code",
   "execution_count": null,
   "id": "8bb72d37-fda4-46b0-87cc-131fda3b023c",
   "metadata": {},
   "outputs": [],
   "source": []
  },
  {
   "cell_type": "code",
   "execution_count": null,
   "id": "8dbd4adb-d200-4480-8de8-7b48d6edb00c",
   "metadata": {},
   "outputs": [],
   "source": []
  },
  {
   "cell_type": "code",
   "execution_count": null,
   "id": "af568928-b9b6-4566-b079-3efad629f4ce",
   "metadata": {},
   "outputs": [],
   "source": []
  },
  {
   "cell_type": "code",
   "execution_count": null,
   "id": "81a64d56-1f2f-47be-9c29-ebb1e9a4a6c1",
   "metadata": {},
   "outputs": [],
   "source": []
  }
 ],
 "metadata": {
  "kernelspec": {
   "display_name": "Python 3 (ipykernel)",
   "language": "python",
   "name": "python3"
  },
  "language_info": {
   "codemirror_mode": {
    "name": "ipython",
    "version": 3
   },
   "file_extension": ".py",
   "mimetype": "text/x-python",
   "name": "python",
   "nbconvert_exporter": "python",
   "pygments_lexer": "ipython3",
   "version": "3.11.7"
  }
 },
 "nbformat": 4,
 "nbformat_minor": 5
}
