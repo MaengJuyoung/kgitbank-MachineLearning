{
 "cells": [
  {
   "cell_type": "markdown",
   "id": "c9503b60-41ed-4493-8d83-b1a617a317f1",
   "metadata": {},
   "source": [
    "* 결측치를 해결하시오\n",
    "     1. 결측치 제거(행 삭제)\n",
    "    2. 결측치 치환\n",
    "       * Gender : Male\n",
    "       * Married : Yes\n",
    "       * Dependents : NaN 최빈값으로 변경. '3+'는 3으로 변경\n",
    "       * Self_Employed : 이전값\n",
    "       * LoanAmount : 이후값\n",
    "       * Loan_Amount_Term : 평균값\n",
    "       * Credit_History : 1.0"
   ]
  },
  {
   "cell_type": "code",
   "execution_count": null,
   "id": "72b1bc17-1234-49d9-a453-a858fb5d0aa5",
   "metadata": {},
   "outputs": [],
   "source": [
    "# loan-train.csv 파일 읽어오기 "
   ]
  },
  {
   "cell_type": "code",
   "execution_count": null,
   "id": "0b0d85cc-2dcf-4f0c-8a51-9a2c31988302",
   "metadata": {},
   "outputs": [],
   "source": []
  },
  {
   "cell_type": "code",
   "execution_count": null,
   "id": "4c543d39-4e5e-43bc-8235-339bffb53597",
   "metadata": {},
   "outputs": [],
   "source": []
  },
  {
   "cell_type": "code",
   "execution_count": null,
   "id": "dcf9af93-1ad2-48de-ab9a-c9fb1e336108",
   "metadata": {},
   "outputs": [],
   "source": []
  },
  {
   "cell_type": "code",
   "execution_count": null,
   "id": "7928710a-1fee-4cd6-b8f9-08841822f097",
   "metadata": {},
   "outputs": [],
   "source": []
  },
  {
   "cell_type": "code",
   "execution_count": null,
   "id": "bbda71ba-d109-4215-9367-bae74c0d952e",
   "metadata": {},
   "outputs": [],
   "source": []
  },
  {
   "cell_type": "code",
   "execution_count": null,
   "id": "70cd5aa1-ddc0-4177-9ee1-e2eb82f84510",
   "metadata": {},
   "outputs": [],
   "source": []
  },
  {
   "cell_type": "code",
   "execution_count": null,
   "id": "9e224c86-27bb-4111-84c7-9e1464751835",
   "metadata": {},
   "outputs": [],
   "source": []
  }
 ],
 "metadata": {
  "kernelspec": {
   "display_name": "Python 3 (ipykernel)",
   "language": "python",
   "name": "python3"
  },
  "language_info": {
   "codemirror_mode": {
    "name": "ipython",
    "version": 3
   },
   "file_extension": ".py",
   "mimetype": "text/x-python",
   "name": "python",
   "nbconvert_exporter": "python",
   "pygments_lexer": "ipython3",
   "version": "3.11.7"
  }
 },
 "nbformat": 4,
 "nbformat_minor": 5
}
