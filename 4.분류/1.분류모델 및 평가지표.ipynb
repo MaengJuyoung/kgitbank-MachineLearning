{
 "cells": [
  {
   "cell_type": "markdown",
   "id": "4bd82685-9c8a-47a3-81b8-24b16371b825",
   "metadata": {},
   "source": [
    "### 머신러닝 종류\r\n",
    "* 지도학습 알고리즘\r\n",
    "    - 주요 목적은 레이블(정답)이 있는 훈련 데이터로 모델을 학습하여 예측할 때 사용\r\n",
    "    - 분류(classification)\r\n",
    "        - 독립변수(문제)에 의하여 종속변수(정답)가 딱 떨어지는 값일 때\r\n",
    "        - 예) 스펨메일, 은행에서 대출 승인/거절, 생존 중 살았다/죽었다. 등..\r\n",
    "    - 회귀(regression)\r\n",
    "        - 임의의 숫자를 맞추는 것.\r\n",
    "        - 어떤 사람의 나이, 농작물의 수확량, 주가 가격 등을 예측"
   ]
  },
  {
   "cell_type": "markdown",
   "id": "048134b5-827d-421f-b490-3b764585bba8",
   "metadata": {},
   "source": [
    "<hr>\n",
    "<img src=\"../images/learning.png\" width=\"700\"/>"
   ]
  },
  {
   "cell_type": "markdown",
   "id": "1e01e569-2d3a-417d-a0dc-1e2eaa1b3e14",
   "metadata": {},
   "source": [
    "<hr>\n",
    "<img src=\"../images/lifeCycle.png\" width=\"700\">"
   ]
  },
  {
   "cell_type": "markdown",
   "id": "74498bb8-9cc3-43c8-9119-a2a898bbb5ee",
   "metadata": {},
   "source": [
    "---\r\n",
    "### 사이킷 런\r\n",
    "* 사이킷런은 파이썬 머신러닝 라이브러리 중 가장 많이 사용되는 라이브러리\r\n",
    "* 파이썬 기반의 머신러닝을 위한 가장 쉽고 효율적인 개발 라이브러리를 제공\r\n",
    "* 많은 사용자 들이 사용하는 라이브러리로 검증되어 있다"
   ]
  },
  {
   "cell_type": "markdown",
   "id": "957b8114-d310-42aa-b47f-bc7628794886",
   "metadata": {},
   "source": [
    "#### 알고리즘 선택 방법\r\n",
    "* 사이킷런에서 알고리즘 선택방법을 제시하고 있다\r\n",
    "* https://scikit-learn.org/stable/tutorial/machine_learning_map/index.html"
   ]
  },
  {
   "cell_type": "markdown",
   "id": "7ed1254a-e698-464e-91d9-41869d898396",
   "metadata": {},
   "source": [
    "## 분류 알고리즘\n",
    "<img src=\"../images/scikitLearn.png\" width=\"700\" />"
   ]
  },
  {
   "cell_type": "markdown",
   "id": "8dfe3f08-a331-4dbc-ab0f-1f185a78978e",
   "metadata": {},
   "source": [
    "## Kneighbors(K-최근접 이웃 알고리즘)\r\n",
    "* 주위의 가장 가까운 다른 데이터를 보고 현재 데이터를 판단\r\n",
    "* 기본 비교 개수는 5개로 되어 있다\r\n",
    "* 비교 개수를 변경하고자 할 경우 n_neighbors에 값 지정"
   ]
  },
  {
   "cell_type": "markdown",
   "id": "e911c21f-9d0b-4b42-bcc7-677f8163b81f",
   "metadata": {},
   "source": [
    "<img src=\"../images/kneighbors.png\" width=\"600\" />"
   ]
  },
  {
   "cell_type": "markdown",
   "id": "1474f721-14a8-4a21-b58a-09e50dafa888",
   "metadata": {},
   "source": [
    "## Ensemble(앙상블)\r\n",
    "* 여러 개의 분류기(알고리즘)를 생성하고 그 예측을 결합함으로써 보다 정확한 분류기 생성\r\n",
    "* 앙상블의 대표 알고리즘은 랜덤포레스트와 그래디언트부스팅이 있다\r\n",
    ">\r\n",
    "* 앙상블 학습의 유형\r\n",
    "    - 보팅(Voting) : 서로 다른 알고리즘을 가진 분류기를 결합하여 사용\r\n",
    "    - 배깅(Bagging) : 모두 같은 유형의 알고리즘을 가진 분류기를 결합하여 사용\r\n",
    "        * 대표적 알고리즘인 랜덤포레스트가 있다\r\n",
    "    - 부스팅(Boosting) : 오류를 개선해 나가면서 학습하는 방식(다른 알고리즘에 비해 시간이 더 걸림)"
   ]
  },
  {
   "cell_type": "markdown",
   "id": "26c55ef0-5512-4ac4-a855-9453f87859cf",
   "metadata": {},
   "source": [
    "# train_test_split\r\n",
    "* 데이터를 알고리즘에 사용하고자 하는경우 속성(feature)과 정답(label) 구분을 해야 한다.\r\n",
    "* 알고리즘에 학습하기 위해 test data 와 train data를 구분하여 사용한다.\r\n",
    "    - 70% train(학습)데이터, 30% test 데이터(실제 데이터로 가정하여 확인)\r\n",
    "    - 20% test 데이터 , 80% -> 20%(validation)검증, 80% 학습데이터"
   ]
  },
  {
   "cell_type": "markdown",
   "id": "474a4372-c7ac-4fff-a5ba-a8e5d288aa6a",
   "metadata": {},
   "source": [
    "### 시나리오\r\n",
    "* 농수산물 시장에서 알바를 하기로 결심\r\n",
    "* 사과의 특성을 보고 품질 판별을 해야 함\r\n",
    "* 하나하나 비교하며 판별하기에는 귀차니즘 발동\r\n",
    "* 머신러닝을 이용하여 처리하기로 함\r\n",
    "---"
   ]
  },
  {
   "cell_type": "markdown",
   "id": "8af9e46c-d320-476d-8400-80ba57b0632f",
   "metadata": {},
   "source": [
    "### 사과 품질 분류하기\r\n",
    "* 컬럼\r\n",
    "    - Size : 크기\r\n",
    "    - Weight : 무게\r\n",
    "    - Sweetness : 단맛\r\n",
    "    - Crunchiness : 아삭한 정도\r\n",
    "    - Juiciness : 사과 즙의 정도\r\n",
    "    - Ripeness : 사과의 숙성 정도\r\n",
    "    - Acidity : 신맛\r\n",
    "    - Quality : 품질"
   ]
  },
  {
   "cell_type": "code",
   "execution_count": 1,
   "id": "235efefd-4567-446e-b9be-d9000232a274",
   "metadata": {},
   "outputs": [],
   "source": [
    "import pandas as pd\n",
    "import warnings\n",
    "warnings.filterwarnings(\"ignore\")"
   ]
  },
  {
   "cell_type": "code",
   "execution_count": 2,
   "id": "5a9eed8e-6496-42bb-9fab-eb774567b639",
   "metadata": {},
   "outputs": [
    {
     "data": {
      "text/html": [
       "<div>\n",
       "<style scoped>\n",
       "    .dataframe tbody tr th:only-of-type {\n",
       "        vertical-align: middle;\n",
       "    }\n",
       "\n",
       "    .dataframe tbody tr th {\n",
       "        vertical-align: top;\n",
       "    }\n",
       "\n",
       "    .dataframe thead th {\n",
       "        text-align: right;\n",
       "    }\n",
       "</style>\n",
       "<table border=\"1\" class=\"dataframe\">\n",
       "  <thead>\n",
       "    <tr style=\"text-align: right;\">\n",
       "      <th></th>\n",
       "      <th>A_id</th>\n",
       "      <th>Size</th>\n",
       "      <th>Weight</th>\n",
       "      <th>Sweetness</th>\n",
       "      <th>Crunchiness</th>\n",
       "      <th>Juiciness</th>\n",
       "      <th>Ripeness</th>\n",
       "      <th>Acidity</th>\n",
       "      <th>Quality</th>\n",
       "    </tr>\n",
       "  </thead>\n",
       "  <tbody>\n",
       "    <tr>\n",
       "      <th>0</th>\n",
       "      <td>0.0</td>\n",
       "      <td>-3.970049</td>\n",
       "      <td>-2.512336</td>\n",
       "      <td>5.346330</td>\n",
       "      <td>-1.012009</td>\n",
       "      <td>1.844900</td>\n",
       "      <td>0.329840</td>\n",
       "      <td>-0.491590483</td>\n",
       "      <td>good</td>\n",
       "    </tr>\n",
       "    <tr>\n",
       "      <th>1</th>\n",
       "      <td>1.0</td>\n",
       "      <td>-1.195217</td>\n",
       "      <td>-2.839257</td>\n",
       "      <td>3.664059</td>\n",
       "      <td>1.588232</td>\n",
       "      <td>0.853286</td>\n",
       "      <td>0.867530</td>\n",
       "      <td>-0.722809367</td>\n",
       "      <td>good</td>\n",
       "    </tr>\n",
       "    <tr>\n",
       "      <th>2</th>\n",
       "      <td>2.0</td>\n",
       "      <td>-0.292024</td>\n",
       "      <td>-1.351282</td>\n",
       "      <td>-1.738429</td>\n",
       "      <td>-0.342616</td>\n",
       "      <td>2.838636</td>\n",
       "      <td>-0.038033</td>\n",
       "      <td>2.621636473</td>\n",
       "      <td>bad</td>\n",
       "    </tr>\n",
       "    <tr>\n",
       "      <th>3</th>\n",
       "      <td>3.0</td>\n",
       "      <td>-0.657196</td>\n",
       "      <td>-2.271627</td>\n",
       "      <td>1.324874</td>\n",
       "      <td>-0.097875</td>\n",
       "      <td>3.637970</td>\n",
       "      <td>-3.413761</td>\n",
       "      <td>0.790723217</td>\n",
       "      <td>good</td>\n",
       "    </tr>\n",
       "    <tr>\n",
       "      <th>4</th>\n",
       "      <td>4.0</td>\n",
       "      <td>1.364217</td>\n",
       "      <td>-1.296612</td>\n",
       "      <td>-0.384658</td>\n",
       "      <td>-0.553006</td>\n",
       "      <td>3.030874</td>\n",
       "      <td>-1.303849</td>\n",
       "      <td>0.501984036</td>\n",
       "      <td>good</td>\n",
       "    </tr>\n",
       "  </tbody>\n",
       "</table>\n",
       "</div>"
      ],
      "text/plain": [
       "   A_id      Size    Weight  Sweetness  Crunchiness  Juiciness  Ripeness  \\\n",
       "0   0.0 -3.970049 -2.512336   5.346330    -1.012009   1.844900  0.329840   \n",
       "1   1.0 -1.195217 -2.839257   3.664059     1.588232   0.853286  0.867530   \n",
       "2   2.0 -0.292024 -1.351282  -1.738429    -0.342616   2.838636 -0.038033   \n",
       "3   3.0 -0.657196 -2.271627   1.324874    -0.097875   3.637970 -3.413761   \n",
       "4   4.0  1.364217 -1.296612  -0.384658    -0.553006   3.030874 -1.303849   \n",
       "\n",
       "        Acidity Quality  \n",
       "0  -0.491590483    good  \n",
       "1  -0.722809367    good  \n",
       "2   2.621636473     bad  \n",
       "3   0.790723217    good  \n",
       "4   0.501984036    good  "
      ]
     },
     "execution_count": 2,
     "metadata": {},
     "output_type": "execute_result"
    }
   ],
   "source": [
    "df = pd.read_csv('../data_set/4.분류/apple_quality.csv')\n",
    "df.head()"
   ]
  },
  {
   "cell_type": "code",
   "execution_count": 3,
   "id": "58665789-1098-4e6f-b7fb-42ce8cf67c2f",
   "metadata": {},
   "outputs": [
    {
     "data": {
      "text/plain": [
       "array(['good', 'bad', nan], dtype=object)"
      ]
     },
     "execution_count": 3,
     "metadata": {},
     "output_type": "execute_result"
    }
   ],
   "source": [
    "df[\"Quality\"].unique()"
   ]
  },
  {
   "cell_type": "code",
   "execution_count": 4,
   "id": "d34c0e0a-3d91-46bc-8dea-b72a6264591c",
   "metadata": {},
   "outputs": [
    {
     "data": {
      "text/plain": [
       "A_id           1\n",
       "Size           1\n",
       "Weight         1\n",
       "Sweetness      1\n",
       "Crunchiness    1\n",
       "Juiciness      1\n",
       "Ripeness       1\n",
       "Acidity        0\n",
       "Quality        1\n",
       "dtype: int64"
      ]
     },
     "execution_count": 4,
     "metadata": {},
     "output_type": "execute_result"
    }
   ],
   "source": [
    "df.isnull().sum()"
   ]
  },
  {
   "cell_type": "code",
   "execution_count": 5,
   "id": "3c258143-267e-40f7-a06c-fe35734bf6ae",
   "metadata": {},
   "outputs": [
    {
     "data": {
      "text/plain": [
       "(4001, 9)"
      ]
     },
     "execution_count": 5,
     "metadata": {},
     "output_type": "execute_result"
    }
   ],
   "source": [
    "df.shape"
   ]
  },
  {
   "cell_type": "code",
   "execution_count": 6,
   "id": "e7073f60-ae2b-420b-9e71-b2eb7dfe803b",
   "metadata": {},
   "outputs": [],
   "source": [
    "df.dropna(axis=0, inplace=True) # 결측치 행 삭제 "
   ]
  },
  {
   "cell_type": "code",
   "execution_count": 7,
   "id": "481f78a1-7a19-4225-91fb-cbeeb4b0fe58",
   "metadata": {},
   "outputs": [
    {
     "data": {
      "text/plain": [
       "A_id           0\n",
       "Size           0\n",
       "Weight         0\n",
       "Sweetness      0\n",
       "Crunchiness    0\n",
       "Juiciness      0\n",
       "Ripeness       0\n",
       "Acidity        0\n",
       "Quality        0\n",
       "dtype: int64"
      ]
     },
     "execution_count": 7,
     "metadata": {},
     "output_type": "execute_result"
    }
   ],
   "source": [
    "df.isnull().sum()"
   ]
  },
  {
   "cell_type": "code",
   "execution_count": 8,
   "id": "33051958-a1d7-448f-8adf-516a2d3dee66",
   "metadata": {},
   "outputs": [
    {
     "data": {
      "text/plain": [
       "Index(['A_id', 'Size', 'Weight', 'Sweetness', 'Crunchiness', 'Juiciness',\n",
       "       'Ripeness', 'Acidity', 'Quality'],\n",
       "      dtype='object')"
      ]
     },
     "execution_count": 8,
     "metadata": {},
     "output_type": "execute_result"
    }
   ],
   "source": [
    "df.columns"
   ]
  },
  {
   "cell_type": "code",
   "execution_count": 9,
   "id": "55fddaa5-bbd7-43f2-91e6-0977a1fc6e9c",
   "metadata": {},
   "outputs": [
    {
     "data": {
      "text/plain": [
       "(          Size    Weight  Sweetness  Crunchiness  Juiciness  Ripeness  \\\n",
       " 0    -3.970049 -2.512336   5.346330    -1.012009   1.844900  0.329840   \n",
       " 1    -1.195217 -2.839257   3.664059     1.588232   0.853286  0.867530   \n",
       " 2    -0.292024 -1.351282  -1.738429    -0.342616   2.838636 -0.038033   \n",
       " 3    -0.657196 -2.271627   1.324874    -0.097875   3.637970 -3.413761   \n",
       " 4     1.364217 -1.296612  -0.384658    -0.553006   3.030874 -1.303849   \n",
       " ...        ...       ...        ...          ...        ...       ...   \n",
       " 3995  0.059386 -1.067408  -3.714549     0.473052   1.697986  2.244055   \n",
       " 3996 -0.293118  1.949253  -0.204020    -0.640196   0.024523 -1.087900   \n",
       " 3997 -2.634515 -2.138247  -2.440461     0.657223   2.199709  4.763859   \n",
       " 3998 -4.008004 -1.779337   2.366397    -0.200329   2.161435  0.214488   \n",
       " 3999  0.278540 -1.715505   0.121217    -1.154075   1.266677 -0.776571   \n",
       " \n",
       "            Acidity  \n",
       " 0     -0.491590483  \n",
       " 1     -0.722809367  \n",
       " 2      2.621636473  \n",
       " 3      0.790723217  \n",
       " 4      0.501984036  \n",
       " ...            ...  \n",
       " 3995   0.137784369  \n",
       " 3996   1.854235285  \n",
       " 3997  -1.334611391  \n",
       " 3998  -2.229719806  \n",
       " 3999   1.599796456  \n",
       " \n",
       " [4000 rows x 7 columns],\n",
       " 0       good\n",
       " 1       good\n",
       " 2        bad\n",
       " 3       good\n",
       " 4       good\n",
       "         ... \n",
       " 3995     bad\n",
       " 3996    good\n",
       " 3997     bad\n",
       " 3998    good\n",
       " 3999    good\n",
       " Name: Quality, Length: 4000, dtype: object)"
      ]
     },
     "execution_count": 9,
     "metadata": {},
     "output_type": "execute_result"
    }
   ],
   "source": [
    "f = ['Size', 'Weight', 'Sweetness', 'Crunchiness', 'Juiciness',\n",
    "       'Ripeness', 'Acidity']\n",
    "l = 'Quality'\n",
    "X, y = df[f], df[l]\n",
    "X, y"
   ]
  },
  {
   "cell_type": "code",
   "execution_count": 10,
   "id": "c76a75a5-eeb8-4950-8057-43a72416dabd",
   "metadata": {},
   "outputs": [],
   "source": [
    "from sklearn.model_selection import train_test_split\n",
    "X_train, X_test, y_train, y_test = train_test_split(X, y, test_size=0.3)"
   ]
  },
  {
   "cell_type": "code",
   "execution_count": 11,
   "id": "48061383-2b3f-4d30-be00-39022434c1d1",
   "metadata": {},
   "outputs": [
    {
     "name": "stdout",
     "output_type": "stream",
     "text": [
      "총 개수 :  (4000, 7) (4000,)\n",
      "학습 개수 :  (2800, 7) (2800,)\n",
      "테스트 개수 :  (1200, 7) (1200,)\n"
     ]
    }
   ],
   "source": [
    "print(\"총 개수 : \", X.shape, y.shape)\n",
    "print(\"학습 개수 : \", X_train.shape, y_train.shape)\n",
    "print(\"테스트 개수 : \", X_test.shape, y_test.shape)"
   ]
  },
  {
   "cell_type": "code",
   "execution_count": 12,
   "id": "3951bd38-18fb-4d03-baae-52d290ca19d4",
   "metadata": {},
   "outputs": [
    {
     "data": {
      "text/plain": [
       "0.8966666666666666"
      ]
     },
     "execution_count": 12,
     "metadata": {},
     "output_type": "execute_result"
    }
   ],
   "source": [
    "from sklearn.neighbors import KNeighborsClassifier\n",
    "kn = KNeighborsClassifier()\n",
    "kn.fit(X_train, y_train)\n",
    "kn.score(X_test, y_test)"
   ]
  },
  {
   "cell_type": "markdown",
   "id": "cc0c2566-a484-4a14-8b3c-654b9e82a5a7",
   "metadata": {},
   "source": [
    "#### SVM(Support Vector Machine)\r\n",
    "* 특정 데이터들을 구분하는 선을 찾고, 이를 기반으로 패턴을 인식하는 방법\r\n",
    "* kernel : linear, rbf\r\n",
    "* linear : 선형으로 데이터들을 구분지을 수 있는 경우\r\n",
    "* rbf : 선형으로 데이터를 구분지을 수 없는 경우"
   ]
  },
  {
   "cell_type": "markdown",
   "id": "b52996b7-42f0-4a1c-9806-20c52206c63c",
   "metadata": {},
   "source": [
    "<img src=\"../images/svm.png\" width=\"600\" />"
   ]
  },
  {
   "cell_type": "code",
   "execution_count": 13,
   "id": "6153b0be-9ef7-49f4-b424-bff81eb93ee6",
   "metadata": {},
   "outputs": [
    {
     "data": {
      "text/plain": [
       "0.7483333333333333"
      ]
     },
     "execution_count": 13,
     "metadata": {},
     "output_type": "execute_result"
    }
   ],
   "source": [
    "import sklearn.svm as svm\n",
    "svm_linear = svm.SVC(kernel=\"linear\")\n",
    "svm_linear.fit(X_train, y_train)\n",
    "svm_linear.score(X_test, y_test)"
   ]
  },
  {
   "cell_type": "code",
   "execution_count": 14,
   "id": "5dea7368-5b47-4df1-9331-b33cbda90810",
   "metadata": {},
   "outputs": [
    {
     "data": {
      "text/plain": [
       "0.89"
      ]
     },
     "execution_count": 14,
     "metadata": {},
     "output_type": "execute_result"
    }
   ],
   "source": [
    "svm_rbf = svm.SVC(kernel=\"rbf\")\n",
    "svm_rbf.fit(X_train, y_train)\n",
    "svm_rbf.score(X_test, y_test)"
   ]
  },
  {
   "cell_type": "markdown",
   "id": "088d8edb-d92e-4565-9be4-48806fc1edff",
   "metadata": {},
   "source": [
    "### DecisionTree\r\n",
    "* 특정 조건에 따라 가지치기 과정을 반복하면서 모델을 생성한다"
   ]
  },
  {
   "cell_type": "markdown",
   "id": "0209b3c8-2bad-482f-9853-c1682e9d42cf",
   "metadata": {},
   "source": [
    "<img src=\"../images/tree.png\" width=\"500\" />"
   ]
  },
  {
   "cell_type": "code",
   "execution_count": 15,
   "id": "42996724-d7f0-4824-b1a4-7fa22d931087",
   "metadata": {},
   "outputs": [
    {
     "data": {
      "text/plain": [
       "0.8058333333333333"
      ]
     },
     "execution_count": 15,
     "metadata": {},
     "output_type": "execute_result"
    }
   ],
   "source": [
    "from sklearn.tree import DecisionTreeClassifier\n",
    "dt = DecisionTreeClassifier()\n",
    "dt.fit(X_train, y_train)\n",
    "dt.score(X_test, y_test)"
   ]
  },
  {
   "cell_type": "markdown",
   "id": "8d13a21f-bb01-4bbc-a2ac-6de4cb09ef3d",
   "metadata": {},
   "source": [
    "#### Voting(보팅)\r\n",
    "* 하드보팅(Hard Voting) : 다수의 결정에 의해 결과값이 선정된다\r\n",
    "* 소프트보팅(Soft Voting) : 결정된 값들의 평균을 구하고 가장 높은 값을 선정\r\n",
    "* 일반적으로 하드보팅보다 소프트 보팅이 성능이 좋아 소프트 보팅을 많이 사용한다"
   ]
  },
  {
   "cell_type": "markdown",
   "id": "47961af6-ceb2-48ae-84db-a0fba4ad6567",
   "metadata": {},
   "source": [
    "<img src=\"../images/보팅.png\" width=\"650\" />"
   ]
  },
  {
   "cell_type": "code",
   "execution_count": 16,
   "id": "12c690c1-787c-4b6a-9528-524640b25889",
   "metadata": {},
   "outputs": [
    {
     "data": {
      "text/html": [
       "<style>#sk-container-id-1 {color: black;background-color: white;}#sk-container-id-1 pre{padding: 0;}#sk-container-id-1 div.sk-toggleable {background-color: white;}#sk-container-id-1 label.sk-toggleable__label {cursor: pointer;display: block;width: 100%;margin-bottom: 0;padding: 0.3em;box-sizing: border-box;text-align: center;}#sk-container-id-1 label.sk-toggleable__label-arrow:before {content: \"▸\";float: left;margin-right: 0.25em;color: #696969;}#sk-container-id-1 label.sk-toggleable__label-arrow:hover:before {color: black;}#sk-container-id-1 div.sk-estimator:hover label.sk-toggleable__label-arrow:before {color: black;}#sk-container-id-1 div.sk-toggleable__content {max-height: 0;max-width: 0;overflow: hidden;text-align: left;background-color: #f0f8ff;}#sk-container-id-1 div.sk-toggleable__content pre {margin: 0.2em;color: black;border-radius: 0.25em;background-color: #f0f8ff;}#sk-container-id-1 input.sk-toggleable__control:checked~div.sk-toggleable__content {max-height: 200px;max-width: 100%;overflow: auto;}#sk-container-id-1 input.sk-toggleable__control:checked~label.sk-toggleable__label-arrow:before {content: \"▾\";}#sk-container-id-1 div.sk-estimator input.sk-toggleable__control:checked~label.sk-toggleable__label {background-color: #d4ebff;}#sk-container-id-1 div.sk-label input.sk-toggleable__control:checked~label.sk-toggleable__label {background-color: #d4ebff;}#sk-container-id-1 input.sk-hidden--visually {border: 0;clip: rect(1px 1px 1px 1px);clip: rect(1px, 1px, 1px, 1px);height: 1px;margin: -1px;overflow: hidden;padding: 0;position: absolute;width: 1px;}#sk-container-id-1 div.sk-estimator {font-family: monospace;background-color: #f0f8ff;border: 1px dotted black;border-radius: 0.25em;box-sizing: border-box;margin-bottom: 0.5em;}#sk-container-id-1 div.sk-estimator:hover {background-color: #d4ebff;}#sk-container-id-1 div.sk-parallel-item::after {content: \"\";width: 100%;border-bottom: 1px solid gray;flex-grow: 1;}#sk-container-id-1 div.sk-label:hover label.sk-toggleable__label {background-color: #d4ebff;}#sk-container-id-1 div.sk-serial::before {content: \"\";position: absolute;border-left: 1px solid gray;box-sizing: border-box;top: 0;bottom: 0;left: 50%;z-index: 0;}#sk-container-id-1 div.sk-serial {display: flex;flex-direction: column;align-items: center;background-color: white;padding-right: 0.2em;padding-left: 0.2em;position: relative;}#sk-container-id-1 div.sk-item {position: relative;z-index: 1;}#sk-container-id-1 div.sk-parallel {display: flex;align-items: stretch;justify-content: center;background-color: white;position: relative;}#sk-container-id-1 div.sk-item::before, #sk-container-id-1 div.sk-parallel-item::before {content: \"\";position: absolute;border-left: 1px solid gray;box-sizing: border-box;top: 0;bottom: 0;left: 50%;z-index: -1;}#sk-container-id-1 div.sk-parallel-item {display: flex;flex-direction: column;z-index: 1;position: relative;background-color: white;}#sk-container-id-1 div.sk-parallel-item:first-child::after {align-self: flex-end;width: 50%;}#sk-container-id-1 div.sk-parallel-item:last-child::after {align-self: flex-start;width: 50%;}#sk-container-id-1 div.sk-parallel-item:only-child::after {width: 0;}#sk-container-id-1 div.sk-dashed-wrapped {border: 1px dashed gray;margin: 0 0.4em 0.5em 0.4em;box-sizing: border-box;padding-bottom: 0.4em;background-color: white;}#sk-container-id-1 div.sk-label label {font-family: monospace;font-weight: bold;display: inline-block;line-height: 1.2em;}#sk-container-id-1 div.sk-label-container {text-align: center;}#sk-container-id-1 div.sk-container {/* jupyter's `normalize.less` sets `[hidden] { display: none; }` but bootstrap.min.css set `[hidden] { display: none !important; }` so we also need the `!important` here to be able to override the default hidden behavior on the sphinx rendered scikit-learn.org. See: https://github.com/scikit-learn/scikit-learn/issues/21755 */display: inline-block !important;position: relative;}#sk-container-id-1 div.sk-text-repr-fallback {display: none;}</style><div id=\"sk-container-id-1\" class=\"sk-top-container\"><div class=\"sk-text-repr-fallback\"><pre>DecisionTreeClassifier()</pre><b>In a Jupyter environment, please rerun this cell to show the HTML representation or trust the notebook. <br />On GitHub, the HTML representation is unable to render, please try loading this page with nbviewer.org.</b></div><div class=\"sk-container\" hidden><div class=\"sk-item\"><div class=\"sk-estimator sk-toggleable\"><input class=\"sk-toggleable__control sk-hidden--visually\" id=\"sk-estimator-id-1\" type=\"checkbox\" checked><label for=\"sk-estimator-id-1\" class=\"sk-toggleable__label sk-toggleable__label-arrow\">DecisionTreeClassifier</label><div class=\"sk-toggleable__content\"><pre>DecisionTreeClassifier()</pre></div></div></div></div></div>"
      ],
      "text/plain": [
       "DecisionTreeClassifier()"
      ]
     },
     "execution_count": 16,
     "metadata": {},
     "output_type": "execute_result"
    }
   ],
   "source": [
    "s = svm.SVC(kernel=\"rbf\", probability=True) # probability : 확률을 구하고자 할 때, True\n",
    "s.fit(X_train, y_train)\n",
    "\n",
    "k = KNeighborsClassifier()\n",
    "k.fit(X_train, y_train)\n",
    "\n",
    "d = DecisionTreeClassifier()\n",
    "d.fit(X_train, y_train)"
   ]
  },
  {
   "cell_type": "code",
   "execution_count": 17,
   "id": "da76c022-977f-41bf-a004-a72191dd55a1",
   "metadata": {},
   "outputs": [
    {
     "name": "stdout",
     "output_type": "stream",
     "text": [
      "svm :  0.89\n",
      "kn :  0.8966666666666666\n",
      "d :  0.8025\n",
      "vo :  0.8775\n"
     ]
    }
   ],
   "source": [
    "from sklearn.ensemble import VotingClassifier\n",
    "vo = VotingClassifier(estimators=[(\"svc\", s), (\"kn\", k), (\"DecisionTree\", d)], voting=\"soft\")\n",
    "vo.fit(X_train, y_train)\n",
    "print(\"svm : \", s.score(X_test, y_test))\n",
    "print(\"kn : \", k.score(X_test, y_test))\n",
    "print(\"d : \", d.score(X_test, y_test))\n",
    "print(\"vo : \", vo.score(X_test, y_test))"
   ]
  },
  {
   "cell_type": "markdown",
   "id": "4f6ea932-b189-477b-a369-1dd1d6ac0964",
   "metadata": {},
   "source": [
    "#### RandomForest(랜덤포레스트)\r\n",
    "* decision tree 알고리즘을 여러 개의 분류기로 만들어서 보팅(소프트보팅)으로 최종 결정한다"
   ]
  },
  {
   "cell_type": "markdown",
   "id": "41b15a70-67be-4860-84b8-487692a35bac",
   "metadata": {},
   "source": [
    "<img src=\"../images/배깅.png\" width=\"400\" />"
   ]
  },
  {
   "cell_type": "code",
   "execution_count": 19,
   "id": "eb112e15-1183-40d9-9cbc-0a79a2cba549",
   "metadata": {},
   "outputs": [
    {
     "data": {
      "text/plain": [
       "0.8833333333333333"
      ]
     },
     "execution_count": 19,
     "metadata": {},
     "output_type": "execute_result"
    }
   ],
   "source": [
    "from sklearn.ensemble import RandomForestClassifier\n",
    "\n",
    "rfc = RandomForestClassifier()\n",
    "rfc.fit(X_train, y_train)\n",
    "rfc.score(X_test, y_test)"
   ]
  },
  {
   "cell_type": "markdown",
   "id": "98947075-a698-452f-b008-23df0ecd15c3",
   "metadata": {},
   "source": [
    "#### 부스팅(Boosting)\r\n",
    "* GBM(Gradient Boosting Machine)\r\n",
    "    - decision tree를 묶어 강력한 model을 만드는 ensemble기법입니다.\r\n",
    "    - 순차적으로 학습-예측하면서 잘못 예측한 데이터의 오류를 개선해 나가면서 학습하는 방법\r\n",
    "    - 다른 알고리즘에 비해 처리속도가 느림"
   ]
  },
  {
   "cell_type": "markdown",
   "id": "3893380c-3925-4a3e-b85d-ebe0a6ae773f",
   "metadata": {},
   "source": [
    "<img src=\"../images/GBM.png\" width=\"650\"/>"
   ]
  },
  {
   "cell_type": "code",
   "execution_count": 20,
   "id": "f3950908-7e9b-48d3-96cf-3444b253aafd",
   "metadata": {},
   "outputs": [
    {
     "data": {
      "text/plain": [
       "0.8491666666666666"
      ]
     },
     "execution_count": 20,
     "metadata": {},
     "output_type": "execute_result"
    }
   ],
   "source": [
    "from sklearn.ensemble import GradientBoostingClassifier\n",
    "gbc = GradientBoostingClassifier()\n",
    "gbc.fit(X_train, y_train)\n",
    "gbc.score(X_test, y_test)"
   ]
  },
  {
   "cell_type": "code",
   "execution_count": 21,
   "id": "30fcdc61-9352-4ced-bdb6-d0df696fa322",
   "metadata": {},
   "outputs": [
    {
     "data": {
      "text/html": [
       "<div>\n",
       "<style scoped>\n",
       "    .dataframe tbody tr th:only-of-type {\n",
       "        vertical-align: middle;\n",
       "    }\n",
       "\n",
       "    .dataframe tbody tr th {\n",
       "        vertical-align: top;\n",
       "    }\n",
       "\n",
       "    .dataframe thead th {\n",
       "        text-align: right;\n",
       "    }\n",
       "</style>\n",
       "<table border=\"1\" class=\"dataframe\">\n",
       "  <thead>\n",
       "    <tr style=\"text-align: right;\">\n",
       "      <th></th>\n",
       "      <th>A_id</th>\n",
       "      <th>Size</th>\n",
       "      <th>Weight</th>\n",
       "      <th>Sweetness</th>\n",
       "      <th>Crunchiness</th>\n",
       "      <th>Juiciness</th>\n",
       "      <th>Ripeness</th>\n",
       "      <th>Acidity</th>\n",
       "      <th>Quality</th>\n",
       "    </tr>\n",
       "  </thead>\n",
       "  <tbody>\n",
       "    <tr>\n",
       "      <th>0</th>\n",
       "      <td>0.0</td>\n",
       "      <td>-3.970049</td>\n",
       "      <td>-2.512336</td>\n",
       "      <td>5.346330</td>\n",
       "      <td>-1.012009</td>\n",
       "      <td>1.844900</td>\n",
       "      <td>0.32984</td>\n",
       "      <td>-0.491590483</td>\n",
       "      <td>good</td>\n",
       "    </tr>\n",
       "    <tr>\n",
       "      <th>1</th>\n",
       "      <td>1.0</td>\n",
       "      <td>-1.195217</td>\n",
       "      <td>-2.839257</td>\n",
       "      <td>3.664059</td>\n",
       "      <td>1.588232</td>\n",
       "      <td>0.853286</td>\n",
       "      <td>0.86753</td>\n",
       "      <td>-0.722809367</td>\n",
       "      <td>good</td>\n",
       "    </tr>\n",
       "  </tbody>\n",
       "</table>\n",
       "</div>"
      ],
      "text/plain": [
       "   A_id      Size    Weight  Sweetness  Crunchiness  Juiciness  Ripeness  \\\n",
       "0   0.0 -3.970049 -2.512336   5.346330    -1.012009   1.844900   0.32984   \n",
       "1   1.0 -1.195217 -2.839257   3.664059     1.588232   0.853286   0.86753   \n",
       "\n",
       "        Acidity Quality  \n",
       "0  -0.491590483    good  \n",
       "1  -0.722809367    good  "
      ]
     },
     "execution_count": 21,
     "metadata": {},
     "output_type": "execute_result"
    }
   ],
   "source": [
    "df.head(2)"
   ]
  },
  {
   "cell_type": "code",
   "execution_count": 22,
   "id": "652c09b0-721e-4ddc-9261-ff37ac96723b",
   "metadata": {},
   "outputs": [
    {
     "data": {
      "text/plain": [
       "array(['good'], dtype=object)"
      ]
     },
     "execution_count": 22,
     "metadata": {},
     "output_type": "execute_result"
    }
   ],
   "source": [
    "# 임의의 Size\tWeight\tSweetness\tCrunchiness\tJuiciness\tRipeness\tAcidity 의 값을 넣으면 Quality의 예상 결과 출력\n",
    "s.predict( [ [-3.970049,\t-2.512336,\t5.346330,\t-1.012009,\t1.844900,\t0.32984,\t-0.491590483\t] ] )"
   ]
  },
  {
   "cell_type": "code",
   "execution_count": 23,
   "id": "df498622-aa78-4e0c-bf1e-6d364bd538ce",
   "metadata": {},
   "outputs": [
    {
     "data": {
      "text/plain": [
       "array(['good'], dtype=object)"
      ]
     },
     "execution_count": 23,
     "metadata": {},
     "output_type": "execute_result"
    }
   ],
   "source": [
    "kn.predict( [ [-3.970049,\t-2.512336,\t5.346330,\t-1.012009,\t1.844900,\t0.32984,\t-0.491590483\t] ] )"
   ]
  },
  {
   "cell_type": "markdown",
   "id": "b9f5d294-3298-4b7d-9ea6-b80f766ffefa",
   "metadata": {},
   "source": [
    "### Classification Metric\r\n",
    "* Metric : 학습을 통해 목표를 얼마나 잘(못) 달성했는지를 나타내는 값을 척도(metric)라고 합니다\r\n",
    "    - Accuracy(정확도)\r\n",
    "        * 전체 샘플 중 맞게 예측한 샘플 수의 비율\r\n",
    "    - Recall(재현율)\r\n",
    "        * 양성 샘플을 양성으로 맞춘 비율과 양성을 음성으로 잘못 예측한 비율\r\n",
    "        * 실제 음성을 양성으로 잘못 맞춰도 재현율은 떨어지지 않는다\r\n",
    "    - Precision(정밀도)\r\n",
    "        * 양성이라고 예측한 값의 비례하는 실제 값이 양성인 비율\r\n",
    "        * 음성을 양성으로 잘못 판단하면 정밀도는 떨어진다\r\n",
    "    - F1 - score\r\n",
    "        * Reacll과 Precision의 조화평균"
   ]
  },
  {
   "cell_type": "markdown",
   "id": "d1201b3c-ca10-4a21-8977-28d8c4100177",
   "metadata": {},
   "source": [
    "#### Accuracy(정확도)\r\n",
    "* 전체 샘플 중 맞게 예측한 샘플 수의 비율을 뜻한다.\r\n",
    "* 즉, 전체 개수 중 정답을 맞춘 개수이다.\r\n",
    "* 10문제 중 8개 맞추면 80% 맞춘 결과가 나온다\r\n",
    "* accuracy는 label의 값이 균등할 때 사용하면 된다."
   ]
  },
  {
   "cell_type": "code",
   "execution_count": 24,
   "id": "0d655015-de09-462f-87bb-2998e49ba40d",
   "metadata": {},
   "outputs": [],
   "source": [
    "y_test = [0, 1, 1, 0, 0, 0, 1, 1, 1, 1]  #실제 정답\n",
    "y_pred = [1, 0, 0, 0, 0, 0, 1, 1, 1, 1]  #예측 정답"
   ]
  },
  {
   "cell_type": "code",
   "execution_count": 25,
   "id": "d01114f7-4f3c-487a-a5c3-c4c7d2b65b53",
   "metadata": {},
   "outputs": [
    {
     "data": {
      "text/plain": [
       "0.7"
      ]
     },
     "execution_count": 25,
     "metadata": {},
     "output_type": "execute_result"
    }
   ],
   "source": [
    "from sklearn.metrics import accuracy_score\n",
    "acc = accuracy_score(y_test, y_pred)\n",
    "acc"
   ]
  },
  {
   "cell_type": "code",
   "execution_count": 26,
   "id": "b2bcff03-5d38-4adb-a2d5-cb01bdc94830",
   "metadata": {},
   "outputs": [],
   "source": [
    "# 암인지 아닌지\n",
    "y_test = [1, 1, 0, 1, 1, 1, 1, 1, 1, 1] #실제 정답\n",
    "y_pred = [0, 1, 1, 1, 1, 1, 1, 1, 1, 1] #예측 정답"
   ]
  },
  {
   "cell_type": "code",
   "execution_count": 27,
   "id": "60f688fa-d84e-4a22-8e3f-045c43f571a2",
   "metadata": {},
   "outputs": [
    {
     "data": {
      "text/plain": [
       "0.8"
      ]
     },
     "execution_count": 27,
     "metadata": {},
     "output_type": "execute_result"
    }
   ],
   "source": [
    "acc = accuracy_score(y_test, y_pred)\n",
    "acc"
   ]
  },
  {
   "cell_type": "markdown",
   "id": "392db8f9-7ce6-416a-9783-bd9d96339b75",
   "metadata": {},
   "source": [
    "#### 재현율(recall)\r\n",
    "* 실제 양성 샘플을 양성으로 맞춘 비율과 양성을 음성으로 잘못 예측한 비율\r\n",
    "* 높을 수록 좋은 모델\r\n",
    "* 양성(1)이 중요한 경우"
   ]
  },
  {
   "cell_type": "code",
   "execution_count": 28,
   "id": "8f216cd3-d7d3-411a-adf5-23bbcb6ec685",
   "metadata": {},
   "outputs": [],
   "source": [
    "# 암인지 아닌지\n",
    "y_test = [0, 0, 0, 1, 1, 1, 1, 1, 1, 1] #실제 정답\n",
    "y_pred = [1, 1, 1, 1, 1 ,1 ,1, 1, 1, 1] #예측 정답"
   ]
  },
  {
   "cell_type": "code",
   "execution_count": 30,
   "id": "feeb22a8-8b3c-42b9-8a55-7ae9473626e6",
   "metadata": {},
   "outputs": [
    {
     "data": {
      "text/plain": [
       "1.0"
      ]
     },
     "execution_count": 30,
     "metadata": {},
     "output_type": "execute_result"
    }
   ],
   "source": [
    "from sklearn.metrics import recall_score\n",
    "recall = recall_score(y_test, y_pred)\n",
    "recall\n",
    "# 암인지 아닌지에 대한 예측일 경우 실제 정답이 0일 경우는 무시, 1인 경우만 비교하여 판단"
   ]
  },
  {
   "cell_type": "markdown",
   "id": "e225a895-2908-427c-9312-3ec398d70d1a",
   "metadata": {},
   "source": [
    "#### 정밀도(precision)\n",
    "* 실제 음성의 값을 못맞추는 경우 예측력이 떨어진다"
   ]
  },
  {
   "cell_type": "code",
   "execution_count": 36,
   "id": "92f097c3-bd7b-4c4d-a000-be0f5450b3c5",
   "metadata": {},
   "outputs": [],
   "source": [
    "# 스팸 메일인지 아닌지\n",
    "y_test = [0, 0, 0, 1, 1, 1, 1, 1, 1, 1] #실제 스팸\n",
    "y_pred = [1, 1, 1, 1, 1 ,1 ,1, 1, 1, 1] #예측 스팸"
   ]
  },
  {
   "cell_type": "code",
   "execution_count": 37,
   "id": "b932c969-ca62-454d-9040-a7c0bbdbfd3e",
   "metadata": {},
   "outputs": [
    {
     "data": {
      "text/plain": [
       "1.0"
      ]
     },
     "execution_count": 37,
     "metadata": {},
     "output_type": "execute_result"
    }
   ],
   "source": [
    "recall = recall_score(y_test, y_pred)\n",
    "recall\n",
    "# 스팸 메일의 경우 스팸이 아닌 메일을 스팸으로 착각하면 안되므로 recall 사용 불가"
   ]
  },
  {
   "cell_type": "code",
   "execution_count": 39,
   "id": "4dde71b5-6c57-4514-9953-624951d9d5ac",
   "metadata": {},
   "outputs": [],
   "source": [
    "# 스팸 메일인지 아닌지\n",
    "y_test = [1, 1, 1, 1, 1, 1, 1, 1, 1, 1] #실제 스팸\n",
    "y_pred = [0, 0, 0, 1, 1 ,1 ,1, 1, 1, 1] #예측 스팸"
   ]
  },
  {
   "cell_type": "code",
   "execution_count": 40,
   "id": "1bffdbc3-aec7-43cd-be21-b1c35167283c",
   "metadata": {},
   "outputs": [
    {
     "data": {
      "text/plain": [
       "1.0"
      ]
     },
     "execution_count": 40,
     "metadata": {},
     "output_type": "execute_result"
    }
   ],
   "source": [
    "from sklearn.metrics import precision_score\n",
    "p = precision_score(y_test, y_pred)\n",
    "p"
   ]
  },
  {
   "cell_type": "code",
   "execution_count": 41,
   "id": "a881edc1-09a5-4187-8978-3a213cf586c0",
   "metadata": {},
   "outputs": [
    {
     "data": {
      "text/plain": [
       "0.7"
      ]
     },
     "execution_count": 41,
     "metadata": {},
     "output_type": "execute_result"
    }
   ],
   "source": [
    "recall = recall_score(y_test, y_pred)\n",
    "recall"
   ]
  },
  {
   "cell_type": "code",
   "execution_count": 42,
   "id": "f9d4641a-62d6-4e26-ae0b-572c23429d4d",
   "metadata": {},
   "outputs": [],
   "source": [
    "y_test = [0, 0, 1, 1, 1, 1, 1, 1, 1, 1] #실제 스팸\n",
    "y_pred = [1, 1, 1, 1, 1 ,1 ,1, 1, 1, 1] #예측 스팸"
   ]
  },
  {
   "cell_type": "code",
   "execution_count": 43,
   "id": "3b2ce4d9-c9ce-4dda-8ea5-ee7535021ada",
   "metadata": {},
   "outputs": [
    {
     "name": "stdout",
     "output_type": "stream",
     "text": [
      "acc(정확도) :  0.8\n",
      "recall(재현율) :  1.0\n",
      "precision(정밀도) :  0.8\n",
      "f1 score:  0.888888888888889\n"
     ]
    }
   ],
   "source": [
    "from sklearn.metrics import f1_score\n",
    "\n",
    "acc = accuracy_score(y_test, y_pred)\n",
    "recall = recall_score(y_test, y_pred)\n",
    "pre = precision_score(y_test, y_pred)\n",
    "f1 = f1_score(y_test, y_pred)\n",
    "\n",
    "print(\"acc(정확도) : \", acc)\n",
    "print(\"recall(재현율) : \", recall)\n",
    "print(\"precision(정밀도) : \", pre)\n",
    "print(\"f1 score: \", f1)"
   ]
  },
  {
   "cell_type": "markdown",
   "id": "9d6045da-6122-4935-a51b-c13edf37f995",
   "metadata": {},
   "source": [
    "### 평가지표 선택하기\n",
    "* accuracy : label값이 편향되어 있지 않은 경우\n",
    "* f1_score : label값이 편향되어 있는 경우"
   ]
  }
 ],
 "metadata": {
  "kernelspec": {
   "display_name": "Python 3 (ipykernel)",
   "language": "python",
   "name": "python3"
  },
  "language_info": {
   "codemirror_mode": {
    "name": "ipython",
    "version": 3
   },
   "file_extension": ".py",
   "mimetype": "text/x-python",
   "name": "python",
   "nbconvert_exporter": "python",
   "pygments_lexer": "ipython3",
   "version": "3.11.7"
  }
 },
 "nbformat": 4,
 "nbformat_minor": 5
}
