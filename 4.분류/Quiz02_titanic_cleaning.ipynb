{
 "cells": [
  {
   "cell_type": "markdown",
   "id": "67d18c93-d2e5-49f3-a4a2-d104f402470a",
   "metadata": {},
   "source": [
    "# 1. titanic 예측\n",
    "* titanic_cleaning.csv 파일을 불러와서 진행하시오.\n",
    "* PassengerId는 순차적인 번호이므로 제외하고 진행하시오\n",
    "* train, test 80:20 으로 진행하시오\n",
    "* 여러가지 모델을 생성 후 최적의 모델을 이용하시오\n",
    "* 최적의 모델을 찾고 자신이 탑승했을 경우 인적사항을 넣고 결과를 예측하시오\n",
    "* 컬럼\n",
    "    - PassengerId : 고객 번호\n",
    "    - Survived : 0이면 사망, 1이면 생존\n",
    "    - Pclass : 티켓 등급으로 1, 2, 3\n",
    "    - Sex : 성별, 0이면 남성, 1이면 여성\n",
    "    - Age : 나이\n",
    "    - SibSp : 형제, 자매, 배우자의 합\n",
    "    - Parch : 부모, 자식의 합\n",
    "    - Fare : 요금"
   ]
  },
  {
   "cell_type": "code",
   "execution_count": 1,
   "id": "63667e5e-4cc8-4ac5-9d69-c29092eadfaa",
   "metadata": {},
   "outputs": [
    {
     "data": {
      "text/html": [
       "<div>\n",
       "<style scoped>\n",
       "    .dataframe tbody tr th:only-of-type {\n",
       "        vertical-align: middle;\n",
       "    }\n",
       "\n",
       "    .dataframe tbody tr th {\n",
       "        vertical-align: top;\n",
       "    }\n",
       "\n",
       "    .dataframe thead th {\n",
       "        text-align: right;\n",
       "    }\n",
       "</style>\n",
       "<table border=\"1\" class=\"dataframe\">\n",
       "  <thead>\n",
       "    <tr style=\"text-align: right;\">\n",
       "      <th></th>\n",
       "      <th>PassengerId</th>\n",
       "      <th>Survived</th>\n",
       "      <th>Pclass</th>\n",
       "      <th>Sex</th>\n",
       "      <th>Age</th>\n",
       "      <th>SibSp</th>\n",
       "      <th>Parch</th>\n",
       "      <th>Fare</th>\n",
       "    </tr>\n",
       "  </thead>\n",
       "  <tbody>\n",
       "    <tr>\n",
       "      <th>0</th>\n",
       "      <td>1</td>\n",
       "      <td>0</td>\n",
       "      <td>3</td>\n",
       "      <td>0</td>\n",
       "      <td>22.0</td>\n",
       "      <td>1</td>\n",
       "      <td>0</td>\n",
       "      <td>7.2500</td>\n",
       "    </tr>\n",
       "    <tr>\n",
       "      <th>1</th>\n",
       "      <td>2</td>\n",
       "      <td>1</td>\n",
       "      <td>1</td>\n",
       "      <td>1</td>\n",
       "      <td>38.0</td>\n",
       "      <td>1</td>\n",
       "      <td>0</td>\n",
       "      <td>71.2833</td>\n",
       "    </tr>\n",
       "    <tr>\n",
       "      <th>2</th>\n",
       "      <td>3</td>\n",
       "      <td>1</td>\n",
       "      <td>3</td>\n",
       "      <td>1</td>\n",
       "      <td>26.0</td>\n",
       "      <td>0</td>\n",
       "      <td>0</td>\n",
       "      <td>7.9250</td>\n",
       "    </tr>\n",
       "    <tr>\n",
       "      <th>3</th>\n",
       "      <td>4</td>\n",
       "      <td>1</td>\n",
       "      <td>1</td>\n",
       "      <td>1</td>\n",
       "      <td>35.0</td>\n",
       "      <td>1</td>\n",
       "      <td>0</td>\n",
       "      <td>53.1000</td>\n",
       "    </tr>\n",
       "    <tr>\n",
       "      <th>4</th>\n",
       "      <td>5</td>\n",
       "      <td>0</td>\n",
       "      <td>3</td>\n",
       "      <td>0</td>\n",
       "      <td>35.0</td>\n",
       "      <td>0</td>\n",
       "      <td>0</td>\n",
       "      <td>8.0500</td>\n",
       "    </tr>\n",
       "  </tbody>\n",
       "</table>\n",
       "</div>"
      ],
      "text/plain": [
       "   PassengerId  Survived  Pclass  Sex   Age  SibSp  Parch     Fare\n",
       "0            1         0       3    0  22.0      1      0   7.2500\n",
       "1            2         1       1    1  38.0      1      0  71.2833\n",
       "2            3         1       3    1  26.0      0      0   7.9250\n",
       "3            4         1       1    1  35.0      1      0  53.1000\n",
       "4            5         0       3    0  35.0      0      0   8.0500"
      ]
     },
     "execution_count": 1,
     "metadata": {},
     "output_type": "execute_result"
    }
   ],
   "source": [
    "import pandas as pd\n",
    "df = pd.read_csv('../data_set/4.분류/titanic_cleaning.csv')\n",
    "df.head()"
   ]
  },
  {
   "cell_type": "markdown",
   "id": "9d31bf31-0b9f-40ca-808f-55ccd2a7dcdf",
   "metadata": {},
   "source": [
    "# 2. feature, label 분리 "
   ]
  },
  {
   "cell_type": "code",
   "execution_count": 2,
   "id": "a1c39190-9f9f-4bd3-a590-460d1dcb8ddc",
   "metadata": {},
   "outputs": [
    {
     "data": {
      "text/plain": [
       "Index(['PassengerId', 'Survived', 'Pclass', 'Sex', 'Age', 'SibSp', 'Parch',\n",
       "       'Fare'],\n",
       "      dtype='object')"
      ]
     },
     "execution_count": 2,
     "metadata": {},
     "output_type": "execute_result"
    }
   ],
   "source": [
    "df.columns"
   ]
  },
  {
   "cell_type": "code",
   "execution_count": 3,
   "id": "f525afa6-2eba-44a3-9700-955f2535cb62",
   "metadata": {},
   "outputs": [],
   "source": [
    "features = ['Pclass', 'Sex', 'Age', 'SibSp', 'Parch', 'Fare']\n",
    "label = 'Survived'\n",
    "X = df[features]\n",
    "y = df[label]"
   ]
  },
  {
   "cell_type": "code",
   "execution_count": null,
   "id": "d6ed3070-5ef8-4c38-a5ba-259fdb0de05d",
   "metadata": {},
   "outputs": [],
   "source": [
    "# 훈련, 테스트 셋 분리 "
   ]
  },
  {
   "cell_type": "code",
   "execution_count": 4,
   "id": "6199ad26-a190-403c-9d62-1ece32717be6",
   "metadata": {},
   "outputs": [
    {
     "name": "stdout",
     "output_type": "stream",
     "text": [
      "총 개수 :  (891, 6) (891,)\n",
      "train 개수 :  (712, 6) (712,)\n",
      "test 개수 :  (179, 6) (179,)\n"
     ]
    }
   ],
   "source": [
    "from sklearn.model_selection import train_test_split\n",
    "X_train, X_test, y_train, y_test = train_test_split(df[features], df[label], test_size=0.2)\n",
    "print(\"총 개수 : \", X.shape, y.shape)\n",
    "print(\"train 개수 : \", X_train.shape, y_train.shape)\n",
    "print(\"test 개수 : \", X_test.shape, y_test.shape)"
   ]
  },
  {
   "cell_type": "code",
   "execution_count": 5,
   "id": "8b8ecb81-28a6-457a-85fc-f292c406cedf",
   "metadata": {},
   "outputs": [
    {
     "data": {
      "text/plain": [
       "0.659217877094972"
      ]
     },
     "execution_count": 5,
     "metadata": {},
     "output_type": "execute_result"
    }
   ],
   "source": [
    "from sklearn.neighbors import KNeighborsClassifier\n",
    "kn = KNeighborsClassifier()\n",
    "kn.fit(X_train, y_train)\n",
    "kn.score(X_test, y_test)"
   ]
  },
  {
   "cell_type": "code",
   "execution_count": 6,
   "id": "b3473bed-9ac3-4189-b59a-466b8aeb9e15",
   "metadata": {},
   "outputs": [
    {
     "data": {
      "text/plain": [
       "0.7988826815642458"
      ]
     },
     "execution_count": 6,
     "metadata": {},
     "output_type": "execute_result"
    }
   ],
   "source": [
    "import sklearn.svm as svm\n",
    "svm_linear = svm.SVC(kernel=\"linear\")\n",
    "svm_linear.fit(X_train, y_train)\n",
    "svm_linear.score(X_test, y_test)"
   ]
  },
  {
   "cell_type": "code",
   "execution_count": 7,
   "id": "cd6a33a8-6820-4562-bda2-3e3e5a4c6611",
   "metadata": {},
   "outputs": [
    {
     "data": {
      "text/plain": [
       "0.6312849162011173"
      ]
     },
     "execution_count": 7,
     "metadata": {},
     "output_type": "execute_result"
    }
   ],
   "source": [
    "svm_rbf = svm.SVC(kernel=\"rbf\")\n",
    "svm_rbf.fit(X_train, y_train)\n",
    "svm_rbf.score(X_test, y_test)"
   ]
  },
  {
   "cell_type": "code",
   "execution_count": 8,
   "id": "0fdf9667-c464-4c84-a939-df5db8241437",
   "metadata": {},
   "outputs": [
    {
     "data": {
      "text/plain": [
       "0.7486033519553073"
      ]
     },
     "execution_count": 8,
     "metadata": {},
     "output_type": "execute_result"
    }
   ],
   "source": [
    "from sklearn.tree import DecisionTreeClassifier\n",
    "dt_clf = DecisionTreeClassifier()\n",
    "dt_clf.fit(X_train, y_train)\n",
    "dt_clf.score(X_test, y_test)"
   ]
  },
  {
   "cell_type": "code",
   "execution_count": 9,
   "id": "797d7bf9-74e5-4e7a-ab72-707855a79617",
   "metadata": {},
   "outputs": [
    {
     "data": {
      "text/html": [
       "<style>#sk-container-id-1 {color: black;background-color: white;}#sk-container-id-1 pre{padding: 0;}#sk-container-id-1 div.sk-toggleable {background-color: white;}#sk-container-id-1 label.sk-toggleable__label {cursor: pointer;display: block;width: 100%;margin-bottom: 0;padding: 0.3em;box-sizing: border-box;text-align: center;}#sk-container-id-1 label.sk-toggleable__label-arrow:before {content: \"▸\";float: left;margin-right: 0.25em;color: #696969;}#sk-container-id-1 label.sk-toggleable__label-arrow:hover:before {color: black;}#sk-container-id-1 div.sk-estimator:hover label.sk-toggleable__label-arrow:before {color: black;}#sk-container-id-1 div.sk-toggleable__content {max-height: 0;max-width: 0;overflow: hidden;text-align: left;background-color: #f0f8ff;}#sk-container-id-1 div.sk-toggleable__content pre {margin: 0.2em;color: black;border-radius: 0.25em;background-color: #f0f8ff;}#sk-container-id-1 input.sk-toggleable__control:checked~div.sk-toggleable__content {max-height: 200px;max-width: 100%;overflow: auto;}#sk-container-id-1 input.sk-toggleable__control:checked~label.sk-toggleable__label-arrow:before {content: \"▾\";}#sk-container-id-1 div.sk-estimator input.sk-toggleable__control:checked~label.sk-toggleable__label {background-color: #d4ebff;}#sk-container-id-1 div.sk-label input.sk-toggleable__control:checked~label.sk-toggleable__label {background-color: #d4ebff;}#sk-container-id-1 input.sk-hidden--visually {border: 0;clip: rect(1px 1px 1px 1px);clip: rect(1px, 1px, 1px, 1px);height: 1px;margin: -1px;overflow: hidden;padding: 0;position: absolute;width: 1px;}#sk-container-id-1 div.sk-estimator {font-family: monospace;background-color: #f0f8ff;border: 1px dotted black;border-radius: 0.25em;box-sizing: border-box;margin-bottom: 0.5em;}#sk-container-id-1 div.sk-estimator:hover {background-color: #d4ebff;}#sk-container-id-1 div.sk-parallel-item::after {content: \"\";width: 100%;border-bottom: 1px solid gray;flex-grow: 1;}#sk-container-id-1 div.sk-label:hover label.sk-toggleable__label {background-color: #d4ebff;}#sk-container-id-1 div.sk-serial::before {content: \"\";position: absolute;border-left: 1px solid gray;box-sizing: border-box;top: 0;bottom: 0;left: 50%;z-index: 0;}#sk-container-id-1 div.sk-serial {display: flex;flex-direction: column;align-items: center;background-color: white;padding-right: 0.2em;padding-left: 0.2em;position: relative;}#sk-container-id-1 div.sk-item {position: relative;z-index: 1;}#sk-container-id-1 div.sk-parallel {display: flex;align-items: stretch;justify-content: center;background-color: white;position: relative;}#sk-container-id-1 div.sk-item::before, #sk-container-id-1 div.sk-parallel-item::before {content: \"\";position: absolute;border-left: 1px solid gray;box-sizing: border-box;top: 0;bottom: 0;left: 50%;z-index: -1;}#sk-container-id-1 div.sk-parallel-item {display: flex;flex-direction: column;z-index: 1;position: relative;background-color: white;}#sk-container-id-1 div.sk-parallel-item:first-child::after {align-self: flex-end;width: 50%;}#sk-container-id-1 div.sk-parallel-item:last-child::after {align-self: flex-start;width: 50%;}#sk-container-id-1 div.sk-parallel-item:only-child::after {width: 0;}#sk-container-id-1 div.sk-dashed-wrapped {border: 1px dashed gray;margin: 0 0.4em 0.5em 0.4em;box-sizing: border-box;padding-bottom: 0.4em;background-color: white;}#sk-container-id-1 div.sk-label label {font-family: monospace;font-weight: bold;display: inline-block;line-height: 1.2em;}#sk-container-id-1 div.sk-label-container {text-align: center;}#sk-container-id-1 div.sk-container {/* jupyter's `normalize.less` sets `[hidden] { display: none; }` but bootstrap.min.css set `[hidden] { display: none !important; }` so we also need the `!important` here to be able to override the default hidden behavior on the sphinx rendered scikit-learn.org. See: https://github.com/scikit-learn/scikit-learn/issues/21755 */display: inline-block !important;position: relative;}#sk-container-id-1 div.sk-text-repr-fallback {display: none;}</style><div id=\"sk-container-id-1\" class=\"sk-top-container\"><div class=\"sk-text-repr-fallback\"><pre>DecisionTreeClassifier()</pre><b>In a Jupyter environment, please rerun this cell to show the HTML representation or trust the notebook. <br />On GitHub, the HTML representation is unable to render, please try loading this page with nbviewer.org.</b></div><div class=\"sk-container\" hidden><div class=\"sk-item\"><div class=\"sk-estimator sk-toggleable\"><input class=\"sk-toggleable__control sk-hidden--visually\" id=\"sk-estimator-id-1\" type=\"checkbox\" checked><label for=\"sk-estimator-id-1\" class=\"sk-toggleable__label sk-toggleable__label-arrow\">DecisionTreeClassifier</label><div class=\"sk-toggleable__content\"><pre>DecisionTreeClassifier()</pre></div></div></div></div></div>"
      ],
      "text/plain": [
       "DecisionTreeClassifier()"
      ]
     },
     "execution_count": 9,
     "metadata": {},
     "output_type": "execute_result"
    }
   ],
   "source": [
    "svm_rbf = svm.SVC(kernel=\"rbf\", probability=True)\n",
    "svm_rbf.fit(X_train, y_train)\n",
    "\n",
    "kn = KNeighborsClassifier()\n",
    "kn.fit(X_train, y_train)\n",
    "\n",
    "dt_clf = DecisionTreeClassifier()\n",
    "dt_clf.fit(X_train, y_train)"
   ]
  },
  {
   "cell_type": "code",
   "execution_count": 10,
   "id": "b48ed24e-6846-412e-b2cb-bc8f24ea1d61",
   "metadata": {},
   "outputs": [
    {
     "name": "stdout",
     "output_type": "stream",
     "text": [
      "svm_rbf :  0.6312849162011173\n",
      "kn :  0.659217877094972\n",
      "dt_clf :  0.7597765363128491\n",
      "vo :  0.7374301675977654\n"
     ]
    }
   ],
   "source": [
    "from sklearn.ensemble import VotingClassifier\n",
    "vo = VotingClassifier(estimators=[ ('svc', svm_rbf), ('knn', kn), ('DecisionTree', dt_clf)] , voting='soft')\n",
    "vo.fit(X_train, y_train)\n",
    "\n",
    "print(\"svm_rbf : \", svm_rbf.score(X_test, y_test))\n",
    "print(\"kn : \", kn.score(X_test, y_test))\n",
    "print(\"dt_clf : \", dt_clf.score(X_test, y_test))\n",
    "print(\"vo : \", vo.score(X_test, y_test))"
   ]
  },
  {
   "cell_type": "code",
   "execution_count": 11,
   "id": "7d4b571e-82af-4550-888f-f6e385f00465",
   "metadata": {},
   "outputs": [
    {
     "data": {
      "text/plain": [
       "0.770949720670391"
      ]
     },
     "execution_count": 11,
     "metadata": {},
     "output_type": "execute_result"
    }
   ],
   "source": [
    "from sklearn.ensemble import RandomForestClassifier\n",
    "rfc = RandomForestClassifier()\n",
    "rfc.fit(X_train, y_train)\n",
    "rfc.score(X_test, y_test)"
   ]
  },
  {
   "cell_type": "code",
   "execution_count": 12,
   "id": "c70846f2-6d58-443e-a0ef-1895cac73895",
   "metadata": {},
   "outputs": [
    {
     "data": {
      "text/plain": [
       "0.7932960893854749"
      ]
     },
     "execution_count": 12,
     "metadata": {},
     "output_type": "execute_result"
    }
   ],
   "source": [
    "from sklearn.ensemble import GradientBoostingClassifier\n",
    "gbc = GradientBoostingClassifier()\n",
    "gbc.fit(X_train, y_train)\n",
    "gbc.score(X_test, y_test)"
   ]
  },
  {
   "cell_type": "markdown",
   "id": "6edcd5f0-2986-46ae-b0a3-4213af1a5590",
   "metadata": {},
   "source": [
    "# 3. 생존, 죽음 여부 확인"
   ]
  },
  {
   "cell_type": "code",
   "execution_count": 14,
   "id": "c13e12f9-5e03-45a7-8721-9e79af3d8266",
   "metadata": {},
   "outputs": [],
   "source": [
    "import warnings\n",
    "warnings.filterwarnings(\"ignore\")"
   ]
  },
  {
   "cell_type": "code",
   "execution_count": 15,
   "id": "64e46365-093c-4c9a-bf70-b16973afc03c",
   "metadata": {},
   "outputs": [
    {
     "data": {
      "text/plain": [
       "array([0], dtype=int64)"
      ]
     },
     "execution_count": 15,
     "metadata": {},
     "output_type": "execute_result"
    }
   ],
   "source": [
    "# ['Pclass', 'Sex', 'Age', 'SibSp', 'Parch', 'Fare']\n",
    "test = [[1, 0, 35, 1, 1, 10]]\n",
    "result = rfc.predict(test)\n",
    "result"
   ]
  },
  {
   "cell_type": "code",
   "execution_count": 16,
   "id": "415d7547-bc54-4da7-a117-46c5979d2df8",
   "metadata": {},
   "outputs": [
    {
     "name": "stdout",
     "output_type": "stream",
     "text": [
      "T^T\n"
     ]
    }
   ],
   "source": [
    "if (result[0] == 1):\n",
    "    print(\"생존\")\n",
    "else :\n",
    "    print(\"T^T\")"
   ]
  },
  {
   "cell_type": "markdown",
   "id": "64481ba8-af5e-43a2-b967-b05e4198ddbc",
   "metadata": {},
   "source": [
    "# 4. 평가 지표로 확인하기"
   ]
  },
  {
   "cell_type": "code",
   "execution_count": 17,
   "id": "3a08e02a-6a50-4a8b-8ba1-65df5c266377",
   "metadata": {},
   "outputs": [],
   "source": [
    "pred = rfc.predict(X_test)"
   ]
  },
  {
   "cell_type": "code",
   "execution_count": null,
   "id": "391e2020-80f7-4dd5-9ed7-582fc6e982bc",
   "metadata": {},
   "outputs": [],
   "source": [
    "# 예측 정확도 평가 (Accuracy를 통한 성능평가)"
   ]
  },
  {
   "cell_type": "code",
   "execution_count": 18,
   "id": "f89d7847-d79b-498f-bb21-41ce77aeaa8a",
   "metadata": {},
   "outputs": [
    {
     "name": "stdout",
     "output_type": "stream",
     "text": [
      "정확도 :  0.770949720670391\n",
      "정밀도 :  0.7931034482758621\n",
      "재현율 :  0.6133333333333333\n",
      "f1 score :  0.6917293233082706\n"
     ]
    }
   ],
   "source": [
    "from sklearn.metrics import accuracy_score, precision_score, recall_score, f1_score\n",
    "accuracy = accuracy_score(y_test, pred)   # 정확도\n",
    "precision = precision_score(y_test, pred) # 정밀도\n",
    "recall = recall_score(y_test, pred)       # 재현율\n",
    "f1 = f1_score(y_test, pred)               # f1 score\n",
    "\n",
    "print(\"정확도 : \", accuracy)\n",
    "print(\"정밀도 : \", precision)\n",
    "print(\"재현율 : \", recall)\n",
    "print(\"f1 score : \", f1)"
   ]
  },
  {
   "cell_type": "markdown",
   "id": "ee83e919-9ae5-41c6-b6c0-56e1caeb7ca9",
   "metadata": {},
   "source": [
    "# 5. 결론\n",
    "* 정확도 :  맞춘 확률이라고 보면 된다.\n",
    "* 재현율(recall)\n",
    "    - 실제로 1(생존)에 대해 예측 1(생존)일 경우에 영향을 미친다.\n",
    "    - 실제 0(사망)에 대해 예측 1(생존)을 잘못 맞춘 경우에는 영향을 미치지 않는다.\n",
    "    - 그럼 지금과 같은 상황에서 실제 사망한 사람을 살았다고 예측한거에 대해 영향이 없으면 문제가 생길 수 있을 것 같다.\n",
    "* 정밀도(precision)\n",
    "    - 예측 1(생존)에 대해 실제 1(생존)일 경우에 영향을 미친다.\n",
    "    - 실제 1(생존)을 예측 0(사망)으로 예측한 경우에는 척도에 영향을 미치지 않는다.\n",
    "    - 그럼 지금과 같은 상황에서 실제 1(생존)이라는 값을 0(사망)으로 잘못 예측하게 된다면, 재현율보다는 정밀도의 척도가 옳을 것이다.\n",
    "    - 사망했다고 판단하였으나 살아서 돌아온다면 뭐라고 할 사람은 아무도 없을 것이다.\n",
    "    - 하지만 반대로 생존했다고 판단했지만 실제로는 사망했다고 한다면, 이전의 판단보다는 파급 효과가 클 것으로 보인다. "
   ]
  }
 ],
 "metadata": {
  "kernelspec": {
   "display_name": "Python 3 (ipykernel)",
   "language": "python",
   "name": "python3"
  },
  "language_info": {
   "codemirror_mode": {
    "name": "ipython",
    "version": 3
   },
   "file_extension": ".py",
   "mimetype": "text/x-python",
   "name": "python",
   "nbconvert_exporter": "python",
   "pygments_lexer": "ipython3",
   "version": "3.11.7"
  }
 },
 "nbformat": 4,
 "nbformat_minor": 5
}
