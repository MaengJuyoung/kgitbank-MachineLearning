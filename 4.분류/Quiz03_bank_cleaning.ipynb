{
 "cells": [
  {
   "cell_type": "markdown",
   "id": "90121cec-1a18-4197-8989-e1709ac8e1ef",
   "metadata": {},
   "source": [
    "# 1. 은행 마케팅\n",
    "* 은행의 데이터를 모델링하여 고객의 정기예금 가입 여부를 예측하고자 한다.\n",
    "* train, test셋 7:3\n",
    "* 성능이 제일 좋은 모델을 찾으시오\n",
    "* 요약\n",
    "    - 데이터는 포르투칼 은행 기관의 직접 마케팅 전화통화와 관련이 있다.\n",
    "    - 분류 목표 : 고객이 정기예금에 가입할 지 여부를 예측하는 것\n",
    "* 컬럼\n",
    "    - age : 나이(숫자)\n",
    "    - duration : 지속시간. 마지막 접촉 지속 시간(초)(시간) !중요!\n",
    "        * 참고사항 : 이 속성은 통화 대상에 큰 영향을 미칩니다. (duration=0 이면 y=0 => 가입하지 않음)\n",
    "    - campaign(마케팅 전화통화) : 이 캠페인 동안 클라이언트에 대해 가입(컨택)제의를 받은 수(숫자, 마지막 컨택 포함)\n",
    "    - Pdays : 이전 통화에서 클라이언트가 마지막으로 연락된 후 경과한 일 수(숫자, 999는 클라이언트가 이전에 연락되지 않았음을 의미함)\n",
    "    - previous : 현재 통화 이전에 이 클라이언트에 대해 수행된 가입(컨택)제의를 받은 수(숫자)\n",
    "    - y : 고객이 정기 예금에 가입했습니까? (예:1, 아니오:0)"
   ]
  },
  {
   "cell_type": "markdown",
   "id": "7216f64b-7f48-43a0-a12c-b18e2ddba12c",
   "metadata": {},
   "source": [
    "# 2. 데이터셋 로드"
   ]
  },
  {
   "cell_type": "code",
   "execution_count": 5,
   "id": "7ae6ccc2-4b78-4bd4-960d-58216e08beb9",
   "metadata": {},
   "outputs": [
    {
     "data": {
      "text/html": [
       "<div>\n",
       "<style scoped>\n",
       "    .dataframe tbody tr th:only-of-type {\n",
       "        vertical-align: middle;\n",
       "    }\n",
       "\n",
       "    .dataframe tbody tr th {\n",
       "        vertical-align: top;\n",
       "    }\n",
       "\n",
       "    .dataframe thead th {\n",
       "        text-align: right;\n",
       "    }\n",
       "</style>\n",
       "<table border=\"1\" class=\"dataframe\">\n",
       "  <thead>\n",
       "    <tr style=\"text-align: right;\">\n",
       "      <th></th>\n",
       "      <th>age</th>\n",
       "      <th>duration</th>\n",
       "      <th>campaign</th>\n",
       "      <th>pdays</th>\n",
       "      <th>previous</th>\n",
       "      <th>y</th>\n",
       "    </tr>\n",
       "  </thead>\n",
       "  <tbody>\n",
       "    <tr>\n",
       "      <th>0</th>\n",
       "      <td>58</td>\n",
       "      <td>261</td>\n",
       "      <td>1</td>\n",
       "      <td>-1</td>\n",
       "      <td>0</td>\n",
       "      <td>0</td>\n",
       "    </tr>\n",
       "    <tr>\n",
       "      <th>1</th>\n",
       "      <td>44</td>\n",
       "      <td>151</td>\n",
       "      <td>1</td>\n",
       "      <td>-1</td>\n",
       "      <td>0</td>\n",
       "      <td>0</td>\n",
       "    </tr>\n",
       "    <tr>\n",
       "      <th>2</th>\n",
       "      <td>33</td>\n",
       "      <td>76</td>\n",
       "      <td>1</td>\n",
       "      <td>-1</td>\n",
       "      <td>0</td>\n",
       "      <td>0</td>\n",
       "    </tr>\n",
       "    <tr>\n",
       "      <th>3</th>\n",
       "      <td>47</td>\n",
       "      <td>92</td>\n",
       "      <td>1</td>\n",
       "      <td>-1</td>\n",
       "      <td>0</td>\n",
       "      <td>0</td>\n",
       "    </tr>\n",
       "    <tr>\n",
       "      <th>4</th>\n",
       "      <td>33</td>\n",
       "      <td>198</td>\n",
       "      <td>1</td>\n",
       "      <td>-1</td>\n",
       "      <td>0</td>\n",
       "      <td>0</td>\n",
       "    </tr>\n",
       "  </tbody>\n",
       "</table>\n",
       "</div>"
      ],
      "text/plain": [
       "   age  duration  campaign  pdays  previous  y\n",
       "0   58       261         1     -1         0  0\n",
       "1   44       151         1     -1         0  0\n",
       "2   33        76         1     -1         0  0\n",
       "3   47        92         1     -1         0  0\n",
       "4   33       198         1     -1         0  0"
      ]
     },
     "execution_count": 5,
     "metadata": {},
     "output_type": "execute_result"
    }
   ],
   "source": [
    "import pandas as pd\n",
    "df = pd.read_csv('../data_set/4.분류/bank_train_clean.csv')\n",
    "df.head()"
   ]
  },
  {
   "cell_type": "code",
   "execution_count": null,
   "id": "ae26db8f-383b-448d-8953-86f1a86a5651",
   "metadata": {},
   "outputs": [],
   "source": []
  },
  {
   "cell_type": "code",
   "execution_count": null,
   "id": "06b3caf4-2329-4186-8db8-842ba855d46d",
   "metadata": {},
   "outputs": [],
   "source": []
  },
  {
   "cell_type": "code",
   "execution_count": null,
   "id": "3a37886d-8643-4a4a-9450-2f8ff1af7caf",
   "metadata": {},
   "outputs": [],
   "source": []
  },
  {
   "cell_type": "code",
   "execution_count": null,
   "id": "3841b13d-07bb-4c66-9a84-614a18c54ad0",
   "metadata": {},
   "outputs": [],
   "source": []
  },
  {
   "cell_type": "code",
   "execution_count": null,
   "id": "9d73f4b8-5c27-4c1e-887a-bfe55430e9c1",
   "metadata": {},
   "outputs": [],
   "source": []
  },
  {
   "cell_type": "code",
   "execution_count": null,
   "id": "79d95668-d3b7-4f71-a6fa-5ad4d99490c8",
   "metadata": {},
   "outputs": [],
   "source": []
  },
  {
   "cell_type": "code",
   "execution_count": null,
   "id": "db636689-54be-4cd5-aeb5-9e48d0507d15",
   "metadata": {},
   "outputs": [],
   "source": []
  },
  {
   "cell_type": "code",
   "execution_count": null,
   "id": "f898b07d-3073-44c3-a43d-1d1da5a88829",
   "metadata": {},
   "outputs": [],
   "source": []
  },
  {
   "cell_type": "code",
   "execution_count": null,
   "id": "5eb7ed66-9429-43ba-b707-ebae7e8a4aac",
   "metadata": {},
   "outputs": [],
   "source": []
  },
  {
   "cell_type": "code",
   "execution_count": null,
   "id": "c1498c48-79bb-40ad-8a86-1ea42389cd71",
   "metadata": {},
   "outputs": [],
   "source": []
  },
  {
   "cell_type": "code",
   "execution_count": null,
   "id": "60e41f3b-d5d9-4c46-af94-74da035690dc",
   "metadata": {},
   "outputs": [],
   "source": []
  },
  {
   "cell_type": "code",
   "execution_count": null,
   "id": "aca6d0bd-f264-4de6-96fd-e1697fd9ef70",
   "metadata": {},
   "outputs": [],
   "source": []
  },
  {
   "cell_type": "code",
   "execution_count": null,
   "id": "90854c2b-a97c-49d9-8f9c-46bba77b637f",
   "metadata": {},
   "outputs": [],
   "source": []
  }
 ],
 "metadata": {
  "kernelspec": {
   "display_name": "Python 3 (ipykernel)",
   "language": "python",
   "name": "python3"
  },
  "language_info": {
   "codemirror_mode": {
    "name": "ipython",
    "version": 3
   },
   "file_extension": ".py",
   "mimetype": "text/x-python",
   "name": "python",
   "nbconvert_exporter": "python",
   "pygments_lexer": "ipython3",
   "version": "3.11.7"
  }
 },
 "nbformat": 4,
 "nbformat_minor": 5
}
