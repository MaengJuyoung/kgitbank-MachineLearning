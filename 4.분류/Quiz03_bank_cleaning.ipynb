{
 "cells": [
  {
   "cell_type": "markdown",
   "id": "90121cec-1a18-4197-8989-e1709ac8e1ef",
   "metadata": {},
   "source": [
    "# 1. 은행 마케팅\n",
    "* 은행의 데이터를 모델링하여 고객의 정기예금 가입 여부를 예측하고자 한다.\n",
    "* train, test셋 7:3\n",
    "* 성능이 제일 좋은 모델을 찾으시오\n",
    "* 요약\n",
    "    - 데이터는 포르투칼 은행 기관의 직접 마케팅 전화통화와 관련이 있다.\n",
    "    - 분류 목표 : 고객이 정기예금에 가입할 지 여부를 예측하는 것\n",
    "* 컬럼\n",
    "    - age : 나이(숫자)\n",
    "    - duration : 지속시간. 마지막 접촉 지속 시간(초)(시간) !중요!\n",
    "        * 참고사항 : 이 속성은 통화 대상에 큰 영향을 미칩니다. (duration=0 이면 y=0 => 가입하지 않음)\n",
    "    - campaign(마케팅 전화통화) : 이 캠페인 동안 클라이언트에 대해 가입(컨택)제의를 받은 수(숫자, 마지막 컨택 포함)\n",
    "    - Pdays : 이전 통화에서 클라이언트가 마지막으로 연락된 후 경과한 일 수(숫자, 999는 클라이언트가 이전에 연락되지 않았음을 의미함)\n",
    "    - previous : 현재 통화 이전에 이 클라이언트에 대해 수행된 가입(컨택)제의를 받은 수(숫자)\n",
    "    - y : 고객이 정기 예금에 가입했습니까? (예:1, 아니오:0)"
   ]
  },
  {
   "cell_type": "markdown",
   "id": "7216f64b-7f48-43a0-a12c-b18e2ddba12c",
   "metadata": {},
   "source": [
    "# 2. 데이터셋 로드"
   ]
  },
  {
   "cell_type": "code",
   "execution_count": 1,
   "id": "7ae6ccc2-4b78-4bd4-960d-58216e08beb9",
   "metadata": {},
   "outputs": [
    {
     "data": {
      "text/html": [
       "<div>\n",
       "<style scoped>\n",
       "    .dataframe tbody tr th:only-of-type {\n",
       "        vertical-align: middle;\n",
       "    }\n",
       "\n",
       "    .dataframe tbody tr th {\n",
       "        vertical-align: top;\n",
       "    }\n",
       "\n",
       "    .dataframe thead th {\n",
       "        text-align: right;\n",
       "    }\n",
       "</style>\n",
       "<table border=\"1\" class=\"dataframe\">\n",
       "  <thead>\n",
       "    <tr style=\"text-align: right;\">\n",
       "      <th></th>\n",
       "      <th>age</th>\n",
       "      <th>duration</th>\n",
       "      <th>campaign</th>\n",
       "      <th>pdays</th>\n",
       "      <th>previous</th>\n",
       "      <th>y</th>\n",
       "    </tr>\n",
       "  </thead>\n",
       "  <tbody>\n",
       "    <tr>\n",
       "      <th>0</th>\n",
       "      <td>58</td>\n",
       "      <td>261</td>\n",
       "      <td>1</td>\n",
       "      <td>-1</td>\n",
       "      <td>0</td>\n",
       "      <td>0</td>\n",
       "    </tr>\n",
       "    <tr>\n",
       "      <th>1</th>\n",
       "      <td>44</td>\n",
       "      <td>151</td>\n",
       "      <td>1</td>\n",
       "      <td>-1</td>\n",
       "      <td>0</td>\n",
       "      <td>0</td>\n",
       "    </tr>\n",
       "    <tr>\n",
       "      <th>2</th>\n",
       "      <td>33</td>\n",
       "      <td>76</td>\n",
       "      <td>1</td>\n",
       "      <td>-1</td>\n",
       "      <td>0</td>\n",
       "      <td>0</td>\n",
       "    </tr>\n",
       "    <tr>\n",
       "      <th>3</th>\n",
       "      <td>47</td>\n",
       "      <td>92</td>\n",
       "      <td>1</td>\n",
       "      <td>-1</td>\n",
       "      <td>0</td>\n",
       "      <td>0</td>\n",
       "    </tr>\n",
       "    <tr>\n",
       "      <th>4</th>\n",
       "      <td>33</td>\n",
       "      <td>198</td>\n",
       "      <td>1</td>\n",
       "      <td>-1</td>\n",
       "      <td>0</td>\n",
       "      <td>0</td>\n",
       "    </tr>\n",
       "  </tbody>\n",
       "</table>\n",
       "</div>"
      ],
      "text/plain": [
       "   age  duration  campaign  pdays  previous  y\n",
       "0   58       261         1     -1         0  0\n",
       "1   44       151         1     -1         0  0\n",
       "2   33        76         1     -1         0  0\n",
       "3   47        92         1     -1         0  0\n",
       "4   33       198         1     -1         0  0"
      ]
     },
     "execution_count": 1,
     "metadata": {},
     "output_type": "execute_result"
    }
   ],
   "source": [
    "import pandas as pd\n",
    "df = pd.read_csv('../data_set/4.분류/bank_train_clean.csv')\n",
    "df.head()"
   ]
  },
  {
   "cell_type": "markdown",
   "id": "a70a4e2e-c020-4b26-8994-bae8cc629189",
   "metadata": {},
   "source": [
    "# 3. 데이터셋 feature, laber 분리"
   ]
  },
  {
   "cell_type": "code",
   "execution_count": 2,
   "id": "a8a676b1-86a1-4c73-ba5e-21f7cc8d5a71",
   "metadata": {},
   "outputs": [
    {
     "data": {
      "text/plain": [
       "Index(['age', 'duration', 'campaign', 'pdays', 'previous', 'y'], dtype='object')"
      ]
     },
     "execution_count": 2,
     "metadata": {},
     "output_type": "execute_result"
    }
   ],
   "source": [
    "df.columns"
   ]
  },
  {
   "cell_type": "code",
   "execution_count": 3,
   "id": "06b3caf4-2329-4186-8db8-842ba855d46d",
   "metadata": {},
   "outputs": [],
   "source": [
    "features = ['age', 'duration', 'campaign', 'pdays', 'previous']\n",
    "label = 'y'\n",
    "X, y = df[features], df[label]"
   ]
  },
  {
   "cell_type": "markdown",
   "id": "9d055ebc-934a-4319-ab31-e0286b9ec5a8",
   "metadata": {},
   "source": [
    "# 4. train, test 셋 분리"
   ]
  },
  {
   "cell_type": "code",
   "execution_count": 4,
   "id": "3841b13d-07bb-4c66-9a84-614a18c54ad0",
   "metadata": {},
   "outputs": [
    {
     "name": "stdout",
     "output_type": "stream",
     "text": [
      "총 개수 :  (45211, 5) (45211,)\n",
      "train 개수 :  (31647, 5) (31647,)\n",
      "test 개수 :  (13564, 5) (13564,)\n"
     ]
    }
   ],
   "source": [
    "from sklearn.model_selection import train_test_split\n",
    "\n",
    "X_train, X_test, y_train, y_test = train_test_split(X, y, test_size=0.3)\n",
    "print(\"총 개수 : \", X.shape, y.shape)\n",
    "print(\"train 개수 : \", X_train.shape, y_train.shape)\n",
    "print(\"test 개수 : \", X_test.shape, y_test.shape)"
   ]
  },
  {
   "cell_type": "code",
   "execution_count": 5,
   "id": "3f11373a-fa99-4bae-ac23-12fb00275ce7",
   "metadata": {},
   "outputs": [
    {
     "data": {
      "text/plain": [
       "0.8854320259510469"
      ]
     },
     "execution_count": 5,
     "metadata": {},
     "output_type": "execute_result"
    }
   ],
   "source": [
    "from sklearn.neighbors import KNeighborsClassifier\n",
    "kn = KNeighborsClassifier()\n",
    "kn.fit(X_train, y_train)\n",
    "kn.score(X_test, y_test)"
   ]
  },
  {
   "cell_type": "code",
   "execution_count": 6,
   "id": "4128d323-36d6-42dc-8bf8-ffdf5e579256",
   "metadata": {},
   "outputs": [],
   "source": [
    "import sklearn.svm as svm"
   ]
  },
  {
   "cell_type": "code",
   "execution_count": null,
   "id": "5a6cc011-5265-47e3-8a38-ae4d2eac5cef",
   "metadata": {},
   "outputs": [],
   "source": [
    "# 학습 시간이 꽤 걸린다 .. .!\n",
    "svm_linear = svm.SVC(kernel=\"linear\")\n",
    "svm_linear.fit(X_train, y_train)\n",
    "svm_linear.score(X_test, y_test)"
   ]
  },
  {
   "cell_type": "code",
   "execution_count": null,
   "id": "ff8b2968-beff-4643-bb7d-3bd37a25b2d4",
   "metadata": {},
   "outputs": [],
   "source": [
    "# 약 1분정도 소요된다 \n",
    "svm_rbf = svm.SVC(kernel=\"rbf\")\n",
    "svm_rbf.fit(X_train, y_train)\n",
    "svm_rbf.score(X_test, y_test)"
   ]
  },
  {
   "cell_type": "code",
   "execution_count": null,
   "id": "36902e1f-cce9-4973-bf05-761273fd3ce9",
   "metadata": {},
   "outputs": [],
   "source": [
    "from sklearn.tree import DecicionTreeClassifier\n",
    "\n",
    "# 모델 얻어오기\n",
    "df_clf = DecicionTreeClassifier()\n",
    "\n",
    "# 학습을 통한 모델 생성\n",
    "df_clf.fit(X_train, y_train)\n",
    "df_clf.score(X_test, y_test)"
   ]
  },
  {
   "cell_type": "code",
   "execution_count": null,
   "id": "62cba78d-4a69-417e-9f20-fdbafe6ba6f7",
   "metadata": {},
   "outputs": [],
   "source": [
    "svm_rbf = svm.SVC(kernel = 'rbf', probability=True)\n",
    "svm_rbf.fit(X_train, y_train)\n",
    "\n",
    "kn = KNeighborsClassifier()\n",
    "kn.fit(X_train, y_train)\n",
    "\n",
    "dt_clf = DecisionTreeClassifier()\n",
    "dt_clf.fit(X_train, y_train)"
   ]
  },
  {
   "cell_type": "code",
   "execution_count": null,
   "id": "db636689-54be-4cd5-aeb5-9e48d0507d15",
   "metadata": {},
   "outputs": [],
   "source": [
    "from sklearn.ensemble import VotionClassifier\n",
    "\n",
    "vo = VotingClassifier(estimators=[('svc', svm_rbf), ('knn', kn), ('DecisionTree', df_clf)], voting='soft')\n",
    "vo.fit(X_train, y_train)\n",
    "\n",
    "print('svm rbf : ', svm_rbf.score(X_test, y_test))\n",
    "print('kn      : ', kn.score(X_test, y_test))\n",
    "print('dt_clf  : ', dt_clf.score(X_test, y_test))\n",
    "print('vo      : ', vo.score(X_test, y_test))"
   ]
  },
  {
   "cell_type": "code",
   "execution_count": null,
   "id": "f898b07d-3073-44c3-a43d-1d1da5a88829",
   "metadata": {},
   "outputs": [],
   "source": [
    "from sklearn.ensemble import RandomForestClassifier\n",
    "rfc = RandomForestClassifier()\n",
    "rfc.fit(X_train, y_train)\n",
    "rfc.score(X_test, y_test)"
   ]
  },
  {
   "cell_type": "markdown",
   "id": "eb97f59a-ce39-4370-9e44-333208dfa142",
   "metadata": {},
   "source": [
    "# 5. 예측\n",
    "* age : 나이(숫자)\n",
    "* duration : 지속 시간. 마지막 접촉 지속 시간(초)(숫자). !중요!\n",
    "    - 참고 사항 : 이 속성은 통화 대상에 큰 영향을 미칩니다. ex) duraion=0 이면 y=0 => 가입하지 않음\n",
    "* campaign : 마케팅 전화통화. 이 캠페인 동안 클라이언트에 대해 가입(컨택) 제의를 받은 수(숫자, 마지막 컨택 포함)\n",
    "* Pdays : 이전 통화에서 클라이언트가 마지막으로 연락된 후 경과한 일 수(숫자)\n",
    "    - 참고 사항 : 999는 클라이언트가 이전에 연락되지 않았음을 의미함\n",
    "* previous : 현재 통화 이전에 이 클라이언트에 대해 수행된 가입(컨택) 제의를 받은 수(숫자)\n",
    "* y : 고객이 정기 예금에 가입했습니까? (예:1, 아니오:0)"
   ]
  },
  {
   "cell_type": "code",
   "execution_count": null,
   "id": "91c393e9-3e39-4da9-bda2-98a9c912c8d6",
   "metadata": {},
   "outputs": [],
   "source": [
    "df.head(2)"
   ]
  },
  {
   "cell_type": "code",
   "execution_count": null,
   "id": "3df11abe-4848-4eb9-bbac-0fc3193edff7",
   "metadata": {},
   "outputs": [],
   "source": [
    "gbc.predict([[56, 26, 1, 999, 0]])"
   ]
  },
  {
   "cell_type": "code",
   "execution_count": null,
   "id": "db8080c0-675a-4342-9e06-c14698dfa4af",
   "metadata": {},
   "outputs": [],
   "source": [
    "result = gbc.predict([[35, 261, 10, 999, 1]])\n",
    "if result[0] == 0:\n",
    "    print(\"더 많이 노력해야 가입합니다~~~~~\")\n",
    "else :\n",
    "    print(\"살짝만 꼬셔도 가입합니다~\")"
   ]
  },
  {
   "cell_type": "markdown",
   "id": "78e519cc-d50c-40dc-a5c2-93b92c70f4f9",
   "metadata": {},
   "source": [
    "# 6. 평가 지표로 확인하기"
   ]
  },
  {
   "cell_type": "code",
   "execution_count": null,
   "id": "5eb7ed66-9429-43ba-b707-ebae7e8a4aac",
   "metadata": {},
   "outputs": [],
   "source": [
    "pred = gbc.predict(X_test)"
   ]
  },
  {
   "cell_type": "code",
   "execution_count": null,
   "id": "6c4e59cb-223b-4ee0-9c94-0c84717a09ef",
   "metadata": {},
   "outputs": [],
   "source": [
    "# 예측 정확도 평가(Accuracy를 통한 성능평가)\n",
    "from sklearn.metrics import accuracy_score, precision_score, recall_score, f1_score\n",
    "accuracy = accuracy_score(y_test, pred)   # 정확도\n",
    "precision = precision_score(y_test, pred) # 정밀도\n",
    "recall = recall_score(y_test, pred)       # 재현율\n",
    "f1 = f1_score(y_test, pred)               # f1_score\n",
    "\n",
    "print('정확도   : ', accuracy)\n",
    "print('정밀도   : ', precision)\n",
    "print('재현율   : ', recall)\n",
    "print('f1_score : ', f1)"
   ]
  },
  {
   "cell_type": "markdown",
   "id": "a04394b5-d9a4-491b-9e9f-b6ed8c43bb83",
   "metadata": {},
   "source": [
    "* 결론\n",
    "* 정확도는 맞춘 확률이라고 보면 된다.\n",
    "* 재현율(recall)\n",
    "    - 실제로 1(생존)에 대해 예측 1(생존)일 경우에 영향을 미친다.\n",
    "    - 실제 0(사망)에 대해 예측 1(생존)을 잘못 맞춘 경우에는 영향을 미치지 않는다.\n",
    "    - 그럼 지금과 같은 상황에서 실제 사망한 사람을 살았다고 예측한 거에 대한 영향이 없으면 문제가 생길 수 있을 것 같다.\n",
    "* 정밀도(precision)\n",
    "    - 예측 1(생존)에 대해 실제 1(생존)일 경우에 영향을 미친다.\n",
    "    - 실제 1(생존)을 예측 0(사망)으로 예측한 경우에는 척도에 영향을 미치지 않는다.\n",
    "    - 그럼 지금과 같은 상황에서 실제 1(생존)이라는 값을 0(사망)으로 잘못 예측하게 된다면, 재현율보다는 정밀도의 척도가 옳을 것이다.\n",
    "* 사망했다고 판단하였으나 살아서 돌아온다면 뭐라고 할 사람은 아무도 없을 것이다.\n",
    "* 하지만 반대로 생존했다고 판단했지만 실제로는 사망했다고 한다면, 이전의 판단보다는 파급효과가 클 것으로 보인다."
   ]
  }
 ],
 "metadata": {
  "kernelspec": {
   "display_name": "Python 3 (ipykernel)",
   "language": "python",
   "name": "python3"
  },
  "language_info": {
   "codemirror_mode": {
    "name": "ipython",
    "version": 3
   },
   "file_extension": ".py",
   "mimetype": "text/x-python",
   "name": "python",
   "nbconvert_exporter": "python",
   "pygments_lexer": "ipython3",
   "version": "3.11.7"
  }
 },
 "nbformat": 4,
 "nbformat_minor": 5
}
