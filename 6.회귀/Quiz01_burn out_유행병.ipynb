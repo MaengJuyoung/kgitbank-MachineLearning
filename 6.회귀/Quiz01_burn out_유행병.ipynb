{
 "cells": [
  {
   "cell_type": "markdown",
   "id": "ce774ab1-c61f-401f-b46b-1e74e640aabd",
   "metadata": {},
   "source": [
    "# 1. Quiz(burn_out_train.csv)\n",
    "* 모든 사람이 팬데믹(세계적 대유행) 상황으로 고통받고 있는 요즘, 정신 건강을 유지하기가 정말 어려워지고 있다.\n",
    "* 익명의 설문 조사에 따르면 전 세계적으로 약 4억 5천만 명의 사람들이 건강 악화와 장애의 주요 원인 중 하나가 될 수 있는 정신 장애를 안고 살고 있다.\n",
    "* 현재의 전염병 상황을 기반으로 회사에서 일하는 직원들의 능률이 떨어지는 이유가 무엇인지 알아보자\n",
    "* 제공된 다양한 조건에 따라 직원의 능률에 어떤 영향을 받는지 알아보자\n",
    "* 1. 어떤 경우에 Burn Rate과 연관이 있는지 확인하고 최적의 모델을 찾으시오.\n",
    "    - 결측치, 문자열, 이상치, 중복값, 시계열, 스케일러, 하이퍼파라미터, 변수 선택"
   ]
  },
  {
   "cell_type": "markdown",
   "id": "6fa8027a-c357-43fa-aa57-9fcb615e0e89",
   "metadata": {},
   "source": [
    "# 2. 컬럼\n",
    "* Employee ID : 사원별로 부여된 고유 ID (ex. fffe390032003000)\n",
    "* Date of Joining : 직원이 조직에 합류한 날짜(시간) (ex. 2008-12-30)\n",
    "* Gender : 사원의 성별(남-Male:1, 여-Female:0)\n",
    "* Company Type : 직원이 근무하는 회사의 유형(서비스-Service:1/ 제품-Product:0)\n",
    "* WFH Setup Available : 직원이 재택근무 시설을 이용할 수 있습니까 (Yes:1, No:0)\n",
    "* Designation : 회사에서 일하는 직원의 직책. [0.0, 5.0] 범위에서 클수록 높은 직책\n",
    "* Resource Allocation : 작업을 위해 직원에게 할당된 자원의 양. 즉, 근무 시간 수. [1.0, 10.0] 범위에서 높을 수록 더 많은 리소스를 의미\n",
    "* Mental Fatigue Score : 직원이 겪고 있는 정신적 피로 정도. [0.0, 10.0]범위에서 0.0:피로없음, 10.0:완전 피로함을 의미\n",
    "* Burn Rate : 근무 중 Burn out의 비율을 말하는 각 직원에 대해 예측해야 하는 값. [0.0, 1.0]범위에서 값이 높을수록 번아웃을 의미"
   ]
  },
  {
   "cell_type": "markdown",
   "id": "ec77a12e-285b-4643-96d2-9a8fdb442d8c",
   "metadata": {},
   "source": [
    "# 3. 데이터 전처리"
   ]
  },
  {
   "cell_type": "code",
   "execution_count": 2,
   "id": "b80e0ab4-0a5b-4445-a490-449e78d2726a",
   "metadata": {},
   "outputs": [
    {
     "name": "stdout",
     "output_type": "stream",
     "text": [
      "(22750, 9)\n"
     ]
    },
    {
     "data": {
      "text/html": [
       "<div>\n",
       "<style scoped>\n",
       "    .dataframe tbody tr th:only-of-type {\n",
       "        vertical-align: middle;\n",
       "    }\n",
       "\n",
       "    .dataframe tbody tr th {\n",
       "        vertical-align: top;\n",
       "    }\n",
       "\n",
       "    .dataframe thead th {\n",
       "        text-align: right;\n",
       "    }\n",
       "</style>\n",
       "<table border=\"1\" class=\"dataframe\">\n",
       "  <thead>\n",
       "    <tr style=\"text-align: right;\">\n",
       "      <th></th>\n",
       "      <th>Employee ID</th>\n",
       "      <th>Date of Joining</th>\n",
       "      <th>Gender</th>\n",
       "      <th>Company Type</th>\n",
       "      <th>WFH Setup Available</th>\n",
       "      <th>Designation</th>\n",
       "      <th>Resource Allocation</th>\n",
       "      <th>Mental Fatigue Score</th>\n",
       "      <th>Burn Rate</th>\n",
       "    </tr>\n",
       "  </thead>\n",
       "  <tbody>\n",
       "    <tr>\n",
       "      <th>0</th>\n",
       "      <td>fffe32003000360033003200</td>\n",
       "      <td>2008-09-30</td>\n",
       "      <td>Female</td>\n",
       "      <td>Service</td>\n",
       "      <td>No</td>\n",
       "      <td>2.0</td>\n",
       "      <td>3.0</td>\n",
       "      <td>3.8</td>\n",
       "      <td>0.16</td>\n",
       "    </tr>\n",
       "    <tr>\n",
       "      <th>1</th>\n",
       "      <td>fffe3700360033003500</td>\n",
       "      <td>2008-11-30</td>\n",
       "      <td>Male</td>\n",
       "      <td>Service</td>\n",
       "      <td>Yes</td>\n",
       "      <td>1.0</td>\n",
       "      <td>2.0</td>\n",
       "      <td>5.0</td>\n",
       "      <td>0.36</td>\n",
       "    </tr>\n",
       "    <tr>\n",
       "      <th>2</th>\n",
       "      <td>fffe31003300320037003900</td>\n",
       "      <td>2008-03-10</td>\n",
       "      <td>Female</td>\n",
       "      <td>Product</td>\n",
       "      <td>Yes</td>\n",
       "      <td>2.0</td>\n",
       "      <td>NaN</td>\n",
       "      <td>5.8</td>\n",
       "      <td>0.49</td>\n",
       "    </tr>\n",
       "    <tr>\n",
       "      <th>3</th>\n",
       "      <td>fffe32003400380032003900</td>\n",
       "      <td>2008-11-03</td>\n",
       "      <td>Male</td>\n",
       "      <td>Service</td>\n",
       "      <td>Yes</td>\n",
       "      <td>1.0</td>\n",
       "      <td>1.0</td>\n",
       "      <td>2.6</td>\n",
       "      <td>0.20</td>\n",
       "    </tr>\n",
       "    <tr>\n",
       "      <th>4</th>\n",
       "      <td>fffe31003900340031003600</td>\n",
       "      <td>2008-07-24</td>\n",
       "      <td>Female</td>\n",
       "      <td>Service</td>\n",
       "      <td>No</td>\n",
       "      <td>3.0</td>\n",
       "      <td>7.0</td>\n",
       "      <td>6.9</td>\n",
       "      <td>0.52</td>\n",
       "    </tr>\n",
       "  </tbody>\n",
       "</table>\n",
       "</div>"
      ],
      "text/plain": [
       "                Employee ID Date of Joining  Gender Company Type  \\\n",
       "0  fffe32003000360033003200      2008-09-30  Female      Service   \n",
       "1      fffe3700360033003500      2008-11-30    Male      Service   \n",
       "2  fffe31003300320037003900      2008-03-10  Female      Product   \n",
       "3  fffe32003400380032003900      2008-11-03    Male      Service   \n",
       "4  fffe31003900340031003600      2008-07-24  Female      Service   \n",
       "\n",
       "  WFH Setup Available  Designation  Resource Allocation  Mental Fatigue Score  \\\n",
       "0                  No          2.0                  3.0                   3.8   \n",
       "1                 Yes          1.0                  2.0                   5.0   \n",
       "2                 Yes          2.0                  NaN                   5.8   \n",
       "3                 Yes          1.0                  1.0                   2.6   \n",
       "4                  No          3.0                  7.0                   6.9   \n",
       "\n",
       "   Burn Rate  \n",
       "0       0.16  \n",
       "1       0.36  \n",
       "2       0.49  \n",
       "3       0.20  \n",
       "4       0.52  "
      ]
     },
     "execution_count": 2,
     "metadata": {},
     "output_type": "execute_result"
    }
   ],
   "source": [
    "import pandas as pd\n",
    "df = pd.read_csv('../data_set/6.회귀/burn_out_train.csv')\n",
    "print(df.shape)\n",
    "df.head()"
   ]
  },
  {
   "cell_type": "markdown",
   "id": "5560b73b-d639-4d0d-a5c7-56caf14ebb24",
   "metadata": {},
   "source": [
    "## 3.1 결측치"
   ]
  },
  {
   "cell_type": "code",
   "execution_count": null,
   "id": "97477fe1-8ccb-4489-b94f-80faad68db59",
   "metadata": {},
   "outputs": [],
   "source": [
    "# 결측치 확인"
   ]
  },
  {
   "cell_type": "code",
   "execution_count": 3,
   "id": "ca89bb93-18a2-4ff4-9a4a-864d012291a2",
   "metadata": {},
   "outputs": [
    {
     "data": {
      "text/plain": [
       "Employee ID                0\n",
       "Date of Joining            0\n",
       "Gender                     0\n",
       "Company Type               0\n",
       "WFH Setup Available        0\n",
       "Designation                0\n",
       "Resource Allocation     1381\n",
       "Mental Fatigue Score    2117\n",
       "Burn Rate               1124\n",
       "dtype: int64"
      ]
     },
     "execution_count": 3,
     "metadata": {},
     "output_type": "execute_result"
    }
   ],
   "source": [
    "df.isnull().sum()"
   ]
  },
  {
   "cell_type": "code",
   "execution_count": null,
   "id": "530bc9b7-bd84-4ae5-9676-0561afccb80e",
   "metadata": {},
   "outputs": [],
   "source": [
    "# 결측치 삭제 "
   ]
  },
  {
   "cell_type": "code",
   "execution_count": 5,
   "id": "0e3f115d-33ad-466a-9ee7-80bd3df077c7",
   "metadata": {},
   "outputs": [
    {
     "data": {
      "text/plain": [
       "Employee ID             0\n",
       "Date of Joining         0\n",
       "Gender                  0\n",
       "Company Type            0\n",
       "WFH Setup Available     0\n",
       "Designation             0\n",
       "Resource Allocation     0\n",
       "Mental Fatigue Score    0\n",
       "Burn Rate               0\n",
       "dtype: int64"
      ]
     },
     "execution_count": 5,
     "metadata": {},
     "output_type": "execute_result"
    }
   ],
   "source": [
    "df.dropna(inplace=True)\n",
    "df.isnull().sum()"
   ]
  },
  {
   "cell_type": "markdown",
   "id": "ad4531bd-1569-4329-9dff-bfa5a6da0270",
   "metadata": {},
   "source": [
    "## 3.2 문자열 처리"
   ]
  },
  {
   "cell_type": "code",
   "execution_count": null,
   "id": "f397a9fd-c199-4261-9579-c7d9a5199fcc",
   "metadata": {},
   "outputs": [],
   "source": [
    "# 문자열 확인"
   ]
  },
  {
   "cell_type": "code",
   "execution_count": 6,
   "id": "00f5e28c-a5c3-4353-819a-fb78256c5745",
   "metadata": {},
   "outputs": [
    {
     "data": {
      "text/plain": [
       "Employee ID              object\n",
       "Date of Joining          object\n",
       "Gender                   object\n",
       "Company Type             object\n",
       "WFH Setup Available      object\n",
       "Designation             float64\n",
       "Resource Allocation     float64\n",
       "Mental Fatigue Score    float64\n",
       "Burn Rate               float64\n",
       "dtype: object"
      ]
     },
     "execution_count": 6,
     "metadata": {},
     "output_type": "execute_result"
    }
   ],
   "source": [
    "df.dtypes"
   ]
  },
  {
   "cell_type": "code",
   "execution_count": 7,
   "id": "a05e1ffa-0c2a-4134-a396-dc34c74cf5a6",
   "metadata": {},
   "outputs": [
    {
     "data": {
      "text/plain": [
       "Index(['Employee ID', 'Date of Joining', 'Gender', 'Company Type',\n",
       "       'WFH Setup Available', 'Designation', 'Resource Allocation',\n",
       "       'Mental Fatigue Score', 'Burn Rate'],\n",
       "      dtype='object')"
      ]
     },
     "execution_count": 7,
     "metadata": {},
     "output_type": "execute_result"
    }
   ],
   "source": [
    "df.columns"
   ]
  },
  {
   "cell_type": "code",
   "execution_count": null,
   "id": "1f9d5cb0-68d9-4a60-87ae-0bd1f446155a",
   "metadata": {},
   "outputs": [],
   "source": [
    "# 문자열 데이터 확인"
   ]
  },
  {
   "cell_type": "code",
   "execution_count": 8,
   "id": "8919cbab-b389-4b9a-a0d4-52dcecf2711f",
   "metadata": {},
   "outputs": [
    {
     "name": "stdout",
     "output_type": "stream",
     "text": [
      "Date of Joining => ['2008-09-30' '2008-11-30' '2008-11-03' '2008-07-24' '2008-11-26'\n",
      " '2008-01-02' '2008-10-31' '2008-03-16' '2008-05-12' '2008-05-14'\n",
      " '2008-02-03' '2008-03-17' '2008-03-28' '2008-05-29' '2008-08-31'\n",
      " '2008-01-15' '2008-05-04' '2008-10-11' '2008-09-18' '2008-09-16'\n",
      " '2008-12-16' '2008-03-10' '2008-05-03' '2008-08-04' '2008-07-31'\n",
      " '2008-06-17' '2008-04-28' '2008-10-30' '2008-06-22' '2008-02-18'\n",
      " '2008-06-24' '2008-12-08' '2008-04-11' '2008-08-28' '2008-03-21'\n",
      " '2008-07-22' '2008-01-23' '2008-10-09' '2008-09-10' '2008-05-26'\n",
      " '2008-12-22' '2008-04-08' '2008-02-25' '2008-01-08' '2008-11-20'\n",
      " '2008-09-11' '2008-06-11' '2008-02-28' '2008-08-20' '2008-10-18'\n",
      " '2008-08-14' '2008-07-17' '2008-07-05' '2008-02-04' '2008-08-01'\n",
      " '2008-05-21' '2008-10-21' '2008-03-19' '2008-09-27' '2008-03-12'\n",
      " '2008-05-20' '2008-09-17' '2008-02-13' '2008-09-19' '2008-07-03'\n",
      " '2008-10-27' '2008-04-15' '2008-10-26' '2008-01-31' '2008-01-03'\n",
      " '2008-03-13' '2008-03-27' '2008-11-15' '2008-08-17' '2008-08-08'\n",
      " '2008-06-28' '2008-05-06' '2008-12-17' '2008-09-08' '2008-07-04'\n",
      " '2008-10-28' '2008-02-19' '2008-02-11' '2008-03-02' '2008-08-10'\n",
      " '2008-01-04' '2008-11-14' '2008-09-02' '2008-10-04' '2008-03-03'\n",
      " '2008-02-21' '2008-03-26' '2008-02-24' '2008-12-09' '2008-01-19'\n",
      " '2008-01-26' '2008-05-16' '2008-05-07' '2008-10-16' '2008-07-09'\n",
      " '2008-03-11' '2008-08-15' '2008-08-25' '2008-04-26' '2008-09-05'\n",
      " '2008-12-19' '2008-08-13' '2008-03-08' '2008-09-14' '2008-04-24'\n",
      " '2008-02-05' '2008-02-17' '2008-04-16' '2008-10-24' '2008-03-05'\n",
      " '2008-04-03' '2008-03-01' '2008-05-23' '2008-09-07' '2008-03-23'\n",
      " '2008-12-29' '2008-10-03' '2008-01-30' '2008-10-13' '2008-02-08'\n",
      " '2008-11-25' '2008-11-07' '2008-12-23' '2008-11-24' '2008-06-21'\n",
      " '2008-11-29' '2008-08-11' '2008-04-29' '2008-11-19' '2008-06-20'\n",
      " '2008-02-14' '2008-03-04' '2008-10-06' '2008-08-16' '2008-10-29'\n",
      " '2008-07-15' '2008-09-01' '2008-01-06' '2008-03-20' '2008-04-14'\n",
      " '2008-02-16' '2008-10-10' '2008-09-26' '2008-06-01' '2008-07-23'\n",
      " '2008-08-09' '2008-10-05' '2008-03-14' '2008-06-14' '2008-10-23'\n",
      " '2008-02-22' '2008-05-19' '2008-09-20' '2008-01-18' '2008-07-13'\n",
      " '2008-11-04' '2008-12-05' '2008-12-07' '2008-06-15' '2008-06-04'\n",
      " '2008-09-09' '2008-11-01' '2008-01-28' '2008-04-04' '2008-07-06'\n",
      " '2008-12-28' '2008-07-08' '2008-11-17' '2008-10-19' '2008-01-07'\n",
      " '2008-09-13' '2008-10-14' '2008-11-08' '2008-07-11' '2008-12-04'\n",
      " '2008-12-26' '2008-05-08' '2008-08-12' '2008-08-24' '2008-09-21'\n",
      " '2008-11-10' '2008-12-25' '2008-01-09' '2008-05-18' '2008-01-25'\n",
      " '2008-10-08' '2008-09-22' '2008-08-06' '2008-04-30' '2008-12-20'\n",
      " '2008-04-13' '2008-04-12' '2008-11-18' '2008-04-21' '2008-02-15'\n",
      " '2008-06-07' '2008-11-16' '2008-06-26' '2008-05-11' '2008-09-03'\n",
      " '2008-03-06' '2008-02-27' '2008-09-24' '2008-02-23' '2008-04-01'\n",
      " '2008-05-25' '2008-05-22' '2008-01-13' '2008-06-06' '2008-01-16'\n",
      " '2008-02-02' '2008-01-20' '2008-10-07' '2008-06-03' '2008-11-12'\n",
      " '2008-08-26' '2008-05-17' '2008-12-30' '2008-06-19' '2008-05-13'\n",
      " '2008-06-16' '2008-04-27' '2008-12-15' '2008-04-19' '2008-01-12'\n",
      " '2008-12-02' '2008-12-24' '2008-01-24' '2008-08-29' '2008-07-29'\n",
      " '2008-06-29' '2008-01-11' '2008-11-09' '2008-07-30' '2008-08-23'\n",
      " '2008-06-05' '2008-09-23' '2008-06-18' '2008-01-14' '2008-05-10'\n",
      " '2008-01-10' '2008-06-13' '2008-07-18' '2008-07-28' '2008-07-26'\n",
      " '2008-01-01' '2008-08-27' '2008-08-30' '2008-04-10' '2008-07-14'\n",
      " '2008-09-28' '2008-04-02' '2008-10-15' '2008-06-30' '2008-08-05'\n",
      " '2008-12-14' '2008-07-27' '2008-03-22' '2008-12-06' '2008-10-22'\n",
      " '2008-08-02' '2008-03-15' '2008-03-18' '2008-01-21' '2008-05-28'\n",
      " '2008-07-01' '2008-02-09' '2008-04-22' '2008-11-21' '2008-02-12'\n",
      " '2008-02-07' '2008-07-19' '2008-11-23' '2008-07-21' '2008-07-10'\n",
      " '2008-11-11' '2008-12-13' '2008-04-25' '2008-11-05' '2008-08-19'\n",
      " '2008-06-09' '2008-08-21' '2008-04-17' '2008-12-31' '2008-09-29'\n",
      " '2008-05-30' '2008-12-18' '2008-02-20' '2008-10-12' '2008-12-11'\n",
      " '2008-11-27' '2008-03-09' '2008-03-07' '2008-04-23' '2008-07-20'\n",
      " '2008-04-20' '2008-08-03' '2008-07-07' '2008-06-08' '2008-03-24'\n",
      " '2008-05-31' '2008-12-27' '2008-12-21' '2008-04-09' '2008-05-05'\n",
      " '2008-04-18' '2008-08-22' '2008-01-27' '2008-05-09' '2008-03-29'\n",
      " '2008-11-22' '2008-09-12' '2008-07-25' '2008-04-07' '2008-08-07'\n",
      " '2008-05-02' '2008-06-02' '2008-10-02' '2008-10-20' '2008-02-26'\n",
      " '2008-07-12' '2008-10-01' '2008-11-28' '2008-02-06' '2008-06-23'\n",
      " '2008-01-29' '2008-02-29' '2008-05-27' '2008-07-16' '2008-03-25'\n",
      " '2008-08-18' '2008-09-06' '2008-11-02' '2008-04-05' '2008-05-15'\n",
      " '2008-01-22' '2008-01-17' '2008-12-12' '2008-10-25' '2008-04-06'\n",
      " '2008-10-17' '2008-05-01' '2008-09-04' '2008-05-24' '2008-06-10'\n",
      " '2008-03-31' '2008-03-30' '2008-12-01' '2008-09-25' '2008-09-15'\n",
      " '2008-06-12' '2008-11-06' '2008-02-10' '2008-11-13' '2008-12-10'\n",
      " '2008-12-03' '2008-01-05' '2008-02-01' '2008-07-02' '2008-06-27'\n",
      " '2008-06-25']\n",
      "Gender => ['Female' 'Male']\n",
      "Company Type => ['Service' 'Product']\n",
      "WFH Setup Available => ['No' 'Yes']\n"
     ]
    }
   ],
   "source": [
    "li = ['Date of Joining', 'Gender', 'Company Type', 'WFH Setup Available']\n",
    "for i in li:\n",
    "    print(i, \"=>\", df[i].unique())"
   ]
  },
  {
   "cell_type": "code",
   "execution_count": 9,
   "id": "f1aa334f-c33a-4c1b-922a-6b8843ca9d03",
   "metadata": {},
   "outputs": [
    {
     "name": "stdout",
     "output_type": "stream",
     "text": [
      "Employee ID              object\n",
      "Date of Joining          object\n",
      "Gender                   object\n",
      "Company Type             object\n",
      "WFH Setup Available      object\n",
      "Designation             float64\n",
      "Resource Allocation     float64\n",
      "Mental Fatigue Score    float64\n",
      "Burn Rate               float64\n",
      "Gender_num                int32\n",
      "Company_Type_num          int32\n",
      "WFH_S_Available_num       int32\n",
      "dtype: object\n"
     ]
    },
    {
     "data": {
      "text/html": [
       "<div>\n",
       "<style scoped>\n",
       "    .dataframe tbody tr th:only-of-type {\n",
       "        vertical-align: middle;\n",
       "    }\n",
       "\n",
       "    .dataframe tbody tr th {\n",
       "        vertical-align: top;\n",
       "    }\n",
       "\n",
       "    .dataframe thead th {\n",
       "        text-align: right;\n",
       "    }\n",
       "</style>\n",
       "<table border=\"1\" class=\"dataframe\">\n",
       "  <thead>\n",
       "    <tr style=\"text-align: right;\">\n",
       "      <th></th>\n",
       "      <th>Employee ID</th>\n",
       "      <th>Date of Joining</th>\n",
       "      <th>Gender</th>\n",
       "      <th>Company Type</th>\n",
       "      <th>WFH Setup Available</th>\n",
       "      <th>Designation</th>\n",
       "      <th>Resource Allocation</th>\n",
       "      <th>Mental Fatigue Score</th>\n",
       "      <th>Burn Rate</th>\n",
       "      <th>Gender_num</th>\n",
       "      <th>Company_Type_num</th>\n",
       "      <th>WFH_S_Available_num</th>\n",
       "    </tr>\n",
       "  </thead>\n",
       "  <tbody>\n",
       "    <tr>\n",
       "      <th>0</th>\n",
       "      <td>fffe32003000360033003200</td>\n",
       "      <td>2008-09-30</td>\n",
       "      <td>Female</td>\n",
       "      <td>Service</td>\n",
       "      <td>No</td>\n",
       "      <td>2.0</td>\n",
       "      <td>3.0</td>\n",
       "      <td>3.8</td>\n",
       "      <td>0.16</td>\n",
       "      <td>0</td>\n",
       "      <td>1</td>\n",
       "      <td>0</td>\n",
       "    </tr>\n",
       "    <tr>\n",
       "      <th>1</th>\n",
       "      <td>fffe3700360033003500</td>\n",
       "      <td>2008-11-30</td>\n",
       "      <td>Male</td>\n",
       "      <td>Service</td>\n",
       "      <td>Yes</td>\n",
       "      <td>1.0</td>\n",
       "      <td>2.0</td>\n",
       "      <td>5.0</td>\n",
       "      <td>0.36</td>\n",
       "      <td>1</td>\n",
       "      <td>1</td>\n",
       "      <td>1</td>\n",
       "    </tr>\n",
       "    <tr>\n",
       "      <th>3</th>\n",
       "      <td>fffe32003400380032003900</td>\n",
       "      <td>2008-11-03</td>\n",
       "      <td>Male</td>\n",
       "      <td>Service</td>\n",
       "      <td>Yes</td>\n",
       "      <td>1.0</td>\n",
       "      <td>1.0</td>\n",
       "      <td>2.6</td>\n",
       "      <td>0.20</td>\n",
       "      <td>1</td>\n",
       "      <td>1</td>\n",
       "      <td>1</td>\n",
       "    </tr>\n",
       "    <tr>\n",
       "      <th>4</th>\n",
       "      <td>fffe31003900340031003600</td>\n",
       "      <td>2008-07-24</td>\n",
       "      <td>Female</td>\n",
       "      <td>Service</td>\n",
       "      <td>No</td>\n",
       "      <td>3.0</td>\n",
       "      <td>7.0</td>\n",
       "      <td>6.9</td>\n",
       "      <td>0.52</td>\n",
       "      <td>0</td>\n",
       "      <td>1</td>\n",
       "      <td>0</td>\n",
       "    </tr>\n",
       "    <tr>\n",
       "      <th>5</th>\n",
       "      <td>fffe3300350037003500</td>\n",
       "      <td>2008-11-26</td>\n",
       "      <td>Male</td>\n",
       "      <td>Product</td>\n",
       "      <td>Yes</td>\n",
       "      <td>2.0</td>\n",
       "      <td>4.0</td>\n",
       "      <td>3.6</td>\n",
       "      <td>0.29</td>\n",
       "      <td>1</td>\n",
       "      <td>0</td>\n",
       "      <td>1</td>\n",
       "    </tr>\n",
       "    <tr>\n",
       "      <th>...</th>\n",
       "      <td>...</td>\n",
       "      <td>...</td>\n",
       "      <td>...</td>\n",
       "      <td>...</td>\n",
       "      <td>...</td>\n",
       "      <td>...</td>\n",
       "      <td>...</td>\n",
       "      <td>...</td>\n",
       "      <td>...</td>\n",
       "      <td>...</td>\n",
       "      <td>...</td>\n",
       "      <td>...</td>\n",
       "    </tr>\n",
       "    <tr>\n",
       "      <th>22743</th>\n",
       "      <td>fffe3300390030003600</td>\n",
       "      <td>2008-12-15</td>\n",
       "      <td>Female</td>\n",
       "      <td>Product</td>\n",
       "      <td>Yes</td>\n",
       "      <td>1.0</td>\n",
       "      <td>3.0</td>\n",
       "      <td>6.0</td>\n",
       "      <td>0.48</td>\n",
       "      <td>0</td>\n",
       "      <td>0</td>\n",
       "      <td>1</td>\n",
       "    </tr>\n",
       "    <tr>\n",
       "      <th>22744</th>\n",
       "      <td>fffe32003500370033003200</td>\n",
       "      <td>2008-05-27</td>\n",
       "      <td>Male</td>\n",
       "      <td>Product</td>\n",
       "      <td>No</td>\n",
       "      <td>3.0</td>\n",
       "      <td>7.0</td>\n",
       "      <td>6.2</td>\n",
       "      <td>0.54</td>\n",
       "      <td>1</td>\n",
       "      <td>0</td>\n",
       "      <td>0</td>\n",
       "    </tr>\n",
       "    <tr>\n",
       "      <th>22746</th>\n",
       "      <td>fffe33003000350031003800</td>\n",
       "      <td>2008-01-19</td>\n",
       "      <td>Female</td>\n",
       "      <td>Product</td>\n",
       "      <td>Yes</td>\n",
       "      <td>3.0</td>\n",
       "      <td>6.0</td>\n",
       "      <td>6.7</td>\n",
       "      <td>0.59</td>\n",
       "      <td>0</td>\n",
       "      <td>0</td>\n",
       "      <td>1</td>\n",
       "    </tr>\n",
       "    <tr>\n",
       "      <th>22748</th>\n",
       "      <td>fffe33003300320036003900</td>\n",
       "      <td>2008-01-10</td>\n",
       "      <td>Female</td>\n",
       "      <td>Service</td>\n",
       "      <td>No</td>\n",
       "      <td>2.0</td>\n",
       "      <td>5.0</td>\n",
       "      <td>5.9</td>\n",
       "      <td>0.52</td>\n",
       "      <td>0</td>\n",
       "      <td>1</td>\n",
       "      <td>0</td>\n",
       "    </tr>\n",
       "    <tr>\n",
       "      <th>22749</th>\n",
       "      <td>fffe3400350031003800</td>\n",
       "      <td>2008-01-06</td>\n",
       "      <td>Male</td>\n",
       "      <td>Product</td>\n",
       "      <td>No</td>\n",
       "      <td>3.0</td>\n",
       "      <td>6.0</td>\n",
       "      <td>7.8</td>\n",
       "      <td>0.61</td>\n",
       "      <td>1</td>\n",
       "      <td>0</td>\n",
       "      <td>0</td>\n",
       "    </tr>\n",
       "  </tbody>\n",
       "</table>\n",
       "<p>18590 rows × 12 columns</p>\n",
       "</div>"
      ],
      "text/plain": [
       "                    Employee ID Date of Joining  Gender Company Type  \\\n",
       "0      fffe32003000360033003200      2008-09-30  Female      Service   \n",
       "1          fffe3700360033003500      2008-11-30    Male      Service   \n",
       "3      fffe32003400380032003900      2008-11-03    Male      Service   \n",
       "4      fffe31003900340031003600      2008-07-24  Female      Service   \n",
       "5          fffe3300350037003500      2008-11-26    Male      Product   \n",
       "...                         ...             ...     ...          ...   \n",
       "22743      fffe3300390030003600      2008-12-15  Female      Product   \n",
       "22744  fffe32003500370033003200      2008-05-27    Male      Product   \n",
       "22746  fffe33003000350031003800      2008-01-19  Female      Product   \n",
       "22748  fffe33003300320036003900      2008-01-10  Female      Service   \n",
       "22749      fffe3400350031003800      2008-01-06    Male      Product   \n",
       "\n",
       "      WFH Setup Available  Designation  Resource Allocation  \\\n",
       "0                      No          2.0                  3.0   \n",
       "1                     Yes          1.0                  2.0   \n",
       "3                     Yes          1.0                  1.0   \n",
       "4                      No          3.0                  7.0   \n",
       "5                     Yes          2.0                  4.0   \n",
       "...                   ...          ...                  ...   \n",
       "22743                 Yes          1.0                  3.0   \n",
       "22744                  No          3.0                  7.0   \n",
       "22746                 Yes          3.0                  6.0   \n",
       "22748                  No          2.0                  5.0   \n",
       "22749                  No          3.0                  6.0   \n",
       "\n",
       "       Mental Fatigue Score  Burn Rate  Gender_num  Company_Type_num  \\\n",
       "0                       3.8       0.16           0                 1   \n",
       "1                       5.0       0.36           1                 1   \n",
       "3                       2.6       0.20           1                 1   \n",
       "4                       6.9       0.52           0                 1   \n",
       "5                       3.6       0.29           1                 0   \n",
       "...                     ...        ...         ...               ...   \n",
       "22743                   6.0       0.48           0                 0   \n",
       "22744                   6.2       0.54           1                 0   \n",
       "22746                   6.7       0.59           0                 0   \n",
       "22748                   5.9       0.52           0                 1   \n",
       "22749                   7.8       0.61           1                 0   \n",
       "\n",
       "       WFH_S_Available_num  \n",
       "0                        0  \n",
       "1                        1  \n",
       "3                        1  \n",
       "4                        0  \n",
       "5                        1  \n",
       "...                    ...  \n",
       "22743                    1  \n",
       "22744                    0  \n",
       "22746                    1  \n",
       "22748                    0  \n",
       "22749                    0  \n",
       "\n",
       "[18590 rows x 12 columns]"
      ]
     },
     "execution_count": 9,
     "metadata": {},
     "output_type": "execute_result"
    }
   ],
   "source": [
    "from sklearn.preprocessing import LabelEncoder\n",
    "le = LabelEncoder()\n",
    "df['Gender_num'] = le.fit_transform(df['Gender'])\n",
    "df['Company_Type_num'] = le.fit_transform(df['Company Type'])\n",
    "df['WFH_S_Available_num'] = le.fit_transform(df['WFH Setup Available'])\n",
    "print(df.dtypes)\n",
    "df"
   ]
  },
  {
   "cell_type": "code",
   "execution_count": 10,
   "id": "5ed83f98-5150-4191-ab0f-e203d7bb29d4",
   "metadata": {},
   "outputs": [
    {
     "data": {
      "text/html": [
       "<div>\n",
       "<style scoped>\n",
       "    .dataframe tbody tr th:only-of-type {\n",
       "        vertical-align: middle;\n",
       "    }\n",
       "\n",
       "    .dataframe tbody tr th {\n",
       "        vertical-align: top;\n",
       "    }\n",
       "\n",
       "    .dataframe thead th {\n",
       "        text-align: right;\n",
       "    }\n",
       "</style>\n",
       "<table border=\"1\" class=\"dataframe\">\n",
       "  <thead>\n",
       "    <tr style=\"text-align: right;\">\n",
       "      <th></th>\n",
       "      <th>Designation</th>\n",
       "      <th>Resource Allocation</th>\n",
       "      <th>Mental Fatigue Score</th>\n",
       "      <th>Burn Rate</th>\n",
       "      <th>Gender_num</th>\n",
       "      <th>Company_Type_num</th>\n",
       "      <th>WFH_S_Available_num</th>\n",
       "    </tr>\n",
       "  </thead>\n",
       "  <tbody>\n",
       "    <tr>\n",
       "      <th>count</th>\n",
       "      <td>18590.000000</td>\n",
       "      <td>18590.000000</td>\n",
       "      <td>18590.000000</td>\n",
       "      <td>18590.000000</td>\n",
       "      <td>18590.000000</td>\n",
       "      <td>18590.000000</td>\n",
       "      <td>18590.000000</td>\n",
       "    </tr>\n",
       "    <tr>\n",
       "      <th>mean</th>\n",
       "      <td>2.179398</td>\n",
       "      <td>4.486552</td>\n",
       "      <td>5.732173</td>\n",
       "      <td>0.452444</td>\n",
       "      <td>0.475686</td>\n",
       "      <td>0.654868</td>\n",
       "      <td>0.539537</td>\n",
       "    </tr>\n",
       "    <tr>\n",
       "      <th>std</th>\n",
       "      <td>1.133148</td>\n",
       "      <td>2.044848</td>\n",
       "      <td>1.920547</td>\n",
       "      <td>0.197848</td>\n",
       "      <td>0.499422</td>\n",
       "      <td>0.475424</td>\n",
       "      <td>0.498448</td>\n",
       "    </tr>\n",
       "    <tr>\n",
       "      <th>min</th>\n",
       "      <td>0.000000</td>\n",
       "      <td>1.000000</td>\n",
       "      <td>0.000000</td>\n",
       "      <td>0.000000</td>\n",
       "      <td>0.000000</td>\n",
       "      <td>0.000000</td>\n",
       "      <td>0.000000</td>\n",
       "    </tr>\n",
       "    <tr>\n",
       "      <th>25%</th>\n",
       "      <td>1.000000</td>\n",
       "      <td>3.000000</td>\n",
       "      <td>4.600000</td>\n",
       "      <td>0.320000</td>\n",
       "      <td>0.000000</td>\n",
       "      <td>0.000000</td>\n",
       "      <td>0.000000</td>\n",
       "    </tr>\n",
       "    <tr>\n",
       "      <th>50%</th>\n",
       "      <td>2.000000</td>\n",
       "      <td>4.000000</td>\n",
       "      <td>5.900000</td>\n",
       "      <td>0.450000</td>\n",
       "      <td>0.000000</td>\n",
       "      <td>1.000000</td>\n",
       "      <td>1.000000</td>\n",
       "    </tr>\n",
       "    <tr>\n",
       "      <th>75%</th>\n",
       "      <td>3.000000</td>\n",
       "      <td>6.000000</td>\n",
       "      <td>7.100000</td>\n",
       "      <td>0.590000</td>\n",
       "      <td>1.000000</td>\n",
       "      <td>1.000000</td>\n",
       "      <td>1.000000</td>\n",
       "    </tr>\n",
       "    <tr>\n",
       "      <th>max</th>\n",
       "      <td>5.000000</td>\n",
       "      <td>10.000000</td>\n",
       "      <td>10.000000</td>\n",
       "      <td>1.000000</td>\n",
       "      <td>1.000000</td>\n",
       "      <td>1.000000</td>\n",
       "      <td>1.000000</td>\n",
       "    </tr>\n",
       "  </tbody>\n",
       "</table>\n",
       "</div>"
      ],
      "text/plain": [
       "        Designation  Resource Allocation  Mental Fatigue Score     Burn Rate  \\\n",
       "count  18590.000000         18590.000000          18590.000000  18590.000000   \n",
       "mean       2.179398             4.486552              5.732173      0.452444   \n",
       "std        1.133148             2.044848              1.920547      0.197848   \n",
       "min        0.000000             1.000000              0.000000      0.000000   \n",
       "25%        1.000000             3.000000              4.600000      0.320000   \n",
       "50%        2.000000             4.000000              5.900000      0.450000   \n",
       "75%        3.000000             6.000000              7.100000      0.590000   \n",
       "max        5.000000            10.000000             10.000000      1.000000   \n",
       "\n",
       "         Gender_num  Company_Type_num  WFH_S_Available_num  \n",
       "count  18590.000000      18590.000000         18590.000000  \n",
       "mean       0.475686          0.654868             0.539537  \n",
       "std        0.499422          0.475424             0.498448  \n",
       "min        0.000000          0.000000             0.000000  \n",
       "25%        0.000000          0.000000             0.000000  \n",
       "50%        0.000000          1.000000             1.000000  \n",
       "75%        1.000000          1.000000             1.000000  \n",
       "max        1.000000          1.000000             1.000000  "
      ]
     },
     "execution_count": 10,
     "metadata": {},
     "output_type": "execute_result"
    }
   ],
   "source": [
    "df.describe()\n",
    "# 이전 글에서 각각의 범위가 나왔었다. 이상치 확인결과 그 범위 안의 값들이라 이상치는 없다. "
   ]
  },
  {
   "cell_type": "markdown",
   "id": "94c5d3df-fc77-4327-a2fe-82e45c95c2c7",
   "metadata": {},
   "source": [
    "## 3.3 중복값"
   ]
  },
  {
   "cell_type": "code",
   "execution_count": 11,
   "id": "0ab6c73d-baaf-4af0-8bfb-301af4ff9eb1",
   "metadata": {},
   "outputs": [
    {
     "data": {
      "text/plain": [
       "0"
      ]
     },
     "execution_count": 11,
     "metadata": {},
     "output_type": "execute_result"
    }
   ],
   "source": [
    "df.duplicated().sum()"
   ]
  },
  {
   "cell_type": "markdown",
   "id": "7e529946-63ca-41b6-9261-5f104f831982",
   "metadata": {},
   "source": [
    "## 3.4 시계열"
   ]
  },
  {
   "cell_type": "code",
   "execution_count": 12,
   "id": "6666a9bd-057b-4f8d-bcaf-66ec0ee166ff",
   "metadata": {},
   "outputs": [],
   "source": [
    "df['new_date'] = pd.to_datetime(df['Date of Joining'])"
   ]
  },
  {
   "cell_type": "code",
   "execution_count": 13,
   "id": "5f5c81f0-f368-4328-93ec-c203f705542d",
   "metadata": {},
   "outputs": [
    {
     "data": {
      "text/html": [
       "<div>\n",
       "<style scoped>\n",
       "    .dataframe tbody tr th:only-of-type {\n",
       "        vertical-align: middle;\n",
       "    }\n",
       "\n",
       "    .dataframe tbody tr th {\n",
       "        vertical-align: top;\n",
       "    }\n",
       "\n",
       "    .dataframe thead th {\n",
       "        text-align: right;\n",
       "    }\n",
       "</style>\n",
       "<table border=\"1\" class=\"dataframe\">\n",
       "  <thead>\n",
       "    <tr style=\"text-align: right;\">\n",
       "      <th></th>\n",
       "      <th>0</th>\n",
       "      <th>1</th>\n",
       "      <th>3</th>\n",
       "      <th>4</th>\n",
       "      <th>5</th>\n",
       "    </tr>\n",
       "  </thead>\n",
       "  <tbody>\n",
       "    <tr>\n",
       "      <th>Employee ID</th>\n",
       "      <td>fffe32003000360033003200</td>\n",
       "      <td>fffe3700360033003500</td>\n",
       "      <td>fffe32003400380032003900</td>\n",
       "      <td>fffe31003900340031003600</td>\n",
       "      <td>fffe3300350037003500</td>\n",
       "    </tr>\n",
       "    <tr>\n",
       "      <th>Date of Joining</th>\n",
       "      <td>2008-09-30</td>\n",
       "      <td>2008-11-30</td>\n",
       "      <td>2008-11-03</td>\n",
       "      <td>2008-07-24</td>\n",
       "      <td>2008-11-26</td>\n",
       "    </tr>\n",
       "    <tr>\n",
       "      <th>Gender</th>\n",
       "      <td>Female</td>\n",
       "      <td>Male</td>\n",
       "      <td>Male</td>\n",
       "      <td>Female</td>\n",
       "      <td>Male</td>\n",
       "    </tr>\n",
       "    <tr>\n",
       "      <th>Company Type</th>\n",
       "      <td>Service</td>\n",
       "      <td>Service</td>\n",
       "      <td>Service</td>\n",
       "      <td>Service</td>\n",
       "      <td>Product</td>\n",
       "    </tr>\n",
       "    <tr>\n",
       "      <th>WFH Setup Available</th>\n",
       "      <td>No</td>\n",
       "      <td>Yes</td>\n",
       "      <td>Yes</td>\n",
       "      <td>No</td>\n",
       "      <td>Yes</td>\n",
       "    </tr>\n",
       "    <tr>\n",
       "      <th>Designation</th>\n",
       "      <td>2.0</td>\n",
       "      <td>1.0</td>\n",
       "      <td>1.0</td>\n",
       "      <td>3.0</td>\n",
       "      <td>2.0</td>\n",
       "    </tr>\n",
       "    <tr>\n",
       "      <th>Resource Allocation</th>\n",
       "      <td>3.0</td>\n",
       "      <td>2.0</td>\n",
       "      <td>1.0</td>\n",
       "      <td>7.0</td>\n",
       "      <td>4.0</td>\n",
       "    </tr>\n",
       "    <tr>\n",
       "      <th>Mental Fatigue Score</th>\n",
       "      <td>3.8</td>\n",
       "      <td>5.0</td>\n",
       "      <td>2.6</td>\n",
       "      <td>6.9</td>\n",
       "      <td>3.6</td>\n",
       "    </tr>\n",
       "    <tr>\n",
       "      <th>Burn Rate</th>\n",
       "      <td>0.16</td>\n",
       "      <td>0.36</td>\n",
       "      <td>0.2</td>\n",
       "      <td>0.52</td>\n",
       "      <td>0.29</td>\n",
       "    </tr>\n",
       "    <tr>\n",
       "      <th>Gender_num</th>\n",
       "      <td>0</td>\n",
       "      <td>1</td>\n",
       "      <td>1</td>\n",
       "      <td>0</td>\n",
       "      <td>1</td>\n",
       "    </tr>\n",
       "    <tr>\n",
       "      <th>Company_Type_num</th>\n",
       "      <td>1</td>\n",
       "      <td>1</td>\n",
       "      <td>1</td>\n",
       "      <td>1</td>\n",
       "      <td>0</td>\n",
       "    </tr>\n",
       "    <tr>\n",
       "      <th>WFH_S_Available_num</th>\n",
       "      <td>0</td>\n",
       "      <td>1</td>\n",
       "      <td>1</td>\n",
       "      <td>0</td>\n",
       "      <td>1</td>\n",
       "    </tr>\n",
       "    <tr>\n",
       "      <th>new_date</th>\n",
       "      <td>2008-09-30 00:00:00</td>\n",
       "      <td>2008-11-30 00:00:00</td>\n",
       "      <td>2008-11-03 00:00:00</td>\n",
       "      <td>2008-07-24 00:00:00</td>\n",
       "      <td>2008-11-26 00:00:00</td>\n",
       "    </tr>\n",
       "    <tr>\n",
       "      <th>year</th>\n",
       "      <td>2008</td>\n",
       "      <td>2008</td>\n",
       "      <td>2008</td>\n",
       "      <td>2008</td>\n",
       "      <td>2008</td>\n",
       "    </tr>\n",
       "    <tr>\n",
       "      <th>month</th>\n",
       "      <td>9</td>\n",
       "      <td>11</td>\n",
       "      <td>11</td>\n",
       "      <td>7</td>\n",
       "      <td>11</td>\n",
       "    </tr>\n",
       "    <tr>\n",
       "      <th>day</th>\n",
       "      <td>30</td>\n",
       "      <td>30</td>\n",
       "      <td>3</td>\n",
       "      <td>24</td>\n",
       "      <td>26</td>\n",
       "    </tr>\n",
       "  </tbody>\n",
       "</table>\n",
       "</div>"
      ],
      "text/plain": [
       "                                             0                     1  \\\n",
       "Employee ID           fffe32003000360033003200  fffe3700360033003500   \n",
       "Date of Joining                     2008-09-30            2008-11-30   \n",
       "Gender                                  Female                  Male   \n",
       "Company Type                           Service               Service   \n",
       "WFH Setup Available                         No                   Yes   \n",
       "Designation                                2.0                   1.0   \n",
       "Resource Allocation                        3.0                   2.0   \n",
       "Mental Fatigue Score                       3.8                   5.0   \n",
       "Burn Rate                                 0.16                  0.36   \n",
       "Gender_num                                   0                     1   \n",
       "Company_Type_num                             1                     1   \n",
       "WFH_S_Available_num                          0                     1   \n",
       "new_date                   2008-09-30 00:00:00   2008-11-30 00:00:00   \n",
       "year                                      2008                  2008   \n",
       "month                                        9                    11   \n",
       "day                                         30                    30   \n",
       "\n",
       "                                             3                         4  \\\n",
       "Employee ID           fffe32003400380032003900  fffe31003900340031003600   \n",
       "Date of Joining                     2008-11-03                2008-07-24   \n",
       "Gender                                    Male                    Female   \n",
       "Company Type                           Service                   Service   \n",
       "WFH Setup Available                        Yes                        No   \n",
       "Designation                                1.0                       3.0   \n",
       "Resource Allocation                        1.0                       7.0   \n",
       "Mental Fatigue Score                       2.6                       6.9   \n",
       "Burn Rate                                  0.2                      0.52   \n",
       "Gender_num                                   1                         0   \n",
       "Company_Type_num                             1                         1   \n",
       "WFH_S_Available_num                          1                         0   \n",
       "new_date                   2008-11-03 00:00:00       2008-07-24 00:00:00   \n",
       "year                                      2008                      2008   \n",
       "month                                       11                         7   \n",
       "day                                          3                        24   \n",
       "\n",
       "                                         5  \n",
       "Employee ID           fffe3300350037003500  \n",
       "Date of Joining                 2008-11-26  \n",
       "Gender                                Male  \n",
       "Company Type                       Product  \n",
       "WFH Setup Available                    Yes  \n",
       "Designation                            2.0  \n",
       "Resource Allocation                    4.0  \n",
       "Mental Fatigue Score                   3.6  \n",
       "Burn Rate                             0.29  \n",
       "Gender_num                               1  \n",
       "Company_Type_num                         0  \n",
       "WFH_S_Available_num                      1  \n",
       "new_date               2008-11-26 00:00:00  \n",
       "year                                  2008  \n",
       "month                                   11  \n",
       "day                                     26  "
      ]
     },
     "execution_count": 13,
     "metadata": {},
     "output_type": "execute_result"
    }
   ],
   "source": [
    "df['year'] = df['new_date'].dt.year\n",
    "df['month'] = df['new_date'].dt.month\n",
    "df['day'] = df['new_date'].dt.day\n",
    "df.head().T"
   ]
  },
  {
   "cell_type": "markdown",
   "id": "d6ab319f-9c05-4fea-9f61-e932eb2bcda7",
   "metadata": {},
   "source": [
    "# 4. 탐색적 데이터 분석(ERD)\n",
    "## 4.1 상관계수 "
   ]
  },
  {
   "cell_type": "code",
   "execution_count": 15,
   "id": "2a04109d-64df-4f14-badc-86c0185e7942",
   "metadata": {},
   "outputs": [
    {
     "data": {
      "text/plain": [
       "<Axes: >"
      ]
     },
     "execution_count": 15,
     "metadata": {},
     "output_type": "execute_result"
    },
    {
     "data": {
      "image/png": "[encoded data removed]",
      "text/plain": [
       "<Figure size 1600x800 with 2 Axes>"
      ]
     },
     "metadata": {},
     "output_type": "display_data"
    }
   ],
   "source": [
    "import matplotlib.pyplot as plt\n",
    "import seaborn as sns\n",
    "fig, ax1 = plt.subplots()\n",
    "fig.set_size_inches(16, 8)\n",
    "sns.heatmap(df.corr(numeric_only=True), ax=ax1)"
   ]
  },
  {
   "cell_type": "code",
   "execution_count": 16,
   "id": "a4eada3f-ea06-41c2-aaa4-dc072d6e477e",
   "metadata": {},
   "outputs": [
    {
     "data": {
      "text/plain": [
       "array([2008])"
      ]
     },
     "execution_count": 16,
     "metadata": {},
     "output_type": "execute_result"
    }
   ],
   "source": [
    "df['year'].unique()\n",
    "# 년도는 2008년 하나밖에 없어 탐색적 데이터 분석에서는 해당 데이터를 제외할 것이다. "
   ]
  },
  {
   "cell_type": "code",
   "execution_count": null,
   "id": "f4f16d4a-dca7-405d-a6c8-e308e7a3250c",
   "metadata": {},
   "outputs": [],
   "source": [
    "# 월별 남/녀 burn rate(근무 중 번아웃의 비율) 확인"
   ]
  },
  {
   "cell_type": "code",
   "execution_count": 17,
   "id": "4ee9c5bf-d8c5-4417-939a-71db5bca4e33",
   "metadata": {},
   "outputs": [
    {
     "data": {
      "text/plain": [
       "<Axes: xlabel='month', ylabel='Burn Rate'>"
      ]
     },
     "execution_count": 17,
     "metadata": {},
     "output_type": "execute_result"
    },
    {
     "data": {
      "image/png": "[encoded data removed]",
      "text/plain": [
       "<Figure size 640x480 with 1 Axes>"
      ]
     },
     "metadata": {},
     "output_type": "display_data"
    }
   ],
   "source": [
    "sns.barplot(data=df, x='month', y='Burn Rate', hue='Gender')"
   ]
  },
  {
   "cell_type": "markdown",
   "id": "9ea1eb12-1993-4a1b-a570-98cb01acdf6c",
   "metadata": {},
   "source": [
    "* 특정 월에 더 스트레스를 받거나 하는 큰 차이는 없다. \n",
    "* 그 대신 여성보다 남성이 더 스트레스를 많이 받는다는 것을 알 수 있다. \n",
    "* 그렇다고 하는 건 직급 또는 일하는 양이 여성보다 남성이 더 많을 가능성이 있다. \n",
    "* 혹은 남성의 멘달이 많이 약할 수 있다고 볼 수 있다. \n",
    "* 위의 결과에서 남성과 여성의 직급 또는 일하는 시간이 많을 수 있다고 짐작했으니 확인해보도록 하자.\n",
    "* Designation : 회사에서 일하는 직원의 직책. 0.0~5.0 범위에서 클수록 높은 직책"
   ]
  },
  {
   "cell_type": "code",
   "execution_count": 18,
   "id": "46ea457f-b08b-4c3c-b200-75f243820095",
   "metadata": {},
   "outputs": [
    {
     "data": {
      "text/plain": [
       "<Axes: xlabel='month', ylabel='Designation'>"
      ]
     },
     "execution_count": 18,
     "metadata": {},
     "output_type": "execute_result"
    },
    {
     "data": {
      "image/png": "[encoded data removed]",
      "text/plain": [
       "<Figure size 640x480 with 1 Axes>"
      ]
     },
     "metadata": {},
     "output_type": "display_data"
    }
   ],
   "source": [
    "sns.barplot(data=df, x='month', y='Designation', hue='Gender')"
   ]
  },
  {
   "cell_type": "markdown",
   "id": "e3b7503b-90ca-4d30-91e6-0161b01ef84d",
   "metadata": {},
   "source": [
    "* 확인 결과 여성보다 남성의 직급이 높다는 것을 알 수 있다.\n",
    "* 그럼 직책별 일하는 시간을 확인해보도록 하자.\n",
    "* Resource Allocation : 작업을 위해 직원에게 할당된 자원의 양. 즉, 근무 시간 수. 1.0~10.0 범위에서 높을수록 더 많은 양을 의미 "
   ]
  },
  {
   "cell_type": "code",
   "execution_count": 19,
   "id": "5176318f-e6a4-490d-b3e3-5544e334906a",
   "metadata": {},
   "outputs": [
    {
     "data": {
      "text/plain": [
       "<Axes: xlabel='Designation', ylabel='Resource Allocation'>"
      ]
     },
     "execution_count": 19,
     "metadata": {},
     "output_type": "execute_result"
    },
    {
     "data": {
      "image/png": "[encoded data removed]",
      "text/plain": [
       "<Figure size 640x480 with 1 Axes>"
      ]
     },
     "metadata": {},
     "output_type": "display_data"
    }
   ],
   "source": [
    "sns.barplot(data=df, x='Designation', y='Resource Allocation', hue='Gender')"
   ]
  },
  {
   "cell_type": "markdown",
   "id": "8279ef25-8696-44c5-89db-27d44d003360",
   "metadata": {},
   "source": [
    "* 단순히 위의 내용을 봤을 땐 남성이 직책이 높아 일을 많이 해서 번아웃이 큰가 했는데 그렇지 않다는 것을 알 수 있다.\n",
    "* 직책이 높은 경우 여성이 남성보다 일을 더 많이 한다는 것을 알 수 있다.\n",
    "* 지금 상황으로만 봤을 땐 여성보다 남성의 멘탈이 약하지 않을까 생각이 든다. "
   ]
  },
  {
   "cell_type": "code",
   "execution_count": 20,
   "id": "4c496131-cf42-4e77-bdda-b92b7bdda89d",
   "metadata": {},
   "outputs": [
    {
     "data": {
      "text/plain": [
       "<Axes: xlabel='Resource Allocation', ylabel='Designation'>"
      ]
     },
     "execution_count": 20,
     "metadata": {},
     "output_type": "execute_result"
    },
    {
     "data": {
      "image/png": "[encoded data removed]",
      "text/plain": [
       "<Figure size 640x480 with 1 Axes>"
      ]
     },
     "metadata": {},
     "output_type": "display_data"
    }
   ],
   "source": [
    "sns.scatterplot(data=df, x='Resource Allocation', y='Designation', hue='Gender')"
   ]
  },
  {
   "cell_type": "markdown",
   "id": "6c84fc50-5702-4afb-9b6f-325be53a894b",
   "metadata": {},
   "source": [
    "* 우 상향을 한다는 것은 두 개가 상관관계가 높다고 볼 수 있다.\n",
    "* 즉, 직책이 높을수록 일하는 시간이 더 많아 스트레스를 더 많이 받는다는 것을 알 수 있다.\n",
    "  "
   ]
  },
  {
   "cell_type": "code",
   "execution_count": null,
   "id": "330a3650-f4db-4148-86f5-80e979cac6f9",
   "metadata": {},
   "outputs": [],
   "source": [
    "# 근무시간에 따른 번아웃"
   ]
  },
  {
   "cell_type": "code",
   "execution_count": null,
   "id": "72e2ce93-1e86-4d43-9e58-7cce8557423f",
   "metadata": {},
   "outputs": [],
   "source": []
  },
  {
   "cell_type": "code",
   "execution_count": null,
   "id": "3f80bb9c-19f4-4f6f-b244-4efc520731e7",
   "metadata": {},
   "outputs": [],
   "source": []
  },
  {
   "cell_type": "code",
   "execution_count": null,
   "id": "6bfaebc5-89da-414b-af6d-4b075f18e1ab",
   "metadata": {},
   "outputs": [],
   "source": [
    "# 직책이 높을수록 일을 많이 하나??"
   ]
  },
  {
   "cell_type": "code",
   "execution_count": null,
   "id": "ef380f18-569b-430a-8b4f-ad1cfd81edff",
   "metadata": {},
   "outputs": [],
   "source": []
  },
  {
   "cell_type": "code",
   "execution_count": null,
   "id": "7a22d345-3cca-459e-b806-6dbf6584494e",
   "metadata": {},
   "outputs": [],
   "source": []
  },
  {
   "cell_type": "code",
   "execution_count": null,
   "id": "cff93234-d879-4157-a2b4-1cbbbccb997c",
   "metadata": {},
   "outputs": [],
   "source": [
    "# 직업별 차이가 있는가?\n",
    "# Company Type : 직원이 근무하는 회사의 유형 (서비스-Service:1, 제품-Product:0)"
   ]
  },
  {
   "cell_type": "code",
   "execution_count": null,
   "id": "4fc3075d-079b-4c4d-bd55-d6ab5b8db412",
   "metadata": {},
   "outputs": [],
   "source": []
  },
  {
   "cell_type": "code",
   "execution_count": null,
   "id": "ed2331d6-8869-4637-b695-9f0ce0bc16a8",
   "metadata": {},
   "outputs": [],
   "source": []
  },
  {
   "cell_type": "markdown",
   "id": "3ccf8c5d-41f8-4521-949b-eb124e292cb8",
   "metadata": {},
   "source": [
    "# 5. 모델링\n",
    "## 5.1 train, test 셋 분리"
   ]
  },
  {
   "cell_type": "code",
   "execution_count": null,
   "id": "4cd55e80-5637-4fd9-8a1e-1b582200dbfd",
   "metadata": {},
   "outputs": [],
   "source": []
  },
  {
   "cell_type": "code",
   "execution_count": null,
   "id": "f821312c-435a-4195-9926-db8ae0d886d0",
   "metadata": {},
   "outputs": [],
   "source": []
  },
  {
   "cell_type": "markdown",
   "id": "cc3f7661-692d-48b9-8791-03a1943ffed9",
   "metadata": {},
   "source": [
    "## 5.2 KNN 모델"
   ]
  },
  {
   "cell_type": "code",
   "execution_count": null,
   "id": "e8884471-c55c-433d-bc81-08ac16455a19",
   "metadata": {},
   "outputs": [],
   "source": []
  },
  {
   "cell_type": "markdown",
   "id": "95ab83fe-5b58-4bc8-a888-be953b8e6092",
   "metadata": {},
   "source": [
    "### 5.2.1 스케일링"
   ]
  },
  {
   "cell_type": "code",
   "execution_count": null,
   "id": "ab1abd13-9de6-4275-b3ff-5582e1fc40ed",
   "metadata": {},
   "outputs": [],
   "source": []
  },
  {
   "cell_type": "markdown",
   "id": "e379e3ed-607d-4dd5-bee4-9d6b031ea637",
   "metadata": {},
   "source": [
    "### 5.2.2 GridSearchCV"
   ]
  },
  {
   "cell_type": "code",
   "execution_count": null,
   "id": "c0fe3e48-73df-4221-9095-28b04ae6b804",
   "metadata": {},
   "outputs": [],
   "source": []
  },
  {
   "cell_type": "markdown",
   "id": "f0a9405d-9a22-4ed0-917e-8b681134393e",
   "metadata": {},
   "source": [
    "## 5.3 SVR 모델"
   ]
  },
  {
   "cell_type": "markdown",
   "id": "92111b01-6c4e-4279-9c71-c33e28d07c19",
   "metadata": {},
   "source": [
    "### 5.3.1 선형모델"
   ]
  },
  {
   "cell_type": "code",
   "execution_count": null,
   "id": "eb9f3cce-8748-40ba-a868-940ddf9d27a6",
   "metadata": {},
   "outputs": [],
   "source": []
  },
  {
   "cell_type": "markdown",
   "id": "0521e1dc-5b32-4c32-a221-1da27a4b1ea1",
   "metadata": {},
   "source": [
    "### 5.3.2 비선형모델"
   ]
  },
  {
   "cell_type": "code",
   "execution_count": null,
   "id": "c4fc7453-d090-46d5-8ca3-0def246e53b3",
   "metadata": {},
   "outputs": [],
   "source": []
  },
  {
   "cell_type": "markdown",
   "id": "0e9931d1-d899-4bc7-a9a4-7426a1cb7b72",
   "metadata": {},
   "source": [
    "### 5.3.3 스케일링(StandardScaler)"
   ]
  },
  {
   "cell_type": "code",
   "execution_count": null,
   "id": "642b160f-2093-4939-9944-d43ed26d710a",
   "metadata": {},
   "outputs": [],
   "source": []
  },
  {
   "cell_type": "markdown",
   "id": "35f19ca2-3916-4d45-b2ab-51bf35305bf8",
   "metadata": {},
   "source": [
    "### 5.3.4 선형모델 스케일 적용"
   ]
  },
  {
   "cell_type": "code",
   "execution_count": null,
   "id": "611b932c-d463-47ec-a401-f2036c437e45",
   "metadata": {},
   "outputs": [],
   "source": []
  },
  {
   "cell_type": "markdown",
   "id": "2581f343-6485-4ffb-a362-d2f06d5674c2",
   "metadata": {},
   "source": [
    "### 5.3.5 비선형 모델 스케일 적용"
   ]
  },
  {
   "cell_type": "code",
   "execution_count": null,
   "id": "1b873b69-efc8-45dc-ba29-d1ec62c74ea3",
   "metadata": {},
   "outputs": [],
   "source": []
  },
  {
   "cell_type": "markdown",
   "id": "ee970b7f-051e-4785-9746-d9656f744ac1",
   "metadata": {},
   "source": [
    "### 5.3.6 GridSearchCV(선형모델)"
   ]
  },
  {
   "cell_type": "code",
   "execution_count": null,
   "id": "28f2d951-36de-4624-a74c-308dc4e0f745",
   "metadata": {},
   "outputs": [],
   "source": []
  },
  {
   "cell_type": "markdown",
   "id": "d942dcf6-ae96-490a-b543-561badec3830",
   "metadata": {},
   "source": [
    "### 5.3.7 GridSearchCV(비선형모델)"
   ]
  },
  {
   "cell_type": "code",
   "execution_count": null,
   "id": "330fd3d4-847d-4352-a529-9e23d00f1dcb",
   "metadata": {},
   "outputs": [],
   "source": []
  },
  {
   "cell_type": "markdown",
   "id": "72510ff3-388d-41ee-b48f-d8cc92db4270",
   "metadata": {},
   "source": [
    "## 5.4 RandomForest"
   ]
  },
  {
   "cell_type": "code",
   "execution_count": null,
   "id": "5b00f1dc-de70-4248-8cbe-f3aa36012817",
   "metadata": {},
   "outputs": [],
   "source": []
  },
  {
   "cell_type": "markdown",
   "id": "87f174ee-71ce-41cd-b553-26daa3e35ee6",
   "metadata": {},
   "source": [
    "### 5.4.1 GridSearchCV"
   ]
  },
  {
   "cell_type": "code",
   "execution_count": null,
   "id": "af5c1229-aa3d-47bf-92f4-cc27676ed1c0",
   "metadata": {},
   "outputs": [],
   "source": []
  },
  {
   "cell_type": "markdown",
   "id": "2d6bd155-27cc-4bcb-b574-255335cc93cc",
   "metadata": {},
   "source": [
    "## 5.5 GBM"
   ]
  },
  {
   "cell_type": "code",
   "execution_count": null,
   "id": "2e430c19-9f22-4cbb-96c9-de26406c9801",
   "metadata": {},
   "outputs": [],
   "source": []
  },
  {
   "cell_type": "markdown",
   "id": "c89770c0-6b3f-4980-9b4a-a4558b051503",
   "metadata": {},
   "source": [
    "### 5.5.1 GridSearchCV"
   ]
  },
  {
   "cell_type": "code",
   "execution_count": null,
   "id": "98bcfa22-406d-49ec-8780-9c4532182e1a",
   "metadata": {},
   "outputs": [],
   "source": []
  },
  {
   "cell_type": "markdown",
   "id": "720d08e7-4c5a-4dac-92db-2004278ca35f",
   "metadata": {},
   "source": [
    "# 6. REF 변수 중요도"
   ]
  },
  {
   "cell_type": "code",
   "execution_count": null,
   "id": "a25c9168-85f7-4c40-a142-aa8294ea8ab7",
   "metadata": {},
   "outputs": [],
   "source": []
  },
  {
   "cell_type": "markdown",
   "id": "8bad046e-a273-4c78-b15c-024e415b4661",
   "metadata": {},
   "source": [
    "# 7. 임베드(embed) 변수 중요도 "
   ]
  },
  {
   "cell_type": "code",
   "execution_count": null,
   "id": "620c74fc-c2e5-458e-9a62-f5829d3209dc",
   "metadata": {},
   "outputs": [],
   "source": []
  },
  {
   "cell_type": "code",
   "execution_count": null,
   "id": "54314610-a774-4847-b411-a1073a8f2a0e",
   "metadata": {},
   "outputs": [],
   "source": []
  }
 ],
 "metadata": {
  "kernelspec": {
   "display_name": "Python 3 (ipykernel)",
   "language": "python",
   "name": "python3"
  },
  "language_info": {
   "codemirror_mode": {
    "name": "ipython",
    "version": 3
   },
   "file_extension": ".py",
   "mimetype": "text/x-python",
   "name": "python",
   "nbconvert_exporter": "python",
   "pygments_lexer": "ipython3",
   "version": "3.11.7"
  }
 },
 "nbformat": 4,
 "nbformat_minor": 5
}
